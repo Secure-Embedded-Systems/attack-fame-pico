{
 "cells": [
  {
   "cell_type": "markdown",
   "metadata": {},
   "source": [
    "# Setup CW"
   ]
  },
  {
   "cell_type": "code",
   "execution_count": 220,
   "metadata": {},
   "outputs": [],
   "source": [
    "import chipwhisperer as cw\n",
    "scope = cw.scope()\n",
    "target = cw.target(scope)\n",
    "scope.default_setup()"
   ]
  },
  {
   "cell_type": "markdown",
   "metadata": {},
   "source": [
    "# Setup Scope"
   ]
  },
  {
   "cell_type": "code",
   "execution_count": 341,
   "metadata": {},
   "outputs": [],
   "source": [
    "from tqdm.notebook import trange\n",
    "import numpy as np\n",
    "\n",
    "scope.io.tio1 = 'serial_tx'\n",
    "scope.io.tio2 = 'serial_rx'\n",
    "scope.trigger.triggers = \"nrst\"\n",
    "\n",
    "scope.gain.db = 56\n",
    "scope.adc.samples = 11500\n",
    "scope.adc.offset = 0\n",
    "scope.adc.decimate = 1\n",
    "scope.clock.clkgen_freq = 4000000 \n",
    "N = 100000\n",
    "\n",
    "cmd=bytearray([255]*1)\n",
    "\n",
    "ktp = cw.ktp.Basic() \n",
    "ktp.setInitialKey(\"54 ee ff 11 21 32 eb 43 bb aa ff 23 98 54 12 12\")"
   ]
  },
  {
   "cell_type": "markdown",
   "metadata": {},
   "source": [
    "# Collect Traces"
   ]
  },
  {
   "cell_type": "code",
   "execution_count": 343,
   "metadata": {},
   "outputs": [],
   "source": [
    "#%run \"../swaes/real_time_plot.ipynb\"\n",
    "#plot = real_time_plot(plot_len=scope.adc.samples-1)"
   ]
  },
  {
   "cell_type": "code",
   "execution_count": 338,
   "metadata": {},
   "outputs": [],
   "source": [
    "traces_enc = []\n",
    "text_arrays = []\n",
    "key_arrays = []"
   ]
  },
  {
   "cell_type": "code",
   "execution_count": 346,
   "metadata": {
    "scrolled": true
   },
   "outputs": [
    {
     "data": {
      "application/vnd.jupyter.widget-view+json": {
       "model_id": "383fa96bc189427f928baef12463cf50",
       "version_major": 2,
       "version_minor": 0
      },
      "text/plain": [
       "HBox(children=(HTML(value=''), FloatProgress(value=0.0, max=76886.0), HTML(value='')))"
      ]
     },
     "metadata": {},
     "output_type": "display_data"
    },
    {
     "name": "stdout",
     "output_type": "stream",
     "text": [
      "\n"
     ]
    }
   ],
   "source": [
    "for i in trange (N-len(traces_enc)):\n",
    "    scope.arm()\n",
    "    key, text = ktp.next() \n",
    "    target.write(cmd+text)\n",
    "    ret = scope.capture()\n",
    "    if ret:\n",
    "        print(\"Target timed out!\")\n",
    "        break\n",
    "    trace = scope.get_last_trace()\n",
    "    #plot.send(trace)\n",
    "    traces_enc.append(np.asarray(trace))\n",
    "    text_arrays.append(np.asarray(text))\n",
    "    key_arrays.append(np.asarray(key))"
   ]
  },
  {
   "cell_type": "markdown",
   "metadata": {},
   "source": [
    "# Save as bin"
   ]
  },
  {
   "cell_type": "code",
   "execution_count": 349,
   "metadata": {},
   "outputs": [],
   "source": [
    "np.array(traces_enc).tofile(\"traces_enc.bin\")"
   ]
  },
  {
   "cell_type": "code",
   "execution_count": 350,
   "metadata": {},
   "outputs": [],
   "source": [
    "np.array(text_arrays).tofile(\"text_arrays.bin\")"
   ]
  },
  {
   "cell_type": "code",
   "execution_count": 351,
   "metadata": {},
   "outputs": [],
   "source": [
    "np.array(key_arrays).tofile(\"key_arrays.bin\")"
   ]
  },
  {
   "cell_type": "code",
   "execution_count": 345,
   "metadata": {},
   "outputs": [],
   "source": [
    "#%matplotlib inline\n",
    "#import matplotlib.pyplot as plt\n",
    "#plt.figure()\n",
    "#plt.plot(traces_enc[0])\n",
    "#plt.show()"
   ]
  }
 ],
 "metadata": {
  "kernelspec": {
   "display_name": "Python 3",
   "language": "python",
   "name": "python3"
  },
  "language_info": {
   "codemirror_mode": {
    "name": "ipython",
    "version": 3
   },
   "file_extension": ".py",
   "mimetype": "text/x-python",
   "name": "python",
   "nbconvert_exporter": "python",
   "pygments_lexer": "ipython3",
   "version": "3.8.5"
  }
 },
 "nbformat": 4,
 "nbformat_minor": 4
}
