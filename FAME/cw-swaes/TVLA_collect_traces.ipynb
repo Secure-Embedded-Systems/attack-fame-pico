{
 "cells": [
  {
   "cell_type": "markdown",
   "metadata": {},
   "source": [
    "### Datasets of Test Vector Leakage Assessment (TVLA) with AES\n",
    "1. Fixed vs. Random Data with Fixed Key (n traces each)\n",
    "2. Random vs. Random Data with Fixed Key (2n traces)\n",
    "3. Fixed vs. Random Key with Random Data (n traces each)\n",
    "4. Semi-Fixed vs. Random Data with Fixed Key (vary the first 32-bits of the data up to 2^32)"
   ]
  },
  {
   "cell_type": "code",
   "execution_count": 1,
   "metadata": {},
   "outputs": [],
   "source": [
    "import chipwhisperer as cw\n",
    "scope = cw.scope()\n",
    "target = cw.target(scope)\n",
    "scope.default_setup()"
   ]
  },
  {
   "cell_type": "code",
   "execution_count": 2,
   "metadata": {},
   "outputs": [],
   "source": [
    "import cwtvla\n",
    "from cwtvla.ktp import FixedVRandomText #FixedVRandomKey, SemiFixedVRandomText\n",
    "from tqdm.notebook import trange\n",
    "import numpy as np\n",
    "\n",
    "scope.io.tio1 = 'serial_tx'\n",
    "scope.io.tio2 = 'serial_rx'\n",
    "scope.trigger.triggers = \"nrst\"\n",
    "\n",
    "scope.gain.db = 56\n",
    "scope.adc.samples = 18000\n",
    "scope.adc.offset = 24400 + 16000*4\n",
    "# 1 round: 0\n",
    "# 2 round: 24400\n",
    "# 3 round: 24400 + 16000 \n",
    "# 4 round: 24400 + 16000 + 16000 \n",
    "# 5 round: 24400 + 16000 + 16000 + 16000 \n",
    "# 6 round: 24400 + 16000 + 16000 + 16000 + 16000 \n",
    "scope.adc.decimate = 1\n",
    "scope.clock.clkgen_freq = 4000000 \n",
    "\n",
    "cmd=bytearray([255]*1)\n",
    "ktp = cw.ktp.Basic() \n",
    "key_len = 16\n",
    "ktp = FixedVRandomText(key_len)"
   ]
  },
  {
   "cell_type": "code",
   "execution_count": 24,
   "metadata": {},
   "outputs": [],
   "source": [
    "traces_enc_groupA = []\n",
    "text_arrays_groupA = []\n",
    "key_arrays_groupA = []\n",
    "traces_enc_groupB = []\n",
    "text_arrays_groupB = []\n",
    "key_arrays_groupB = []"
   ]
  },
  {
   "cell_type": "code",
   "execution_count": 4,
   "metadata": {},
   "outputs": [],
   "source": [
    "N = 100000"
   ]
  },
  {
   "cell_type": "code",
   "execution_count": 26,
   "metadata": {},
   "outputs": [],
   "source": [
    "#%run \"../chipwhisperer-fame/swaes/real_time_plot.ipynb\"\n",
    "#plot = real_time_plot(plot_len=scope.adc.samples-1)"
   ]
  },
  {
   "cell_type": "code",
   "execution_count": 27,
   "metadata": {
    "scrolled": true
   },
   "outputs": [
    {
     "data": {
      "application/vnd.jupyter.widget-view+json": {
       "model_id": "f94afacdb2f94d96b5086f88d517c00c",
       "version_major": 2,
       "version_minor": 0
      },
      "text/plain": [
       "HBox(children=(HTML(value=''), FloatProgress(value=0.0, max=100000.0), HTML(value='')))"
      ]
     },
     "metadata": {},
     "output_type": "display_data"
    },
    {
     "name": "stdout",
     "output_type": "stream",
     "text": [
      "\n"
     ]
    }
   ],
   "source": [
    "for i in trange(N-len(traces_enc_groupA)):\n",
    "    scope.arm()\n",
    "    keyA, textA = ktp.next_group_A()\n",
    "    target.write(cmd+textA)\n",
    "    ret = scope.capture()\n",
    "    if ret:\n",
    "        print(\"Target timed out for group A - fixed data!\")\n",
    "        break\n",
    "    traceA = scope.get_last_trace()\n",
    "    traces_enc_groupA.append(np.asarray(traceA))\n",
    "    text_arrays_groupA.append(np.asarray(textA))\n",
    "    key_arrays_groupA.append(np.asarray(keyA))\n",
    "    \n",
    "    scope.arm()\n",
    "    keyB, textB = ktp.next_group_B()\n",
    "    target.write(cmd+textB)\n",
    "    ret = scope.capture()\n",
    "    if ret:\n",
    "        print(\"Target timed out for group B - random data!\")\n",
    "        break\n",
    "    traceB = scope.get_last_trace()\n",
    "    traces_enc_groupB.append(np.asarray(traceB))\n",
    "    text_arrays_groupB.append(np.asarray(textB))\n",
    "    key_arrays_groupB.append(np.asarray(keyB))"
   ]
  },
  {
   "cell_type": "code",
   "execution_count": 28,
   "metadata": {},
   "outputs": [
    {
     "data": {
      "image/png": "[encoded data removed]",
      "text/plain": [
       "<Figure size 432x288 with 1 Axes>"
      ]
     },
     "metadata": {
      "needs_background": "light"
     },
     "output_type": "display_data"
    }
   ],
   "source": [
    "%matplotlib inline\n",
    "import matplotlib.pyplot as plt\n",
    "plt.figure()\n",
    "plt.plot(traces_enc_groupA[N-1])\n",
    "plt.plot(traces_enc_groupB[N-1])\n",
    "plt.show()"
   ]
  },
  {
   "cell_type": "markdown",
   "metadata": {},
   "source": [
    "### Save 100k fixed enc and pt"
   ]
  },
  {
   "cell_type": "code",
   "execution_count": 30,
   "metadata": {},
   "outputs": [],
   "source": [
    "np.array(text_arrays_groupA).tofile(\"text_arrays_groupA_fixed_100k.bin\")"
   ]
  },
  {
   "cell_type": "code",
   "execution_count": 31,
   "metadata": {},
   "outputs": [],
   "source": [
    "traces_enc_groupA_part_1_50k = traces_enc_groupA[0:50000]\n",
    "traces_enc_groupA_part_2_50k = traces_enc_groupA[50000:100000]"
   ]
  },
  {
   "cell_type": "code",
   "execution_count": 32,
   "metadata": {},
   "outputs": [],
   "source": [
    "np.array(traces_enc_groupA_part_1_50k).tofile(\"traces_enc_groupA_part_1_fixed_50k.bin\")"
   ]
  },
  {
   "cell_type": "code",
   "execution_count": 33,
   "metadata": {},
   "outputs": [],
   "source": [
    "np.array(traces_enc_groupA_part_2_50k).tofile(\"traces_enc_groupA_part_2_fixed_50k.bin\")"
   ]
  },
  {
   "cell_type": "markdown",
   "metadata": {},
   "source": [
    "### Save 100k random enc and pt"
   ]
  },
  {
   "cell_type": "code",
   "execution_count": 34,
   "metadata": {},
   "outputs": [],
   "source": [
    "np.array(text_arrays_groupB).tofile(\"text_arrays_groupB_random_100k.bin\")"
   ]
  },
  {
   "cell_type": "code",
   "execution_count": 35,
   "metadata": {},
   "outputs": [],
   "source": [
    "traces_enc_groupB_part_1_50k = traces_enc_groupB[0:50000]\n",
    "traces_enc_groupB_part_2_50k = traces_enc_groupB[50000:100000]"
   ]
  },
  {
   "cell_type": "code",
   "execution_count": 36,
   "metadata": {},
   "outputs": [],
   "source": [
    "np.array(traces_enc_groupB_part_1_50k).tofile(\"traces_enc_groupB_part_1_50k.bin\")"
   ]
  },
  {
   "cell_type": "code",
   "execution_count": 37,
   "metadata": {},
   "outputs": [],
   "source": [
    "np.array(traces_enc_groupB_part_2_50k).tofile(\"traces_enc_groupB_part_2_50k.bin\")"
   ]
  },
  {
   "cell_type": "markdown",
   "metadata": {},
   "source": [
    "### Another 100k random traces"
   ]
  },
  {
   "cell_type": "code",
   "execution_count": 3,
   "metadata": {},
   "outputs": [],
   "source": [
    "traces_enc_groupB_2 = []\n",
    "text_arrays_groupB_2 = []\n",
    "key_arrays_groupB_2 = []"
   ]
  },
  {
   "cell_type": "code",
   "execution_count": 4,
   "metadata": {},
   "outputs": [],
   "source": [
    "N = 200000"
   ]
  },
  {
   "cell_type": "code",
   "execution_count": 5,
   "metadata": {},
   "outputs": [
    {
     "data": {
      "application/vnd.jupyter.widget-view+json": {
       "model_id": "0591dc002c3f47559181d90868f6d2c4",
       "version_major": 2,
       "version_minor": 0
      },
      "text/plain": [
       "HBox(children=(HTML(value=''), FloatProgress(value=0.0, max=200000.0), HTML(value='')))"
      ]
     },
     "metadata": {},
     "output_type": "display_data"
    },
    {
     "name": "stdout",
     "output_type": "stream",
     "text": [
      "\n"
     ]
    }
   ],
   "source": [
    "for i in trange(N-len(traces_enc_groupB_2)):    \n",
    "    scope.arm()\n",
    "    keyB, textB = ktp.next_group_B()\n",
    "    target.write(cmd+textB)\n",
    "    ret = scope.capture()\n",
    "    if ret:\n",
    "        print(\"Target timed out for group B - random data!\")\n",
    "        break\n",
    "    traceB = scope.get_last_trace()\n",
    "    traces_enc_groupB_2.append(np.asarray(traceB))\n",
    "    text_arrays_groupB_2.append(np.asarray(textB))\n",
    "    key_arrays_groupB_2.append(np.asarray(keyB))"
   ]
  },
  {
   "cell_type": "code",
   "execution_count": 8,
   "metadata": {},
   "outputs": [],
   "source": [
    "np.array(text_arrays_groupB_2).tofile(\"pt_RvR_200k.bin\")"
   ]
  },
  {
   "cell_type": "code",
   "execution_count": 9,
   "metadata": {},
   "outputs": [],
   "source": [
    "a = traces_enc_groupB_2[0:50000]\n",
    "b = traces_enc_groupB_2[50000:100000]\n",
    "c = traces_enc_groupB_2[100000:150000]\n",
    "d = traces_enc_groupB_2[150000:200000]"
   ]
  },
  {
   "cell_type": "code",
   "execution_count": 10,
   "metadata": {},
   "outputs": [],
   "source": [
    "np.array(a).tofile(\"t_RvR_200k_1.bin\")"
   ]
  },
  {
   "cell_type": "code",
   "execution_count": 11,
   "metadata": {},
   "outputs": [],
   "source": [
    "np.array(b).tofile(\"t_RvR_200k_2.bin\")"
   ]
  },
  {
   "cell_type": "code",
   "execution_count": 12,
   "metadata": {},
   "outputs": [],
   "source": [
    "np.array(c).tofile(\"t_RvR_200k_3.bin\")"
   ]
  },
  {
   "cell_type": "code",
   "execution_count": 13,
   "metadata": {},
   "outputs": [],
   "source": [
    "np.array(d).tofile(\"t_RvR_200k_4.bin\")"
   ]
  },
  {
   "cell_type": "code",
   "execution_count": null,
   "metadata": {},
   "outputs": [],
   "source": []
  }
 ],
 "metadata": {
  "kernelspec": {
   "display_name": "Python 3",
   "language": "python",
   "name": "python3"
  },
  "language_info": {
   "codemirror_mode": {
    "name": "ipython",
    "version": 3
   },
   "file_extension": ".py",
   "mimetype": "text/x-python",
   "name": "python",
   "nbconvert_exporter": "python",
   "pygments_lexer": "ipython3",
   "version": "3.8.5"
  }
 },
 "nbformat": 4,
 "nbformat_minor": 4
}
