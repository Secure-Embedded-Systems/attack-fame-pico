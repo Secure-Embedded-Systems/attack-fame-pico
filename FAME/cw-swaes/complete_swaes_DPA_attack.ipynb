{
 "cells": [
  {
   "cell_type": "markdown",
   "id": "cf20c307",
   "metadata": {},
   "source": [
    "# Load Data"
   ]
  },
  {
   "cell_type": "code",
   "execution_count": null,
   "id": "612dcdb8",
   "metadata": {},
   "outputs": [],
   "source": [
    "from tqdm.notebook import trange\n",
    "import numpy as np\n",
    "N = 60000"
   ]
  },
  {
   "cell_type": "code",
   "execution_count": null,
   "id": "7647c112",
   "metadata": {},
   "outputs": [],
   "source": [
    "text_arrays = np.array_split(np.fromfile(\"../../Downloads/text_arrays_swaes_60k.bin\", dtype=np.uint8), N)"
   ]
  },
  {
   "cell_type": "code",
   "execution_count": null,
   "id": "e7f7b68c",
   "metadata": {},
   "outputs": [],
   "source": [
    "key_arrays = np.array_split(np.fromfile(\"../../Downloads/key_arrays_swaes_60k.bin\", dtype=np.uint8), N)"
   ]
  },
  {
   "cell_type": "code",
   "execution_count": null,
   "id": "504046d8",
   "metadata": {},
   "outputs": [],
   "source": [
    "traces_enc = np.array_split(np.fromfile(\"../../Downloads/traces_enc_swaes_60k.bin\", dtype=np.float64), N)"
   ]
  },
  {
   "cell_type": "markdown",
   "id": "0460a2f6",
   "metadata": {},
   "source": [
    "# SBox"
   ]
  },
  {
   "cell_type": "code",
   "execution_count": null,
   "id": "2506e423",
   "metadata": {},
   "outputs": [],
   "source": [
    "sbox = (\n",
    "    0x63, 0x7c, 0x77, 0x7b, 0xf2, 0x6b, 0x6f, 0xc5, 0x30, 0x01, 0x67, 0x2b, 0xfe, 0xd7, 0xab, 0x76,\n",
    "    0xca, 0x82, 0xc9, 0x7d, 0xfa, 0x59, 0x47, 0xf0, 0xad, 0xd4, 0xa2, 0xaf, 0x9c, 0xa4, 0x72, 0xc0,\n",
    "    0xb7, 0xfd, 0x93, 0x26, 0x36, 0x3f, 0xf7, 0xcc, 0x34, 0xa5, 0xe5, 0xf1, 0x71, 0xd8, 0x31, 0x15,\n",
    "    0x04, 0xc7, 0x23, 0xc3, 0x18, 0x96, 0x05, 0x9a, 0x07, 0x12, 0x80, 0xe2, 0xeb, 0x27, 0xb2, 0x75,\n",
    "    0x09, 0x83, 0x2c, 0x1a, 0x1b, 0x6e, 0x5a, 0xa0, 0x52, 0x3b, 0xd6, 0xb3, 0x29, 0xe3, 0x2f, 0x84,\n",
    "    0x53, 0xd1, 0x00, 0xed, 0x20, 0xfc, 0xb1, 0x5b, 0x6a, 0xcb, 0xbe, 0x39, 0x4a, 0x4c, 0x58, 0xcf,\n",
    "    0xd0, 0xef, 0xaa, 0xfb, 0x43, 0x4d, 0x33, 0x85, 0x45, 0xf9, 0x02, 0x7f, 0x50, 0x3c, 0x9f, 0xa8,\n",
    "    0x51, 0xa3, 0x40, 0x8f, 0x92, 0x9d, 0x38, 0xf5, 0xbc, 0xb6, 0xda, 0x21, 0x10, 0xff, 0xf3, 0xd2,\n",
    "    0xcd, 0x0c, 0x13, 0xec, 0x5f, 0x97, 0x44, 0x17, 0xc4, 0xa7, 0x7e, 0x3d, 0x64, 0x5d, 0x19, 0x73,\n",
    "    0x60, 0x81, 0x4f, 0xdc, 0x22, 0x2a, 0x90, 0x88, 0x46, 0xee, 0xb8, 0x14, 0xde, 0x5e, 0x0b, 0xdb,\n",
    "    0xe0, 0x32, 0x3a, 0x0a, 0x49, 0x06, 0x24, 0x5c, 0xc2, 0xd3, 0xac, 0x62, 0x91, 0x95, 0xe4, 0x79,\n",
    "    0xe7, 0xc8, 0x37, 0x6d, 0x8d, 0xd5, 0x4e, 0xa9, 0x6c, 0x56, 0xf4, 0xea, 0x65, 0x7a, 0xae, 0x08,\n",
    "    0xba, 0x78, 0x25, 0x2e, 0x1c, 0xa6, 0xb4, 0xc6, 0xe8, 0xdd, 0x74, 0x1f, 0x4b, 0xbd, 0x8b, 0x8a,\n",
    "    0x70, 0x3e, 0xb5, 0x66, 0x48, 0x03, 0xf6, 0x0e, 0x61, 0x35, 0x57, 0xb9, 0x86, 0xc1, 0x1d, 0x9e,\n",
    "    0xe1, 0xf8, 0x98, 0x11, 0x69, 0xd9, 0x8e, 0x94, 0x9b, 0x1e, 0x87, 0xe9, 0xce, 0x55, 0x28, 0xdf,\n",
    "    0x8c, 0xa1, 0x89, 0x0d, 0xbf, 0xe6, 0x42, 0x68, 0x41, 0x99, 0x2d, 0x0f, 0xb0, 0x54, 0xbb, 0x16)\n",
    "\n",
    "def intermediate(pt, keyguess):\n",
    "    return sbox[pt ^ keyguess]"
   ]
  },
  {
   "cell_type": "markdown",
   "id": "9750098d",
   "metadata": {},
   "source": [
    "# Hamming Weight Leakage Model"
   ]
  },
  {
   "cell_type": "code",
   "execution_count": null,
   "id": "c1518872",
   "metadata": {},
   "outputs": [],
   "source": [
    "HW = [bin(n).count(\"1\") for n in range(0, 256)]\n",
    "\n",
    "def calculate_diffs(guess, byteindex):\n",
    "\n",
    "    one_list_calc = []\n",
    "    zero_list_calc = []\n",
    "\n",
    "    for trace_index in range(len(traces_enc)):\n",
    "        hypothetical_leakage = intermediate(guess, text_arrays[trace_index][byteindex])\n",
    "\n",
    "        if (HW[hypothetical_leakage] > 4 ):\n",
    "            one_list_calc.append(traces_enc[trace_index])\n",
    "        elif (HW[hypothetical_leakage] < 4):\n",
    "            zero_list_calc.append(traces_enc[trace_index])\n",
    "\n",
    "    one_avg_calc = np.asarray(one_list_calc).mean(axis=0)\n",
    "    zero_avg_calc = np.asarray(zero_list_calc).mean(axis=0)\n",
    "    return abs(one_avg_calc - zero_avg_calc)"
   ]
  },
  {
   "cell_type": "markdown",
   "id": "0044cad4",
   "metadata": {},
   "source": [
    "# DPA Attack"
   ]
  },
  {
   "cell_type": "code",
   "execution_count": null,
   "id": "64f2d2fc",
   "metadata": {},
   "outputs": [],
   "source": [
    "key_guess = []\n",
    "full_diffs_list = []\n",
    "known_key = [0x54, 0xee, 0xff, 0x11, 0x21, 0x32, 0xeb, 0x43, 0xbb, 0xaa, 0xff, 0x23, 0x98, 0x54, 0x12, 0x12]\n",
    "\n",
    "for subkey in trange(0, 16):\n",
    "    max_diffs = [0]*256\n",
    "    full_diffs = [0]*256\n",
    "    for guess in trange(0, 256):\n",
    "        full_diff_trace = calculate_diffs(guess, subkey)\n",
    "        max_diffs[guess] = np.max(full_diff_trace)\n",
    "        full_diffs[guess] = full_diff_trace\n",
    "        \n",
    "    #Make copy of the list\n",
    "    full_diffs_list.append(full_diffs[:])\n",
    "\n",
    "    #Get argument sort, as each index is the actual key guess.\n",
    "    sorted_args = np.argsort(max_diffs)[::-1]\n",
    "\n",
    "    #Keep most likely\n",
    "    key_guess.append(sorted_args[0])\n",
    "\n",
    "    #Print results\n",
    "    print(\"Subkey %2d - most likely %02X (actual %02X)\"%(subkey, key_guess[subkey], known_key[subkey]))\n",
    "\n",
    "    #Print other top guesses\n",
    "    print(\" Top 5 guesses: \")\n",
    "    for i in range(0, 5):\n",
    "        g = sorted_args[i]\n",
    "        print(\"   %02X - Diff = %f\"%(g, max_diffs[g]))\n",
    "\n",
    "    print(\"\\n\")"
   ]
  },
  {
   "cell_type": "markdown",
   "id": "fd6d2fba",
   "metadata": {},
   "source": [
    "# How Many Traces Needed for HW DPA"
   ]
  },
  {
   "cell_type": "code",
   "execution_count": null,
   "id": "2becf69e",
   "metadata": {},
   "outputs": [],
   "source": [
    "traces_enc_full = np.array(np.array_split(np.fromfile(\"../../Downloads/traces_enc_swaes_60k.bin\", dtype=np.float64), N))"
   ]
  },
  {
   "cell_type": "code",
   "execution_count": null,
   "id": "45789972",
   "metadata": {},
   "outputs": [],
   "source": [
    "text_arrays_full = np.array_split(np.fromfile(\"../../Downloads/text_arrays_swaes_60k.bin\", dtype=np.uint8), N)"
   ]
  },
  {
   "cell_type": "code",
   "execution_count": null,
   "id": "bc99c10b",
   "metadata": {},
   "outputs": [],
   "source": [
    "def num_same(a, b):\n",
    "    \n",
    "    if len(a) != len(b):\n",
    "        raise ValueError(\"Arrays must be same length!\")\n",
    "    \n",
    "    #Count how many list items match up\n",
    "    same = 0\n",
    "    for i, _ in enumerate(a):\n",
    "        if a[i] == b[i]:\n",
    "            same += 1\n",
    "    \n",
    "    return same"
   ]
  },
  {
   "cell_type": "code",
   "execution_count": null,
   "id": "cdb1b6db",
   "metadata": {},
   "outputs": [],
   "source": [
    "full_key_guess = []\n",
    "full_diffs_list = []\n",
    "how_many_correct_keybytes = []\n",
    "is_same = 0\n",
    "known_key = [0x54, 0xee, 0xff, 0x11, 0x21, 0x32, 0xeb, 0x43, 0xbb, 0xaa, 0xff, 0x23, 0x98, 0x54, 0x12, 0x12]\n",
    "traces_enc = []\n",
    "text_arrays = []\n",
    "\n",
    "for traces in trange(2500,60000,2500):\n",
    "    traces_enc = np.array(traces_enc_full[0:traces])\n",
    "    text_arrays = np.array(text_arrays_full[0:traces])\n",
    "    \n",
    "    key_guess = []\n",
    "    diffs_list = []\n",
    "    for subkey in trange(0, 16):\n",
    "        max_diffs = [0]*256\n",
    "        full_diffs = [0]*256\n",
    "        for guess in range(0, 256):\n",
    "            full_diff_trace = calculate_diffs(guess, subkey)\n",
    "            max_diffs[guess] = np.max(full_diff_trace)\n",
    "            full_diffs[guess] = full_diff_trace\n",
    "        \n",
    "        diffs_list.append(full_diffs[:])\n",
    "        sorted_args = np.argsort(max_diffs)[::-1]\n",
    "        key_guess.append(sorted_args[0])\n",
    "    \n",
    "    full_diffs_list.append(full_diffs_list)\n",
    "    full_key_guess.append(key_guess)\n",
    "    is_same = num_same(key_guess,known_key)\n",
    "    how_many_correct_keybytes.append(is_same)\n",
    "    \n",
    "    print(\"For %2d traces, correct key byte are %2d\" %(traces,is_same))\n",
    "    print(\"\\n\")"
   ]
  }
 ],
 "metadata": {
  "kernelspec": {
   "display_name": "Python 3",
   "language": "python",
   "name": "python3"
  },
  "language_info": {
   "codemirror_mode": {
    "name": "ipython",
    "version": 3
   },
   "file_extension": ".py",
   "mimetype": "text/x-python",
   "name": "python",
   "nbconvert_exporter": "python",
   "pygments_lexer": "ipython3",
   "version": "3.8.8"
  }
 },
 "nbformat": 4,
 "nbformat_minor": 5
}
