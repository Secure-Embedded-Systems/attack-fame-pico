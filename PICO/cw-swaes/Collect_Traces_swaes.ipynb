{
 "cells": [
  {
   "cell_type": "markdown",
   "metadata": {},
   "source": [
    "# Scope Setup"
   ]
  },
  {
   "cell_type": "code",
   "execution_count": 2,
   "metadata": {},
   "outputs": [],
   "source": [
    "import chipwhisperer as cw\n",
    "scope = cw.scope()\n",
    "target = cw.target(scope)\n",
    "scope.default_setup()"
   ]
  },
  {
   "cell_type": "code",
   "execution_count": 21,
   "metadata": {},
   "outputs": [],
   "source": [
    "from tqdm.notebook import trange\n",
    "import numpy as np\n",
    "import os\n",
    "\n",
    "scope.io.tio1 = 'serial_tx'\n",
    "scope.io.tio2 = 'serial_rx'\n",
    "scope.trigger.triggers = 'nrst'\n",
    "\n",
    "scope.gain.db = 56\n",
    "scope.adc.samples = 24400\n",
    "scope.adc.offset = 24400 + 24400 + 24400 + 24400 + 24400 + 24400 + 24400\n",
    "scope.clock.clkgen_freq = 4000000 "
   ]
  },
  {
   "cell_type": "markdown",
   "metadata": {},
   "source": [
    "# Check Trace Folder"
   ]
  },
  {
   "cell_type": "code",
   "execution_count": 24,
   "metadata": {},
   "outputs": [
    {
     "ename": "ValueError",
     "evalue": "max() arg is an empty sequence",
     "output_type": "error",
     "traceback": [
      "\u001b[0;31m---------------------------------------------------------------------------\u001b[0m",
      "\u001b[0;31mValueError\u001b[0m                                Traceback (most recent call last)",
      "\u001b[0;32m<ipython-input-24-c649e030dd6d>\u001b[0m in \u001b[0;36m<module>\u001b[0;34m\u001b[0m\n\u001b[1;32m      6\u001b[0m \u001b[0;34m\u001b[0m\u001b[0m\n\u001b[1;32m      7\u001b[0m \u001b[0mlist_of_files\u001b[0m \u001b[0;34m=\u001b[0m \u001b[0mglob\u001b[0m\u001b[0;34m.\u001b[0m\u001b[0mglob\u001b[0m\u001b[0;34m(\u001b[0m\u001b[0mfilepath\u001b[0m\u001b[0;34m)\u001b[0m\u001b[0;34m\u001b[0m\u001b[0;34m\u001b[0m\u001b[0m\n\u001b[0;32m----> 8\u001b[0;31m \u001b[0mlatest_file\u001b[0m \u001b[0;34m=\u001b[0m \u001b[0mmax\u001b[0m\u001b[0;34m(\u001b[0m\u001b[0mlist_of_files\u001b[0m\u001b[0;34m,\u001b[0m \u001b[0mkey\u001b[0m\u001b[0;34m=\u001b[0m\u001b[0mos\u001b[0m\u001b[0;34m.\u001b[0m\u001b[0mpath\u001b[0m\u001b[0;34m.\u001b[0m\u001b[0mgetctime\u001b[0m\u001b[0;34m)\u001b[0m\u001b[0;34m\u001b[0m\u001b[0;34m\u001b[0m\u001b[0m\n\u001b[0m\u001b[1;32m      9\u001b[0m \u001b[0mprint\u001b[0m\u001b[0;34m(\u001b[0m\u001b[0;34m'latest file is:'\u001b[0m\u001b[0;34m,\u001b[0m\u001b[0mlatest_file\u001b[0m\u001b[0;34m)\u001b[0m\u001b[0;34m\u001b[0m\u001b[0;34m\u001b[0m\u001b[0m\n\u001b[1;32m     10\u001b[0m \u001b[0;34m\u001b[0m\u001b[0m\n",
      "\u001b[0;31mValueError\u001b[0m: max() arg is an empty sequence"
     ]
    }
   ],
   "source": [
    "import glob\n",
    "import os\n",
    "\n",
    "folderpath = 'measured_traces_170800'\n",
    "filepath = 'measured_traces_170800/traces*.bin'\n",
    "\n",
    "list_of_files = glob.glob(filepath) \n",
    "latest_file = max(list_of_files, key=os.path.getctime)\n",
    "print('latest file is:',latest_file)\n",
    "\n",
    "list = os.listdir(folderpath) \n",
    "number_files = len(list)\n",
    "print('total file number is:',number_files)"
   ]
  },
  {
   "cell_type": "code",
   "execution_count": 23,
   "metadata": {},
   "outputs": [
    {
     "data": {
      "text/plain": [
       "170800"
      ]
     },
     "execution_count": 23,
     "metadata": {},
     "output_type": "execute_result"
    }
   ],
   "source": [
    "24400 + 24400 + 24400 + 24400 + 24400 + 24400 + 24400"
   ]
  },
  {
   "cell_type": "markdown",
   "metadata": {},
   "source": [
    "# Plot Real-Time Trace"
   ]
  },
  {
   "cell_type": "code",
   "execution_count": 13,
   "metadata": {
    "scrolled": false
   },
   "outputs": [],
   "source": [
    "#%run \"../../chipwhisperer-fame/swaes/real_time_plot.ipynb\"\n",
    "#plot = real_time_plot(plot_len=scope.adc.samples-1)"
   ]
  },
  {
   "cell_type": "markdown",
   "metadata": {},
   "source": [
    "# Collect trace with assigned pt, with capture, check ct"
   ]
  },
  {
   "cell_type": "code",
   "execution_count": 25,
   "metadata": {
    "scrolled": true
   },
   "outputs": [
    {
     "data": {
      "application/vnd.jupyter.widget-view+json": {
       "model_id": "d816626730ed46c2953186cacc75a6f6",
       "version_major": 2,
       "version_minor": 0
      },
      "text/plain": [
       "HBox(children=(HTML(value=''), FloatProgress(value=0.0, max=40000.0), HTML(value='')))"
      ]
     },
     "metadata": {},
     "output_type": "display_data"
    },
    {
     "name": "stdout",
     "output_type": "stream",
     "text": [
      "\n"
     ]
    },
    {
     "ename": "KeyboardInterrupt",
     "evalue": "",
     "output_type": "error",
     "traceback": [
      "\u001b[0;31m---------------------------------------------------------------------------\u001b[0m",
      "\u001b[0;31mKeyboardInterrupt\u001b[0m                         Traceback (most recent call last)",
      "\u001b[0;32m<ipython-input-25-fa12eb1776aa>\u001b[0m in \u001b[0;36m<module>\u001b[0;34m\u001b[0m\n\u001b[1;32m     31\u001b[0m \u001b[0;34m\u001b[0m\u001b[0m\n\u001b[1;32m     32\u001b[0m     \u001b[0;32mfor\u001b[0m \u001b[0mi\u001b[0m \u001b[0;32min\u001b[0m \u001b[0mrange\u001b[0m \u001b[0;34m(\u001b[0m\u001b[0;36m0\u001b[0m\u001b[0;34m,\u001b[0m\u001b[0;36m32\u001b[0m\u001b[0;34m,\u001b[0m\u001b[0;36m2\u001b[0m\u001b[0;34m)\u001b[0m\u001b[0;34m:\u001b[0m\u001b[0;34m\u001b[0m\u001b[0;34m\u001b[0m\u001b[0m\n\u001b[0;32m---> 33\u001b[0;31m         \u001b[0mtime\u001b[0m\u001b[0;34m.\u001b[0m\u001b[0msleep\u001b[0m\u001b[0;34m(\u001b[0m\u001b[0;36m0.1\u001b[0m\u001b[0;34m)\u001b[0m\u001b[0;34m\u001b[0m\u001b[0;34m\u001b[0m\u001b[0m\n\u001b[0m\u001b[1;32m     34\u001b[0m         \u001b[0mbyte_array\u001b[0m \u001b[0;34m=\u001b[0m \u001b[0mbytearray\u001b[0m\u001b[0;34m.\u001b[0m\u001b[0mfromhex\u001b[0m\u001b[0;34m(\u001b[0m\u001b[0mp\u001b[0m\u001b[0;34m[\u001b[0m\u001b[0mi\u001b[0m\u001b[0;34m:\u001b[0m\u001b[0mi\u001b[0m\u001b[0;34m+\u001b[0m\u001b[0;36m2\u001b[0m\u001b[0;34m]\u001b[0m\u001b[0;34m)\u001b[0m\u001b[0;34m\u001b[0m\u001b[0;34m\u001b[0m\u001b[0m\n\u001b[1;32m     35\u001b[0m         \u001b[0mtarget\u001b[0m\u001b[0;34m.\u001b[0m\u001b[0mwrite\u001b[0m\u001b[0;34m(\u001b[0m\u001b[0mbyte_array\u001b[0m\u001b[0;34m)\u001b[0m\u001b[0;34m\u001b[0m\u001b[0;34m\u001b[0m\u001b[0m\n",
      "\u001b[0;31mKeyboardInterrupt\u001b[0m: "
     ]
    }
   ],
   "source": [
    "import linecache\n",
    "import time\n",
    "\n",
    "G = current_n = number_files - 1\n",
    "N = 40000\n",
    "\n",
    "f = open('../../pico_swaes_testvectors.txt')\n",
    "\n",
    "#for trace_num in trange (5):\n",
    "for trace_num in trange (0,N,1):\n",
    "\n",
    "    #################################################Initial Communication\n",
    "    target.write('R')\n",
    "    while(target.read(1,1000) != 'A'):\n",
    "        target.read(1,1000)\n",
    "        #print('Failed initial request') \n",
    "        #break\n",
    "    \n",
    "    \n",
    "    #################################################Second Communication \n",
    "    target.write('P')\n",
    "    while(target.read(1,1000) != 'T'):\n",
    "        target.read(1,1000)\n",
    "        #print('Failed requesting pt')\n",
    "        #break\n",
    "        \n",
    "    #################################################Send PT\n",
    "    line = linecache.getline(r\"../../pico_swaes_testvectors.txt\", trace_num+1)\n",
    "    p = line[0:32]\n",
    "    c = line[33:65]\n",
    "    \n",
    "    for i in range (0,32,2):\n",
    "        time.sleep(0.1)\n",
    "        byte_array = bytearray.fromhex(p[i:i+2])\n",
    "        target.write(byte_array)\n",
    "    ################\n",
    "    enc_input = target.read(32,10000)\n",
    "    ################\n",
    "    time.sleep(0.1)\n",
    "    ################\n",
    "    while(target.read(1,1000) != 'G'):\n",
    "        #target.read(1,1000)\n",
    "        print('Failed receiving pt')\n",
    "        break\n",
    "        \n",
    "        \n",
    "    #################################################Encryption Capture\n",
    "    scope.arm()\n",
    "    target.write('S')\n",
    "    \n",
    "    ret = scope.capture()\n",
    "    time.sleep(0.5)\n",
    "    if ret:\n",
    "        print('No trigger seen')\n",
    "        break\n",
    "    \n",
    "    while(target.read(1,1000) != 'K'):\n",
    "        #target.read(1,1000)\n",
    "        print('Failed finishing encryption')\n",
    "        break\n",
    "        \n",
    "    trace = scope.get_last_trace()\n",
    "    #plot.send(trace)    \n",
    "\n",
    "    #################################################Receive CT \n",
    "    target.write('Q')\n",
    "    time.sleep(0.1)\n",
    "    ################\n",
    "    ct = target.read(32,10000)\n",
    "    #print(enc_input,ct)\n",
    "    ################\n",
    "    target.write('W')\n",
    "    \n",
    "    #################################################Check CT \n",
    "    if (ct.lower()==c):\n",
    "        #print(c)\n",
    "        np.array(trace).tofile(\"measured_traces_170800/traces%2d.bin\" %(trace_num))\n",
    "        time.sleep(0.5)\n",
    "    else:\n",
    "        print('Incorrect ciphertext')\n",
    "        print(ct.lower(),c)\n",
    "        break"
   ]
  },
  {
   "cell_type": "code",
   "execution_count": 35,
   "metadata": {},
   "outputs": [
    {
     "data": {
      "text/plain": [
       "[<matplotlib.lines.Line2D at 0x7fb8635300a0>]"
      ]
     },
     "execution_count": 35,
     "metadata": {},
     "output_type": "execute_result"
    },
    {
     "data": {
      "image/png": "[encoded data removed]",
      "text/plain": [
       "<Figure size 432x288 with 1 Axes>"
      ]
     },
     "metadata": {
      "needs_background": "light"
     },
     "output_type": "display_data"
    }
   ],
   "source": [
    "import matplotlib.pylab as plt\n",
    "plt.plot(trace)"
   ]
  },
  {
   "cell_type": "markdown",
   "metadata": {},
   "source": [
    "# Encryption without scope capture"
   ]
  },
  {
   "cell_type": "code",
   "execution_count": 143,
   "metadata": {
    "scrolled": true
   },
   "outputs": [
    {
     "data": {
      "application/vnd.jupyter.widget-view+json": {
       "model_id": "e8144a512f414a52a5db9d9eeae38d58",
       "version_major": 2,
       "version_minor": 0
      },
      "text/plain": [
       "HBox(children=(HTML(value=''), FloatProgress(value=0.0, max=10.0), HTML(value='')))"
      ]
     },
     "metadata": {},
     "output_type": "display_data"
    },
    {
     "name": "stdout",
     "output_type": "stream",
     "text": [
      "got A\n",
      "got T\n",
      "CWbytearray(b'ff')\n",
      "CWbytearray(b'4d')\n",
      "CWbytearray(b'2e')\n",
      "CWbytearray(b'94')\n",
      "CWbytearray(b'23')\n",
      "CWbytearray(b'21')\n",
      "CWbytearray(b'98')\n",
      "CWbytearray(b'44')\n",
      "CWbytearray(b'c7')\n",
      "CWbytearray(b'02')\n",
      "CWbytearray(b'be')\n",
      "CWbytearray(b'6f')\n",
      "CWbytearray(b'fa')\n",
      "CWbytearray(b'e9')\n",
      "CWbytearray(b'55')\n",
      "CWbytearray(b'5e')\n",
      "FF4D2E9423219844C702BE6FFAE9555E\n",
      "got G\n",
      "got K\n",
      "4C59481C8FD2A0F5C535853404272491\n",
      "got W\n",
      "\n",
      "got A\n",
      "got T\n",
      "CWbytearray(b'30')\n",
      "CWbytearray(b'35')\n",
      "CWbytearray(b'37')\n",
      "CWbytearray(b'8c')\n",
      "CWbytearray(b'6f')\n",
      "CWbytearray(b'cf')\n",
      "CWbytearray(b'0e')\n",
      "CWbytearray(b'9f')\n",
      "CWbytearray(b'20')\n",
      "CWbytearray(b'a2')\n",
      "CWbytearray(b'7f')\n",
      "CWbytearray(b'63')\n",
      "CWbytearray(b'fd')\n",
      "CWbytearray(b'6b')\n",
      "CWbytearray(b'50')\n",
      "CWbytearray(b'60')\n",
      "3035378C6FCF0E9F20A27F63FD6B5060\n",
      "got G\n",
      "got K\n",
      "DC7B2E905832A952E1FE107DEC9EFB26\n",
      "got W\n",
      "\n",
      "got A\n",
      "got T\n",
      "CWbytearray(b'6c')\n",
      "CWbytearray(b'7a')\n",
      "CWbytearray(b'2f')\n",
      "CWbytearray(b'80')\n",
      "CWbytearray(b'ed')\n",
      "CWbytearray(b'27')\n",
      "CWbytearray(b'16')\n",
      "CWbytearray(b'85')\n",
      "CWbytearray(b'31')\n",
      "CWbytearray(b'64')\n",
      "CWbytearray(b'74')\n",
      "CWbytearray(b'2c')\n",
      "CWbytearray(b'57')\n",
      "CWbytearray(b'91')\n",
      "CWbytearray(b'61')\n",
      "CWbytearray(b'de')\n",
      "6C7A2F80ED2716853164742C579161DE\n",
      "got G\n",
      "got K\n",
      "86CF122859F42188AFFD7631C0BEE1CA\n",
      "got W\n",
      "\n",
      "got A\n",
      "got T\n",
      "CWbytearray(b'2e')\n",
      "CWbytearray(b'fa')\n",
      "CWbytearray(b'3b')\n",
      "CWbytearray(b'b4')\n",
      "CWbytearray(b'9c')\n",
      "CWbytearray(b'98')\n",
      "CWbytearray(b'ab')\n",
      "CWbytearray(b'2c')\n",
      "CWbytearray(b'f5')\n",
      "CWbytearray(b'39')\n",
      "CWbytearray(b'd3')\n",
      "CWbytearray(b'38')\n",
      "CWbytearray(b'95')\n",
      "CWbytearray(b'66')\n",
      "CWbytearray(b'14')\n",
      "CWbytearray(b'60')\n",
      "2EFA3BB49C98AB2CF539D33895661460\n",
      "got G\n",
      "got K\n",
      "3325E825432D414C12E620BF67F9A4C6\n",
      "got W\n",
      "\n",
      "got A\n",
      "got T\n",
      "CWbytearray(b'c7')\n",
      "CWbytearray(b'13')\n",
      "CWbytearray(b'51')\n",
      "CWbytearray(b'b8')\n",
      "CWbytearray(b'0a')\n",
      "CWbytearray(b'a3')\n",
      "CWbytearray(b'85')\n",
      "CWbytearray(b'3b')\n",
      "CWbytearray(b'79')\n",
      "CWbytearray(b'20')\n",
      "CWbytearray(b'f1')\n",
      "CWbytearray(b'37')\n",
      "CWbytearray(b'be')\n",
      "CWbytearray(b'04')\n",
      "CWbytearray(b'da')\n",
      "CWbytearray(b'95')\n",
      "C71351B80AA3853B7920F137BE04DA95\n",
      "got G\n",
      "got K\n",
      "954101684F55A9608203715EA31FF1E9\n",
      "got W\n",
      "\n",
      "got A\n",
      "got T\n",
      "CWbytearray(b'46')\n",
      "CWbytearray(b'7b')\n",
      "CWbytearray(b'b6')\n",
      "CWbytearray(b'96')\n",
      "CWbytearray(b'1c')\n",
      "CWbytearray(b'f5')\n",
      "CWbytearray(b'ff')\n",
      "CWbytearray(b'45')\n",
      "CWbytearray(b'4e')\n",
      "CWbytearray(b'd6')\n",
      "CWbytearray(b'15')\n",
      "CWbytearray(b'79')\n",
      "CWbytearray(b'1d')\n",
      "CWbytearray(b'83')\n",
      "CWbytearray(b'8d')\n",
      "CWbytearray(b'ad')\n",
      "467BB6961CF5FF454ED615791D838DAD\n",
      "got G\n",
      "got K\n",
      "C0CDCDAF9873766D13EC61F118C4A3E9\n",
      "got W\n",
      "\n",
      "got A\n",
      "got T\n",
      "CWbytearray(b'94')\n",
      "CWbytearray(b'5b')\n",
      "CWbytearray(b'7d')\n",
      "CWbytearray(b'66')\n",
      "CWbytearray(b'f6')\n",
      "CWbytearray(b'2a')\n",
      "CWbytearray(b'ca')\n",
      "CWbytearray(b'5d')\n",
      "CWbytearray(b'30')\n",
      "CWbytearray(b'6b')\n",
      "CWbytearray(b'a9')\n",
      "CWbytearray(b'e3')\n",
      "CWbytearray(b'ff')\n",
      "CWbytearray(b'ef')\n",
      "CWbytearray(b'5c')\n",
      "CWbytearray(b'bb')\n",
      "945B7D66F62ACA5D306BA9E3FFEF5CBB\n",
      "got G\n",
      "got K\n",
      "62879C996496033F7CC68D54C79E0A0A\n",
      "got W\n",
      "\n",
      "got A\n",
      "got T\n",
      "CWbytearray(b'ac')\n",
      "CWbytearray(b'01')\n",
      "CWbytearray(b'30')\n",
      "CWbytearray(b'68')\n",
      "CWbytearray(b'dc')\n",
      "CWbytearray(b'fe')\n",
      "CWbytearray(b'3e')\n",
      "CWbytearray(b'ee')\n",
      "CWbytearray(b'b9')\n",
      "CWbytearray(b'db')\n",
      "CWbytearray(b'31')\n",
      "CWbytearray(b'89')\n",
      "CWbytearray(b'1e')\n",
      "CWbytearray(b'78')\n",
      "CWbytearray(b'0e')\n",
      "CWbytearray(b'e3')\n",
      "AC013068DCFE3EEEB9DB31891E780EE3\n",
      "got G\n",
      "got K\n",
      "DEF1711278FD8BA299E85B22824E8AD2\n",
      "got W\n",
      "\n",
      "got A\n",
      "got T\n",
      "CWbytearray(b'0d')\n",
      "CWbytearray(b'86')\n",
      "CWbytearray(b'47')\n",
      "CWbytearray(b'26')\n",
      "CWbytearray(b'db')\n",
      "CWbytearray(b'32')\n",
      "CWbytearray(b'4c')\n",
      "CWbytearray(b'21')\n",
      "CWbytearray(b'38')\n",
      "CWbytearray(b'ba')\n",
      "CWbytearray(b'56')\n",
      "CWbytearray(b'de')\n",
      "CWbytearray(b'38')\n",
      "CWbytearray(b'86')\n",
      "CWbytearray(b'0a')\n",
      "CWbytearray(b'6d')\n",
      "0D864726DB324C2138BA56DE38860A6D\n",
      "got G\n",
      "got K\n",
      "D8A045DB45B02D4C5BE2CBFFAA14E1C4\n",
      "got W\n",
      "\n",
      "got A\n",
      "got T\n",
      "CWbytearray(b'8e')\n",
      "CWbytearray(b'09')\n",
      "CWbytearray(b'e6')\n",
      "CWbytearray(b'24')\n",
      "CWbytearray(b'43')\n",
      "CWbytearray(b'ad')\n",
      "CWbytearray(b'68')\n",
      "CWbytearray(b'1d')\n",
      "CWbytearray(b'a6')\n",
      "CWbytearray(b'51')\n",
      "CWbytearray(b'1f')\n",
      "CWbytearray(b'fe')\n",
      "CWbytearray(b'ef')\n",
      "CWbytearray(b'87')\n",
      "CWbytearray(b'c8')\n",
      "CWbytearray(b'f9')\n",
      "8E09E62443AD681DA6511FFEEF87C8F9\n",
      "got G\n",
      "got K\n",
      "99EB8A40D0F62BFB3A618153FE60C471\n",
      "got W\n",
      "\n",
      "\n"
     ]
    }
   ],
   "source": [
    "import time \n",
    "\n",
    "for i in trange (10):\n",
    "\n",
    "    ################ Initial Communication ########################\n",
    "    ### send 'R'\n",
    "    ### receive 'A'\n",
    "    target.write('R')\n",
    "    \n",
    "    while(target.read(1,1000) != 'A'):\n",
    "        print('waiting A')\n",
    "        target.read(1,1000)\n",
    "    \n",
    "    print('got A')\n",
    "    \n",
    "    \n",
    "    ################ Second Communication ################\n",
    "    ### send 'P'\n",
    "    ### receive 'T'\n",
    "    target.write('P')\n",
    "    \n",
    "    while(target.read(1,1000) != 'T'):\n",
    "        print('waiting T')\n",
    "        target.read(1,1000)\n",
    "    \n",
    "    print('got T')\n",
    "    \n",
    "    \n",
    "    ################ Send PT ################\n",
    "    for i in range (16):\n",
    "        time.sleep(0.1)\n",
    "        pt = bytearray(os.urandom(1))\n",
    "        target.write(pt)\n",
    "        #enc_input = target.read(2,10000)\n",
    "        print(pt)\n",
    "    enc_input = target.read(32,10000)\n",
    "    print(enc_input)\n",
    "    \n",
    "    while(target.read(1,1000) != 'G'):\n",
    "        print('waiting G')\n",
    "        target.read(1,1000)\n",
    "    \n",
    "    print('got G')\n",
    "    \n",
    "    \n",
    "    ################ Start Encryption ################\n",
    "    target.write('S')\n",
    "    \n",
    "    time.sleep(0.5)\n",
    "    \n",
    "    while(target.read(1,1000) != 'K'):\n",
    "        print('waiting K')\n",
    "        target.read(1,1000)\n",
    "    \n",
    "    print('got K')\n",
    "    \n",
    "\n",
    "    ################ Receive CT ################\n",
    "    target.write('Q')\n",
    "    \n",
    "    time.sleep(0.1)\n",
    "    \n",
    "    ct = target.read(32,10000)\n",
    "    print(ct)\n",
    "    \n",
    "    time.sleep(0.1)\n",
    "    target.write('W')\n",
    "    print('got W\\n')\n",
    "    time.sleep(0.1)"
   ]
  },
  {
   "cell_type": "markdown",
   "metadata": {},
   "source": [
    "# Old method"
   ]
  },
  {
   "cell_type": "code",
   "execution_count": null,
   "metadata": {
    "scrolled": true
   },
   "outputs": [],
   "source": [
    "#import time\n",
    "#for i in trange (1000):\n",
    "#    scope.arm()\n",
    "#    key, text = ktp.next()\n",
    "#    target.write(cmd+text)\n",
    "#    ret = scope.capture()\n",
    "#    if ret:\n",
    "#        print(\"Target timed out!\")\n",
    "#        break        \n",
    "#    trace = scope.get_last_trace()\n",
    "#    plot.send(trace)\n",
    "#    traces_enc.append(np.asarray(trace))\n",
    "#    text_arrays.append(np.asarray(text))\n",
    "#    key_arrays.append(np.asarray(key)) "
   ]
  }
 ],
 "metadata": {
  "kernelspec": {
   "display_name": "Python 3",
   "language": "python",
   "name": "python3"
  },
  "language_info": {
   "codemirror_mode": {
    "name": "ipython",
    "version": 3
   },
   "file_extension": ".py",
   "mimetype": "text/x-python",
   "name": "python",
   "nbconvert_exporter": "python",
   "pygments_lexer": "ipython3",
   "version": "3.8.5"
  }
 },
 "nbformat": 4,
 "nbformat_minor": 4
}
