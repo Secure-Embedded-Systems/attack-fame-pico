{
 "cells": [
  {
   "cell_type": "markdown",
   "id": "7770830a",
   "metadata": {},
   "source": [
    "# Import plaintext"
   ]
  },
  {
   "cell_type": "code",
   "execution_count": 1,
   "id": "4f1ed78f",
   "metadata": {},
   "outputs": [],
   "source": [
    "NumTraces = 318"
   ]
  },
  {
   "cell_type": "code",
   "execution_count": 2,
   "id": "9fa68046",
   "metadata": {},
   "outputs": [],
   "source": [
    "import pathlib\n",
    "import numpy as np\n",
    "pt = []\n",
    "for path in pathlib.Path(\"../../Downloads/pico_sim_swaes_300\").iterdir():\n",
    "    if path.is_file():\n",
    "        current_file = open(path, \"r\")\n",
    "        for i in range (NumTraces):\n",
    "            a = current_file.readline()\n",
    "            pt.append(a)\n",
    "        current_file.close()\n",
    "#pt.sort()"
   ]
  },
  {
   "cell_type": "code",
   "execution_count": 3,
   "id": "74834090",
   "metadata": {},
   "outputs": [],
   "source": [
    "pt_array = []\n",
    "for i in range (len(pt)):\n",
    "    b = bytes.fromhex(pt[i])\n",
    "    one_array = np.frombuffer(b,dtype=np.uint8)\n",
    "    pt_array.append(one_array)"
   ]
  },
  {
   "cell_type": "code",
   "execution_count": 4,
   "id": "872dfbdf",
   "metadata": {},
   "outputs": [
    {
     "data": {
      "text/plain": [
       "318"
      ]
     },
     "execution_count": 4,
     "metadata": {},
     "output_type": "execute_result"
    }
   ],
   "source": [
    "len(pt_array)"
   ]
  },
  {
   "cell_type": "markdown",
   "id": "05f10915",
   "metadata": {},
   "source": [
    "# Import key"
   ]
  },
  {
   "cell_type": "code",
   "execution_count": 5,
   "id": "e96d7f70",
   "metadata": {},
   "outputs": [],
   "source": [
    "key_array = []\n",
    "key = 'f0debc9a78563412efcdab8967452301'\n",
    "for i in range (NumTraces):\n",
    "    b = bytes.fromhex(key)\n",
    "    one_array = np.frombuffer(b,dtype=np.uint8)\n",
    "    key_array.append(one_array)"
   ]
  },
  {
   "cell_type": "code",
   "execution_count": 6,
   "id": "091db158",
   "metadata": {},
   "outputs": [
    {
     "data": {
      "text/plain": [
       "318"
      ]
     },
     "execution_count": 6,
     "metadata": {},
     "output_type": "execute_result"
    }
   ],
   "source": [
    "len(key_array)"
   ]
  },
  {
   "cell_type": "markdown",
   "id": "44d8833e",
   "metadata": {},
   "source": [
    "# Import traces"
   ]
  },
  {
   "cell_type": "code",
   "execution_count": 7,
   "id": "10640854",
   "metadata": {},
   "outputs": [
    {
     "name": "stdout",
     "output_type": "stream",
     "text": [
      "../../Downloads/pico_sim_swaes_300/swaes_pico_power300/aes_gtl_0_plot.png.data\n",
      "../../Downloads/pico_sim_swaes_300/swaes_pico_power300/aes_gtl_1_plot.png.data\n",
      "../../Downloads/pico_sim_swaes_300/swaes_pico_power300/aes_gtl_2_plot.png.data\n",
      "../../Downloads/pico_sim_swaes_300/swaes_pico_power300/aes_gtl_3_plot.png.data\n",
      "../../Downloads/pico_sim_swaes_300/swaes_pico_power300/aes_gtl_4_plot.png.data\n",
      "../../Downloads/pico_sim_swaes_300/swaes_pico_power300/aes_gtl_5_plot.png.data\n",
      "../../Downloads/pico_sim_swaes_300/swaes_pico_power300/aes_gtl_6_plot.png.data\n",
      "../../Downloads/pico_sim_swaes_300/swaes_pico_power300/aes_gtl_7_plot.png.data\n",
      "../../Downloads/pico_sim_swaes_300/swaes_pico_power300/aes_gtl_8_plot.png.data\n",
      "../../Downloads/pico_sim_swaes_300/swaes_pico_power300/aes_gtl_9_plot.png.data\n",
      "../../Downloads/pico_sim_swaes_300/swaes_pico_power300/aes_gtl_10_plot.png.data\n",
      "../../Downloads/pico_sim_swaes_300/swaes_pico_power300/aes_gtl_11_plot.png.data\n",
      "../../Downloads/pico_sim_swaes_300/swaes_pico_power300/aes_gtl_12_plot.png.data\n",
      "../../Downloads/pico_sim_swaes_300/swaes_pico_power300/aes_gtl_13_plot.png.data\n",
      "../../Downloads/pico_sim_swaes_300/swaes_pico_power300/aes_gtl_14_plot.png.data\n",
      "../../Downloads/pico_sim_swaes_300/swaes_pico_power300/aes_gtl_15_plot.png.data\n",
      "../../Downloads/pico_sim_swaes_300/swaes_pico_power300/aes_gtl_16_plot.png.data\n",
      "../../Downloads/pico_sim_swaes_300/swaes_pico_power300/aes_gtl_17_plot.png.data\n",
      "../../Downloads/pico_sim_swaes_300/swaes_pico_power300/aes_gtl_18_plot.png.data\n",
      "../../Downloads/pico_sim_swaes_300/swaes_pico_power300/aes_gtl_19_plot.png.data\n",
      "../../Downloads/pico_sim_swaes_300/swaes_pico_power300/aes_gtl_20_plot.png.data\n",
      "../../Downloads/pico_sim_swaes_300/swaes_pico_power300/aes_gtl_21_plot.png.data\n",
      "../../Downloads/pico_sim_swaes_300/swaes_pico_power300/aes_gtl_22_plot.png.data\n",
      "../../Downloads/pico_sim_swaes_300/swaes_pico_power300/aes_gtl_23_plot.png.data\n",
      "../../Downloads/pico_sim_swaes_300/swaes_pico_power300/aes_gtl_24_plot.png.data\n",
      "../../Downloads/pico_sim_swaes_300/swaes_pico_power300/aes_gtl_25_plot.png.data\n",
      "../../Downloads/pico_sim_swaes_300/swaes_pico_power300/aes_gtl_26_plot.png.data\n",
      "../../Downloads/pico_sim_swaes_300/swaes_pico_power300/aes_gtl_27_plot.png.data\n",
      "../../Downloads/pico_sim_swaes_300/swaes_pico_power300/aes_gtl_28_plot.png.data\n",
      "../../Downloads/pico_sim_swaes_300/swaes_pico_power300/aes_gtl_29_plot.png.data\n",
      "../../Downloads/pico_sim_swaes_300/swaes_pico_power300/aes_gtl_30_plot.png.data\n",
      "../../Downloads/pico_sim_swaes_300/swaes_pico_power300/aes_gtl_31_plot.png.data\n",
      "../../Downloads/pico_sim_swaes_300/swaes_pico_power300/aes_gtl_32_plot.png.data\n",
      "../../Downloads/pico_sim_swaes_300/swaes_pico_power300/aes_gtl_33_plot.png.data\n",
      "../../Downloads/pico_sim_swaes_300/swaes_pico_power300/aes_gtl_34_plot.png.data\n",
      "../../Downloads/pico_sim_swaes_300/swaes_pico_power300/aes_gtl_35_plot.png.data\n",
      "../../Downloads/pico_sim_swaes_300/swaes_pico_power300/aes_gtl_36_plot.png.data\n",
      "../../Downloads/pico_sim_swaes_300/swaes_pico_power300/aes_gtl_37_plot.png.data\n",
      "../../Downloads/pico_sim_swaes_300/swaes_pico_power300/aes_gtl_38_plot.png.data\n",
      "../../Downloads/pico_sim_swaes_300/swaes_pico_power300/aes_gtl_39_plot.png.data\n",
      "../../Downloads/pico_sim_swaes_300/swaes_pico_power300/aes_gtl_40_plot.png.data\n",
      "../../Downloads/pico_sim_swaes_300/swaes_pico_power300/aes_gtl_41_plot.png.data\n",
      "../../Downloads/pico_sim_swaes_300/swaes_pico_power300/aes_gtl_42_plot.png.data\n",
      "../../Downloads/pico_sim_swaes_300/swaes_pico_power300/aes_gtl_43_plot.png.data\n",
      "../../Downloads/pico_sim_swaes_300/swaes_pico_power300/aes_gtl_44_plot.png.data\n",
      "../../Downloads/pico_sim_swaes_300/swaes_pico_power300/aes_gtl_45_plot.png.data\n",
      "../../Downloads/pico_sim_swaes_300/swaes_pico_power300/aes_gtl_46_plot.png.data\n",
      "../../Downloads/pico_sim_swaes_300/swaes_pico_power300/aes_gtl_47_plot.png.data\n",
      "../../Downloads/pico_sim_swaes_300/swaes_pico_power300/aes_gtl_48_plot.png.data\n",
      "../../Downloads/pico_sim_swaes_300/swaes_pico_power300/aes_gtl_49_plot.png.data\n",
      "../../Downloads/pico_sim_swaes_300/swaes_pico_power300/aes_gtl_50_plot.png.data\n",
      "../../Downloads/pico_sim_swaes_300/swaes_pico_power300/aes_gtl_51_plot.png.data\n",
      "../../Downloads/pico_sim_swaes_300/swaes_pico_power300/aes_gtl_52_plot.png.data\n",
      "../../Downloads/pico_sim_swaes_300/swaes_pico_power300/aes_gtl_53_plot.png.data\n",
      "../../Downloads/pico_sim_swaes_300/swaes_pico_power300/aes_gtl_54_plot.png.data\n",
      "../../Downloads/pico_sim_swaes_300/swaes_pico_power300/aes_gtl_55_plot.png.data\n",
      "../../Downloads/pico_sim_swaes_300/swaes_pico_power300/aes_gtl_56_plot.png.data\n",
      "../../Downloads/pico_sim_swaes_300/swaes_pico_power300/aes_gtl_57_plot.png.data\n",
      "../../Downloads/pico_sim_swaes_300/swaes_pico_power300/aes_gtl_58_plot.png.data\n",
      "../../Downloads/pico_sim_swaes_300/swaes_pico_power300/aes_gtl_59_plot.png.data\n",
      "../../Downloads/pico_sim_swaes_300/swaes_pico_power300/aes_gtl_60_plot.png.data\n",
      "../../Downloads/pico_sim_swaes_300/swaes_pico_power300/aes_gtl_61_plot.png.data\n",
      "../../Downloads/pico_sim_swaes_300/swaes_pico_power300/aes_gtl_62_plot.png.data\n",
      "../../Downloads/pico_sim_swaes_300/swaes_pico_power300/aes_gtl_63_plot.png.data\n",
      "../../Downloads/pico_sim_swaes_300/swaes_pico_power300/aes_gtl_64_plot.png.data\n",
      "../../Downloads/pico_sim_swaes_300/swaes_pico_power300/aes_gtl_65_plot.png.data\n",
      "../../Downloads/pico_sim_swaes_300/swaes_pico_power300/aes_gtl_66_plot.png.data\n",
      "../../Downloads/pico_sim_swaes_300/swaes_pico_power300/aes_gtl_67_plot.png.data\n",
      "../../Downloads/pico_sim_swaes_300/swaes_pico_power300/aes_gtl_68_plot.png.data\n",
      "../../Downloads/pico_sim_swaes_300/swaes_pico_power300/aes_gtl_69_plot.png.data\n",
      "../../Downloads/pico_sim_swaes_300/swaes_pico_power300/aes_gtl_70_plot.png.data\n",
      "../../Downloads/pico_sim_swaes_300/swaes_pico_power300/aes_gtl_71_plot.png.data\n",
      "../../Downloads/pico_sim_swaes_300/swaes_pico_power300/aes_gtl_72_plot.png.data\n",
      "../../Downloads/pico_sim_swaes_300/swaes_pico_power300/aes_gtl_73_plot.png.data\n",
      "../../Downloads/pico_sim_swaes_300/swaes_pico_power300/aes_gtl_74_plot.png.data\n",
      "../../Downloads/pico_sim_swaes_300/swaes_pico_power300/aes_gtl_75_plot.png.data\n",
      "../../Downloads/pico_sim_swaes_300/swaes_pico_power300/aes_gtl_76_plot.png.data\n",
      "../../Downloads/pico_sim_swaes_300/swaes_pico_power300/aes_gtl_77_plot.png.data\n",
      "../../Downloads/pico_sim_swaes_300/swaes_pico_power300/aes_gtl_78_plot.png.data\n",
      "../../Downloads/pico_sim_swaes_300/swaes_pico_power300/aes_gtl_79_plot.png.data\n",
      "../../Downloads/pico_sim_swaes_300/swaes_pico_power300/aes_gtl_80_plot.png.data\n",
      "../../Downloads/pico_sim_swaes_300/swaes_pico_power300/aes_gtl_81_plot.png.data\n",
      "../../Downloads/pico_sim_swaes_300/swaes_pico_power300/aes_gtl_82_plot.png.data\n",
      "../../Downloads/pico_sim_swaes_300/swaes_pico_power300/aes_gtl_83_plot.png.data\n",
      "../../Downloads/pico_sim_swaes_300/swaes_pico_power300/aes_gtl_84_plot.png.data\n",
      "../../Downloads/pico_sim_swaes_300/swaes_pico_power300/aes_gtl_85_plot.png.data\n",
      "../../Downloads/pico_sim_swaes_300/swaes_pico_power300/aes_gtl_86_plot.png.data\n",
      "../../Downloads/pico_sim_swaes_300/swaes_pico_power300/aes_gtl_87_plot.png.data\n",
      "../../Downloads/pico_sim_swaes_300/swaes_pico_power300/aes_gtl_88_plot.png.data\n",
      "../../Downloads/pico_sim_swaes_300/swaes_pico_power300/aes_gtl_89_plot.png.data\n",
      "../../Downloads/pico_sim_swaes_300/swaes_pico_power300/aes_gtl_90_plot.png.data\n",
      "../../Downloads/pico_sim_swaes_300/swaes_pico_power300/aes_gtl_91_plot.png.data\n",
      "../../Downloads/pico_sim_swaes_300/swaes_pico_power300/aes_gtl_92_plot.png.data\n",
      "../../Downloads/pico_sim_swaes_300/swaes_pico_power300/aes_gtl_93_plot.png.data\n",
      "../../Downloads/pico_sim_swaes_300/swaes_pico_power300/aes_gtl_94_plot.png.data\n",
      "../../Downloads/pico_sim_swaes_300/swaes_pico_power300/aes_gtl_95_plot.png.data\n",
      "../../Downloads/pico_sim_swaes_300/swaes_pico_power300/aes_gtl_96_plot.png.data\n",
      "../../Downloads/pico_sim_swaes_300/swaes_pico_power300/aes_gtl_97_plot.png.data\n",
      "../../Downloads/pico_sim_swaes_300/swaes_pico_power300/aes_gtl_98_plot.png.data\n",
      "../../Downloads/pico_sim_swaes_300/swaes_pico_power300/aes_gtl_99_plot.png.data\n",
      "../../Downloads/pico_sim_swaes_300/swaes_pico_power300/aes_gtl_100_plot.png.data\n",
      "../../Downloads/pico_sim_swaes_300/swaes_pico_power300/aes_gtl_101_plot.png.data\n",
      "../../Downloads/pico_sim_swaes_300/swaes_pico_power300/aes_gtl_102_plot.png.data\n",
      "../../Downloads/pico_sim_swaes_300/swaes_pico_power300/aes_gtl_103_plot.png.data\n",
      "../../Downloads/pico_sim_swaes_300/swaes_pico_power300/aes_gtl_104_plot.png.data\n",
      "../../Downloads/pico_sim_swaes_300/swaes_pico_power300/aes_gtl_105_plot.png.data\n",
      "../../Downloads/pico_sim_swaes_300/swaes_pico_power300/aes_gtl_106_plot.png.data\n",
      "../../Downloads/pico_sim_swaes_300/swaes_pico_power300/aes_gtl_107_plot.png.data\n",
      "../../Downloads/pico_sim_swaes_300/swaes_pico_power300/aes_gtl_108_plot.png.data\n",
      "../../Downloads/pico_sim_swaes_300/swaes_pico_power300/aes_gtl_109_plot.png.data\n",
      "../../Downloads/pico_sim_swaes_300/swaes_pico_power300/aes_gtl_110_plot.png.data\n",
      "../../Downloads/pico_sim_swaes_300/swaes_pico_power300/aes_gtl_111_plot.png.data\n",
      "../../Downloads/pico_sim_swaes_300/swaes_pico_power300/aes_gtl_112_plot.png.data\n",
      "../../Downloads/pico_sim_swaes_300/swaes_pico_power300/aes_gtl_113_plot.png.data\n",
      "../../Downloads/pico_sim_swaes_300/swaes_pico_power300/aes_gtl_114_plot.png.data\n",
      "../../Downloads/pico_sim_swaes_300/swaes_pico_power300/aes_gtl_115_plot.png.data\n",
      "../../Downloads/pico_sim_swaes_300/swaes_pico_power300/aes_gtl_116_plot.png.data\n",
      "../../Downloads/pico_sim_swaes_300/swaes_pico_power300/aes_gtl_117_plot.png.data\n",
      "../../Downloads/pico_sim_swaes_300/swaes_pico_power300/aes_gtl_118_plot.png.data\n",
      "../../Downloads/pico_sim_swaes_300/swaes_pico_power300/aes_gtl_119_plot.png.data\n",
      "../../Downloads/pico_sim_swaes_300/swaes_pico_power300/aes_gtl_120_plot.png.data\n",
      "../../Downloads/pico_sim_swaes_300/swaes_pico_power300/aes_gtl_121_plot.png.data\n",
      "../../Downloads/pico_sim_swaes_300/swaes_pico_power300/aes_gtl_122_plot.png.data\n",
      "../../Downloads/pico_sim_swaes_300/swaes_pico_power300/aes_gtl_123_plot.png.data\n",
      "../../Downloads/pico_sim_swaes_300/swaes_pico_power300/aes_gtl_124_plot.png.data\n",
      "../../Downloads/pico_sim_swaes_300/swaes_pico_power300/aes_gtl_125_plot.png.data\n",
      "../../Downloads/pico_sim_swaes_300/swaes_pico_power300/aes_gtl_126_plot.png.data\n",
      "../../Downloads/pico_sim_swaes_300/swaes_pico_power300/aes_gtl_127_plot.png.data\n",
      "../../Downloads/pico_sim_swaes_300/swaes_pico_power300/aes_gtl_128_plot.png.data\n",
      "../../Downloads/pico_sim_swaes_300/swaes_pico_power300/aes_gtl_129_plot.png.data\n",
      "../../Downloads/pico_sim_swaes_300/swaes_pico_power300/aes_gtl_130_plot.png.data\n",
      "../../Downloads/pico_sim_swaes_300/swaes_pico_power300/aes_gtl_131_plot.png.data\n",
      "../../Downloads/pico_sim_swaes_300/swaes_pico_power300/aes_gtl_132_plot.png.data\n",
      "../../Downloads/pico_sim_swaes_300/swaes_pico_power300/aes_gtl_133_plot.png.data\n",
      "../../Downloads/pico_sim_swaes_300/swaes_pico_power300/aes_gtl_134_plot.png.data\n",
      "../../Downloads/pico_sim_swaes_300/swaes_pico_power300/aes_gtl_135_plot.png.data\n",
      "../../Downloads/pico_sim_swaes_300/swaes_pico_power300/aes_gtl_136_plot.png.data\n",
      "../../Downloads/pico_sim_swaes_300/swaes_pico_power300/aes_gtl_137_plot.png.data\n",
      "../../Downloads/pico_sim_swaes_300/swaes_pico_power300/aes_gtl_138_plot.png.data\n",
      "../../Downloads/pico_sim_swaes_300/swaes_pico_power300/aes_gtl_139_plot.png.data\n",
      "../../Downloads/pico_sim_swaes_300/swaes_pico_power300/aes_gtl_140_plot.png.data\n",
      "../../Downloads/pico_sim_swaes_300/swaes_pico_power300/aes_gtl_141_plot.png.data\n",
      "../../Downloads/pico_sim_swaes_300/swaes_pico_power300/aes_gtl_142_plot.png.data\n",
      "../../Downloads/pico_sim_swaes_300/swaes_pico_power300/aes_gtl_143_plot.png.data\n",
      "../../Downloads/pico_sim_swaes_300/swaes_pico_power300/aes_gtl_144_plot.png.data\n",
      "../../Downloads/pico_sim_swaes_300/swaes_pico_power300/aes_gtl_145_plot.png.data\n",
      "../../Downloads/pico_sim_swaes_300/swaes_pico_power300/aes_gtl_146_plot.png.data\n",
      "../../Downloads/pico_sim_swaes_300/swaes_pico_power300/aes_gtl_147_plot.png.data\n",
      "../../Downloads/pico_sim_swaes_300/swaes_pico_power300/aes_gtl_148_plot.png.data\n",
      "../../Downloads/pico_sim_swaes_300/swaes_pico_power300/aes_gtl_149_plot.png.data\n",
      "../../Downloads/pico_sim_swaes_300/swaes_pico_power300/aes_gtl_150_plot.png.data\n",
      "../../Downloads/pico_sim_swaes_300/swaes_pico_power300/aes_gtl_151_plot.png.data\n",
      "../../Downloads/pico_sim_swaes_300/swaes_pico_power300/aes_gtl_152_plot.png.data\n",
      "../../Downloads/pico_sim_swaes_300/swaes_pico_power300/aes_gtl_153_plot.png.data\n",
      "../../Downloads/pico_sim_swaes_300/swaes_pico_power300/aes_gtl_154_plot.png.data\n",
      "../../Downloads/pico_sim_swaes_300/swaes_pico_power300/aes_gtl_155_plot.png.data\n",
      "../../Downloads/pico_sim_swaes_300/swaes_pico_power300/aes_gtl_156_plot.png.data\n",
      "../../Downloads/pico_sim_swaes_300/swaes_pico_power300/aes_gtl_157_plot.png.data\n",
      "../../Downloads/pico_sim_swaes_300/swaes_pico_power300/aes_gtl_158_plot.png.data\n",
      "../../Downloads/pico_sim_swaes_300/swaes_pico_power300/aes_gtl_159_plot.png.data\n",
      "../../Downloads/pico_sim_swaes_300/swaes_pico_power300/aes_gtl_160_plot.png.data\n",
      "../../Downloads/pico_sim_swaes_300/swaes_pico_power300/aes_gtl_161_plot.png.data\n",
      "../../Downloads/pico_sim_swaes_300/swaes_pico_power300/aes_gtl_162_plot.png.data\n",
      "../../Downloads/pico_sim_swaes_300/swaes_pico_power300/aes_gtl_163_plot.png.data\n",
      "../../Downloads/pico_sim_swaes_300/swaes_pico_power300/aes_gtl_164_plot.png.data\n",
      "../../Downloads/pico_sim_swaes_300/swaes_pico_power300/aes_gtl_165_plot.png.data\n",
      "../../Downloads/pico_sim_swaes_300/swaes_pico_power300/aes_gtl_166_plot.png.data\n",
      "../../Downloads/pico_sim_swaes_300/swaes_pico_power300/aes_gtl_167_plot.png.data\n",
      "../../Downloads/pico_sim_swaes_300/swaes_pico_power300/aes_gtl_168_plot.png.data\n",
      "../../Downloads/pico_sim_swaes_300/swaes_pico_power300/aes_gtl_169_plot.png.data\n",
      "../../Downloads/pico_sim_swaes_300/swaes_pico_power300/aes_gtl_170_plot.png.data\n",
      "../../Downloads/pico_sim_swaes_300/swaes_pico_power300/aes_gtl_171_plot.png.data\n",
      "../../Downloads/pico_sim_swaes_300/swaes_pico_power300/aes_gtl_172_plot.png.data\n",
      "../../Downloads/pico_sim_swaes_300/swaes_pico_power300/aes_gtl_173_plot.png.data\n",
      "../../Downloads/pico_sim_swaes_300/swaes_pico_power300/aes_gtl_174_plot.png.data\n",
      "../../Downloads/pico_sim_swaes_300/swaes_pico_power300/aes_gtl_175_plot.png.data\n",
      "../../Downloads/pico_sim_swaes_300/swaes_pico_power300/aes_gtl_176_plot.png.data\n",
      "../../Downloads/pico_sim_swaes_300/swaes_pico_power300/aes_gtl_177_plot.png.data\n",
      "../../Downloads/pico_sim_swaes_300/swaes_pico_power300/aes_gtl_178_plot.png.data\n",
      "../../Downloads/pico_sim_swaes_300/swaes_pico_power300/aes_gtl_179_plot.png.data\n",
      "../../Downloads/pico_sim_swaes_300/swaes_pico_power300/aes_gtl_180_plot.png.data\n",
      "../../Downloads/pico_sim_swaes_300/swaes_pico_power300/aes_gtl_181_plot.png.data\n",
      "../../Downloads/pico_sim_swaes_300/swaes_pico_power300/aes_gtl_182_plot.png.data\n",
      "../../Downloads/pico_sim_swaes_300/swaes_pico_power300/aes_gtl_183_plot.png.data\n",
      "../../Downloads/pico_sim_swaes_300/swaes_pico_power300/aes_gtl_184_plot.png.data\n",
      "../../Downloads/pico_sim_swaes_300/swaes_pico_power300/aes_gtl_185_plot.png.data\n",
      "../../Downloads/pico_sim_swaes_300/swaes_pico_power300/aes_gtl_186_plot.png.data\n",
      "../../Downloads/pico_sim_swaes_300/swaes_pico_power300/aes_gtl_187_plot.png.data\n",
      "../../Downloads/pico_sim_swaes_300/swaes_pico_power300/aes_gtl_188_plot.png.data\n",
      "../../Downloads/pico_sim_swaes_300/swaes_pico_power300/aes_gtl_189_plot.png.data\n",
      "../../Downloads/pico_sim_swaes_300/swaes_pico_power300/aes_gtl_190_plot.png.data\n",
      "../../Downloads/pico_sim_swaes_300/swaes_pico_power300/aes_gtl_191_plot.png.data\n",
      "../../Downloads/pico_sim_swaes_300/swaes_pico_power300/aes_gtl_192_plot.png.data\n",
      "../../Downloads/pico_sim_swaes_300/swaes_pico_power300/aes_gtl_193_plot.png.data\n",
      "../../Downloads/pico_sim_swaes_300/swaes_pico_power300/aes_gtl_194_plot.png.data\n",
      "../../Downloads/pico_sim_swaes_300/swaes_pico_power300/aes_gtl_195_plot.png.data\n",
      "../../Downloads/pico_sim_swaes_300/swaes_pico_power300/aes_gtl_196_plot.png.data\n",
      "../../Downloads/pico_sim_swaes_300/swaes_pico_power300/aes_gtl_197_plot.png.data\n",
      "../../Downloads/pico_sim_swaes_300/swaes_pico_power300/aes_gtl_198_plot.png.data\n",
      "../../Downloads/pico_sim_swaes_300/swaes_pico_power300/aes_gtl_199_plot.png.data\n",
      "../../Downloads/pico_sim_swaes_300/swaes_pico_power300/aes_gtl_200_plot.png.data\n",
      "../../Downloads/pico_sim_swaes_300/swaes_pico_power300/aes_gtl_201_plot.png.data\n",
      "../../Downloads/pico_sim_swaes_300/swaes_pico_power300/aes_gtl_202_plot.png.data\n",
      "../../Downloads/pico_sim_swaes_300/swaes_pico_power300/aes_gtl_203_plot.png.data\n",
      "../../Downloads/pico_sim_swaes_300/swaes_pico_power300/aes_gtl_204_plot.png.data\n",
      "../../Downloads/pico_sim_swaes_300/swaes_pico_power300/aes_gtl_205_plot.png.data\n",
      "../../Downloads/pico_sim_swaes_300/swaes_pico_power300/aes_gtl_206_plot.png.data\n",
      "../../Downloads/pico_sim_swaes_300/swaes_pico_power300/aes_gtl_207_plot.png.data\n",
      "../../Downloads/pico_sim_swaes_300/swaes_pico_power300/aes_gtl_208_plot.png.data\n",
      "../../Downloads/pico_sim_swaes_300/swaes_pico_power300/aes_gtl_209_plot.png.data\n",
      "../../Downloads/pico_sim_swaes_300/swaes_pico_power300/aes_gtl_210_plot.png.data\n",
      "../../Downloads/pico_sim_swaes_300/swaes_pico_power300/aes_gtl_211_plot.png.data\n",
      "../../Downloads/pico_sim_swaes_300/swaes_pico_power300/aes_gtl_212_plot.png.data\n",
      "../../Downloads/pico_sim_swaes_300/swaes_pico_power300/aes_gtl_213_plot.png.data\n",
      "../../Downloads/pico_sim_swaes_300/swaes_pico_power300/aes_gtl_214_plot.png.data\n",
      "../../Downloads/pico_sim_swaes_300/swaes_pico_power300/aes_gtl_215_plot.png.data\n",
      "../../Downloads/pico_sim_swaes_300/swaes_pico_power300/aes_gtl_216_plot.png.data\n",
      "../../Downloads/pico_sim_swaes_300/swaes_pico_power300/aes_gtl_217_plot.png.data\n",
      "../../Downloads/pico_sim_swaes_300/swaes_pico_power300/aes_gtl_218_plot.png.data\n",
      "../../Downloads/pico_sim_swaes_300/swaes_pico_power300/aes_gtl_219_plot.png.data\n",
      "../../Downloads/pico_sim_swaes_300/swaes_pico_power300/aes_gtl_220_plot.png.data\n",
      "../../Downloads/pico_sim_swaes_300/swaes_pico_power300/aes_gtl_221_plot.png.data\n",
      "../../Downloads/pico_sim_swaes_300/swaes_pico_power300/aes_gtl_222_plot.png.data\n",
      "../../Downloads/pico_sim_swaes_300/swaes_pico_power300/aes_gtl_223_plot.png.data\n",
      "../../Downloads/pico_sim_swaes_300/swaes_pico_power300/aes_gtl_224_plot.png.data\n",
      "../../Downloads/pico_sim_swaes_300/swaes_pico_power300/aes_gtl_225_plot.png.data\n",
      "../../Downloads/pico_sim_swaes_300/swaes_pico_power300/aes_gtl_226_plot.png.data\n",
      "../../Downloads/pico_sim_swaes_300/swaes_pico_power300/aes_gtl_227_plot.png.data\n",
      "../../Downloads/pico_sim_swaes_300/swaes_pico_power300/aes_gtl_228_plot.png.data\n",
      "../../Downloads/pico_sim_swaes_300/swaes_pico_power300/aes_gtl_229_plot.png.data\n",
      "../../Downloads/pico_sim_swaes_300/swaes_pico_power300/aes_gtl_230_plot.png.data\n",
      "../../Downloads/pico_sim_swaes_300/swaes_pico_power300/aes_gtl_231_plot.png.data\n",
      "../../Downloads/pico_sim_swaes_300/swaes_pico_power300/aes_gtl_232_plot.png.data\n",
      "../../Downloads/pico_sim_swaes_300/swaes_pico_power300/aes_gtl_233_plot.png.data\n",
      "../../Downloads/pico_sim_swaes_300/swaes_pico_power300/aes_gtl_234_plot.png.data\n",
      "../../Downloads/pico_sim_swaes_300/swaes_pico_power300/aes_gtl_235_plot.png.data\n",
      "../../Downloads/pico_sim_swaes_300/swaes_pico_power300/aes_gtl_236_plot.png.data\n",
      "../../Downloads/pico_sim_swaes_300/swaes_pico_power300/aes_gtl_237_plot.png.data\n",
      "../../Downloads/pico_sim_swaes_300/swaes_pico_power300/aes_gtl_238_plot.png.data\n",
      "../../Downloads/pico_sim_swaes_300/swaes_pico_power300/aes_gtl_239_plot.png.data\n",
      "../../Downloads/pico_sim_swaes_300/swaes_pico_power300/aes_gtl_240_plot.png.data\n",
      "../../Downloads/pico_sim_swaes_300/swaes_pico_power300/aes_gtl_241_plot.png.data\n",
      "../../Downloads/pico_sim_swaes_300/swaes_pico_power300/aes_gtl_242_plot.png.data\n",
      "../../Downloads/pico_sim_swaes_300/swaes_pico_power300/aes_gtl_243_plot.png.data\n",
      "../../Downloads/pico_sim_swaes_300/swaes_pico_power300/aes_gtl_244_plot.png.data\n",
      "../../Downloads/pico_sim_swaes_300/swaes_pico_power300/aes_gtl_245_plot.png.data\n",
      "../../Downloads/pico_sim_swaes_300/swaes_pico_power300/aes_gtl_246_plot.png.data\n",
      "../../Downloads/pico_sim_swaes_300/swaes_pico_power300/aes_gtl_247_plot.png.data\n",
      "../../Downloads/pico_sim_swaes_300/swaes_pico_power300/aes_gtl_248_plot.png.data\n",
      "../../Downloads/pico_sim_swaes_300/swaes_pico_power300/aes_gtl_249_plot.png.data\n",
      "../../Downloads/pico_sim_swaes_300/swaes_pico_power300/aes_gtl_250_plot.png.data\n",
      "../../Downloads/pico_sim_swaes_300/swaes_pico_power300/aes_gtl_251_plot.png.data\n",
      "../../Downloads/pico_sim_swaes_300/swaes_pico_power300/aes_gtl_252_plot.png.data\n",
      "../../Downloads/pico_sim_swaes_300/swaes_pico_power300/aes_gtl_253_plot.png.data\n",
      "../../Downloads/pico_sim_swaes_300/swaes_pico_power300/aes_gtl_254_plot.png.data\n",
      "../../Downloads/pico_sim_swaes_300/swaes_pico_power300/aes_gtl_255_plot.png.data\n",
      "../../Downloads/pico_sim_swaes_300/swaes_pico_power300/aes_gtl_256_plot.png.data\n",
      "../../Downloads/pico_sim_swaes_300/swaes_pico_power300/aes_gtl_257_plot.png.data\n",
      "../../Downloads/pico_sim_swaes_300/swaes_pico_power300/aes_gtl_258_plot.png.data\n",
      "../../Downloads/pico_sim_swaes_300/swaes_pico_power300/aes_gtl_259_plot.png.data\n",
      "../../Downloads/pico_sim_swaes_300/swaes_pico_power300/aes_gtl_260_plot.png.data\n",
      "../../Downloads/pico_sim_swaes_300/swaes_pico_power300/aes_gtl_261_plot.png.data\n",
      "../../Downloads/pico_sim_swaes_300/swaes_pico_power300/aes_gtl_262_plot.png.data\n",
      "../../Downloads/pico_sim_swaes_300/swaes_pico_power300/aes_gtl_263_plot.png.data\n",
      "../../Downloads/pico_sim_swaes_300/swaes_pico_power300/aes_gtl_264_plot.png.data\n",
      "../../Downloads/pico_sim_swaes_300/swaes_pico_power300/aes_gtl_265_plot.png.data\n",
      "../../Downloads/pico_sim_swaes_300/swaes_pico_power300/aes_gtl_266_plot.png.data\n",
      "../../Downloads/pico_sim_swaes_300/swaes_pico_power300/aes_gtl_267_plot.png.data\n",
      "../../Downloads/pico_sim_swaes_300/swaes_pico_power300/aes_gtl_268_plot.png.data\n",
      "../../Downloads/pico_sim_swaes_300/swaes_pico_power300/aes_gtl_269_plot.png.data\n",
      "../../Downloads/pico_sim_swaes_300/swaes_pico_power300/aes_gtl_270_plot.png.data\n",
      "../../Downloads/pico_sim_swaes_300/swaes_pico_power300/aes_gtl_271_plot.png.data\n",
      "../../Downloads/pico_sim_swaes_300/swaes_pico_power300/aes_gtl_272_plot.png.data\n",
      "../../Downloads/pico_sim_swaes_300/swaes_pico_power300/aes_gtl_273_plot.png.data\n",
      "../../Downloads/pico_sim_swaes_300/swaes_pico_power300/aes_gtl_274_plot.png.data\n",
      "../../Downloads/pico_sim_swaes_300/swaes_pico_power300/aes_gtl_275_plot.png.data\n",
      "../../Downloads/pico_sim_swaes_300/swaes_pico_power300/aes_gtl_276_plot.png.data\n",
      "../../Downloads/pico_sim_swaes_300/swaes_pico_power300/aes_gtl_277_plot.png.data\n",
      "../../Downloads/pico_sim_swaes_300/swaes_pico_power300/aes_gtl_278_plot.png.data\n",
      "../../Downloads/pico_sim_swaes_300/swaes_pico_power300/aes_gtl_279_plot.png.data\n",
      "../../Downloads/pico_sim_swaes_300/swaes_pico_power300/aes_gtl_280_plot.png.data\n",
      "../../Downloads/pico_sim_swaes_300/swaes_pico_power300/aes_gtl_281_plot.png.data\n",
      "../../Downloads/pico_sim_swaes_300/swaes_pico_power300/aes_gtl_282_plot.png.data\n",
      "../../Downloads/pico_sim_swaes_300/swaes_pico_power300/aes_gtl_283_plot.png.data\n",
      "../../Downloads/pico_sim_swaes_300/swaes_pico_power300/aes_gtl_284_plot.png.data\n",
      "../../Downloads/pico_sim_swaes_300/swaes_pico_power300/aes_gtl_285_plot.png.data\n",
      "../../Downloads/pico_sim_swaes_300/swaes_pico_power300/aes_gtl_286_plot.png.data\n",
      "../../Downloads/pico_sim_swaes_300/swaes_pico_power300/aes_gtl_287_plot.png.data\n",
      "../../Downloads/pico_sim_swaes_300/swaes_pico_power300/aes_gtl_288_plot.png.data\n",
      "../../Downloads/pico_sim_swaes_300/swaes_pico_power300/aes_gtl_289_plot.png.data\n",
      "../../Downloads/pico_sim_swaes_300/swaes_pico_power300/aes_gtl_290_plot.png.data\n",
      "../../Downloads/pico_sim_swaes_300/swaes_pico_power300/aes_gtl_291_plot.png.data\n",
      "../../Downloads/pico_sim_swaes_300/swaes_pico_power300/aes_gtl_292_plot.png.data\n",
      "../../Downloads/pico_sim_swaes_300/swaes_pico_power300/aes_gtl_293_plot.png.data\n",
      "../../Downloads/pico_sim_swaes_300/swaes_pico_power300/aes_gtl_294_plot.png.data\n",
      "../../Downloads/pico_sim_swaes_300/swaes_pico_power300/aes_gtl_295_plot.png.data\n",
      "../../Downloads/pico_sim_swaes_300/swaes_pico_power300/aes_gtl_296_plot.png.data\n",
      "../../Downloads/pico_sim_swaes_300/swaes_pico_power300/aes_gtl_297_plot.png.data\n",
      "../../Downloads/pico_sim_swaes_300/swaes_pico_power300/aes_gtl_298_plot.png.data\n",
      "../../Downloads/pico_sim_swaes_300/swaes_pico_power300/aes_gtl_299_plot.png.data\n",
      "../../Downloads/pico_sim_swaes_300/swaes_pico_power300/aes_gtl_300_plot.png.data\n",
      "../../Downloads/pico_sim_swaes_300/swaes_pico_power300/aes_gtl_301_plot.png.data\n",
      "../../Downloads/pico_sim_swaes_300/swaes_pico_power300/aes_gtl_302_plot.png.data\n",
      "../../Downloads/pico_sim_swaes_300/swaes_pico_power300/aes_gtl_303_plot.png.data\n",
      "../../Downloads/pico_sim_swaes_300/swaes_pico_power300/aes_gtl_304_plot.png.data\n",
      "../../Downloads/pico_sim_swaes_300/swaes_pico_power300/aes_gtl_305_plot.png.data\n",
      "../../Downloads/pico_sim_swaes_300/swaes_pico_power300/aes_gtl_306_plot.png.data\n",
      "../../Downloads/pico_sim_swaes_300/swaes_pico_power300/aes_gtl_307_plot.png.data\n",
      "../../Downloads/pico_sim_swaes_300/swaes_pico_power300/aes_gtl_308_plot.png.data\n",
      "../../Downloads/pico_sim_swaes_300/swaes_pico_power300/aes_gtl_309_plot.png.data\n",
      "../../Downloads/pico_sim_swaes_300/swaes_pico_power300/aes_gtl_310_plot.png.data\n",
      "../../Downloads/pico_sim_swaes_300/swaes_pico_power300/aes_gtl_311_plot.png.data\n",
      "../../Downloads/pico_sim_swaes_300/swaes_pico_power300/aes_gtl_312_plot.png.data\n",
      "../../Downloads/pico_sim_swaes_300/swaes_pico_power300/aes_gtl_313_plot.png.data\n",
      "../../Downloads/pico_sim_swaes_300/swaes_pico_power300/aes_gtl_314_plot.png.data\n",
      "../../Downloads/pico_sim_swaes_300/swaes_pico_power300/aes_gtl_315_plot.png.data\n",
      "../../Downloads/pico_sim_swaes_300/swaes_pico_power300/aes_gtl_316_plot.png.data\n",
      "../../Downloads/pico_sim_swaes_300/swaes_pico_power300/aes_gtl_317_plot.png.data\n"
     ]
    }
   ],
   "source": [
    "import glob\n",
    "import matplotlib.pylab as plt\n",
    "NumofTraces = NumTraces\n",
    "strx = []\n",
    "stry = []\n",
    "floatx = []\n",
    "floaty = []\n",
    "path = \"../../Downloads/pico_sim_swaes_300/swaes_pico_power300/*.data\"\n",
    "#path = \"../../Downloads/pico_coaes_512/gate/picoaes_tsmc180_200_sca_trace_0_plot.png.data\"\n",
    "for filename in sorted(glob.glob(path, recursive=True),key = lambda x: x[-20:]):\n",
    "    print(filename)\n",
    "    with open(filename, 'r') as f:\n",
    "        next(f)\n",
    "        for line in f:\n",
    "            row = line.split()\n",
    "            strx.append(row[-2])\n",
    "            stry.append(row[-1])\n",
    "for i in range (len(strx)):\n",
    "    floatx.append(float(strx[i]))\n",
    "    floaty.append(float(stry[i]))\n",
    "floatx = np.hstack(floatx)\n",
    "floaty = np.hstack(floaty)\n",
    "trace_array_x = np.array_split(floatx, NumofTraces)\n",
    "trace_array_y = np.array_split(floaty, NumofTraces)"
   ]
  },
  {
   "cell_type": "code",
   "execution_count": 8,
   "id": "1fe7665e",
   "metadata": {},
   "outputs": [
    {
     "data": {
      "text/plain": [
       "318"
      ]
     },
     "execution_count": 8,
     "metadata": {},
     "output_type": "execute_result"
    }
   ],
   "source": [
    "len(trace_array_y)"
   ]
  },
  {
   "cell_type": "code",
   "execution_count": 9,
   "id": "5dd72d4d",
   "metadata": {},
   "outputs": [
    {
     "data": {
      "text/plain": [
       "[<matplotlib.lines.Line2D at 0x7febbe420340>]"
      ]
     },
     "execution_count": 9,
     "metadata": {},
     "output_type": "execute_result"
    },
    {
     "data": {
      "image/png": "[encoded data removed]",
      "text/plain": [
       "<Figure size 432x288 with 1 Axes>"
      ]
     },
     "metadata": {
      "needs_background": "light"
     },
     "output_type": "display_data"
    }
   ],
   "source": [
    "plt.plot(trace_array_y[0])"
   ]
  },
  {
   "cell_type": "code",
   "execution_count": 10,
   "id": "337fab42",
   "metadata": {},
   "outputs": [],
   "source": [
    "N = 60"
   ]
  },
  {
   "cell_type": "code",
   "execution_count": 11,
   "id": "5abe417d",
   "metadata": {},
   "outputs": [
    {
     "name": "stdout",
     "output_type": "stream",
     "text": [
      "60\n",
      "60\n",
      "60\n"
     ]
    }
   ],
   "source": [
    "pt_array = pt_array[0:N]\n",
    "key_array = key_array[0:N]\n",
    "trace_array_y = trace_array_y[0:N]\n",
    "print(len(pt_array))\n",
    "print(len(key_array))\n",
    "print(len(trace_array_y))"
   ]
  },
  {
   "cell_type": "markdown",
   "id": "50bf666b",
   "metadata": {},
   "source": [
    "# SBox"
   ]
  },
  {
   "cell_type": "code",
   "execution_count": 12,
   "id": "475b2e7f",
   "metadata": {},
   "outputs": [],
   "source": [
    "sbox = (\n",
    "    0x63, 0x7c, 0x77, 0x7b, 0xf2, 0x6b, 0x6f, 0xc5, 0x30, 0x01, 0x67, 0x2b, 0xfe, 0xd7, 0xab, 0x76,\n",
    "    0xca, 0x82, 0xc9, 0x7d, 0xfa, 0x59, 0x47, 0xf0, 0xad, 0xd4, 0xa2, 0xaf, 0x9c, 0xa4, 0x72, 0xc0,\n",
    "    0xb7, 0xfd, 0x93, 0x26, 0x36, 0x3f, 0xf7, 0xcc, 0x34, 0xa5, 0xe5, 0xf1, 0x71, 0xd8, 0x31, 0x15,\n",
    "    0x04, 0xc7, 0x23, 0xc3, 0x18, 0x96, 0x05, 0x9a, 0x07, 0x12, 0x80, 0xe2, 0xeb, 0x27, 0xb2, 0x75,\n",
    "    0x09, 0x83, 0x2c, 0x1a, 0x1b, 0x6e, 0x5a, 0xa0, 0x52, 0x3b, 0xd6, 0xb3, 0x29, 0xe3, 0x2f, 0x84,\n",
    "    0x53, 0xd1, 0x00, 0xed, 0x20, 0xfc, 0xb1, 0x5b, 0x6a, 0xcb, 0xbe, 0x39, 0x4a, 0x4c, 0x58, 0xcf,\n",
    "    0xd0, 0xef, 0xaa, 0xfb, 0x43, 0x4d, 0x33, 0x85, 0x45, 0xf9, 0x02, 0x7f, 0x50, 0x3c, 0x9f, 0xa8,\n",
    "    0x51, 0xa3, 0x40, 0x8f, 0x92, 0x9d, 0x38, 0xf5, 0xbc, 0xb6, 0xda, 0x21, 0x10, 0xff, 0xf3, 0xd2,\n",
    "    0xcd, 0x0c, 0x13, 0xec, 0x5f, 0x97, 0x44, 0x17, 0xc4, 0xa7, 0x7e, 0x3d, 0x64, 0x5d, 0x19, 0x73,\n",
    "    0x60, 0x81, 0x4f, 0xdc, 0x22, 0x2a, 0x90, 0x88, 0x46, 0xee, 0xb8, 0x14, 0xde, 0x5e, 0x0b, 0xdb,\n",
    "    0xe0, 0x32, 0x3a, 0x0a, 0x49, 0x06, 0x24, 0x5c, 0xc2, 0xd3, 0xac, 0x62, 0x91, 0x95, 0xe4, 0x79,\n",
    "    0xe7, 0xc8, 0x37, 0x6d, 0x8d, 0xd5, 0x4e, 0xa9, 0x6c, 0x56, 0xf4, 0xea, 0x65, 0x7a, 0xae, 0x08,\n",
    "    0xba, 0x78, 0x25, 0x2e, 0x1c, 0xa6, 0xb4, 0xc6, 0xe8, 0xdd, 0x74, 0x1f, 0x4b, 0xbd, 0x8b, 0x8a,\n",
    "    0x70, 0x3e, 0xb5, 0x66, 0x48, 0x03, 0xf6, 0x0e, 0x61, 0x35, 0x57, 0xb9, 0x86, 0xc1, 0x1d, 0x9e,\n",
    "    0xe1, 0xf8, 0x98, 0x11, 0x69, 0xd9, 0x8e, 0x94, 0x9b, 0x1e, 0x87, 0xe9, 0xce, 0x55, 0x28, 0xdf,\n",
    "    0x8c, 0xa1, 0x89, 0x0d, 0xbf, 0xe6, 0x42, 0x68, 0x41, 0x99, 0x2d, 0x0f, 0xb0, 0x54, 0xbb, 0x16)\n",
    "\n",
    "def intermediate(pt, keyguess):\n",
    "    return sbox[pt ^ keyguess]\n",
    "\n",
    "HW = [bin(n).count(\"1\") for n in range(0, 256)]"
   ]
  },
  {
   "cell_type": "markdown",
   "id": "d21b688e",
   "metadata": {},
   "source": [
    "# CPA Attack -- Method 1"
   ]
  },
  {
   "cell_type": "code",
   "execution_count": 13,
   "id": "f111a72b",
   "metadata": {
    "scrolled": true
   },
   "outputs": [
    {
     "data": {
      "application/vnd.jupyter.widget-view+json": {
       "model_id": "b43b82331c5747a0a00eb4431a3af845",
       "version_major": 2,
       "version_minor": 0
      },
      "text/plain": [
       "  0%|          | 0/16 [00:00<?, ?it/s]"
      ]
     },
     "metadata": {},
     "output_type": "display_data"
    },
    {
     "data": {
      "application/vnd.jupyter.widget-view+json": {
       "model_id": "c903b668f00647d9a3747e2c16c605c0",
       "version_major": 2,
       "version_minor": 0
      },
      "text/plain": [
       "  0%|          | 0/256 [00:00<?, ?it/s]"
      ]
     },
     "metadata": {},
     "output_type": "display_data"
    },
    {
     "ename": "TypeError",
     "evalue": "list indices must be integers or slices, not tuple",
     "output_type": "error",
     "traceback": [
      "\u001b[0;31m---------------------------------------------------------------------------\u001b[0m",
      "\u001b[0;31mTypeError\u001b[0m                                 Traceback (most recent call last)",
      "\u001b[0;32m<ipython-input-13-49c03755f2cf>\u001b[0m in \u001b[0;36m<module>\u001b[0;34m\u001b[0m\n\u001b[1;32m     34\u001b[0m         \u001b[0;32mfor\u001b[0m \u001b[0mtnum\u001b[0m \u001b[0;32min\u001b[0m \u001b[0mrange\u001b[0m\u001b[0;34m(\u001b[0m\u001b[0;36m0\u001b[0m\u001b[0;34m,\u001b[0m \u001b[0mnumtraces\u001b[0m\u001b[0;34m)\u001b[0m\u001b[0;34m:\u001b[0m\u001b[0;34m\u001b[0m\u001b[0;34m\u001b[0m\u001b[0m\n\u001b[1;32m     35\u001b[0m             \u001b[0mhdiff\u001b[0m \u001b[0;34m=\u001b[0m \u001b[0;34m(\u001b[0m\u001b[0mhyp\u001b[0m\u001b[0;34m[\u001b[0m\u001b[0mtnum\u001b[0m\u001b[0;34m]\u001b[0m \u001b[0;34m-\u001b[0m \u001b[0mmeanh\u001b[0m\u001b[0;34m)\u001b[0m\u001b[0;34m\u001b[0m\u001b[0;34m\u001b[0m\u001b[0m\n\u001b[0;32m---> 36\u001b[0;31m             \u001b[0mtdiff\u001b[0m \u001b[0;34m=\u001b[0m \u001b[0mtrace_array_y\u001b[0m\u001b[0;34m[\u001b[0m\u001b[0mtnum\u001b[0m\u001b[0;34m,\u001b[0m \u001b[0;34m:\u001b[0m\u001b[0;34m]\u001b[0m \u001b[0;34m-\u001b[0m \u001b[0mmeant\u001b[0m\u001b[0;34m\u001b[0m\u001b[0;34m\u001b[0m\u001b[0m\n\u001b[0m\u001b[1;32m     37\u001b[0m \u001b[0;34m\u001b[0m\u001b[0m\n\u001b[1;32m     38\u001b[0m             \u001b[0msumnum\u001b[0m \u001b[0;34m=\u001b[0m \u001b[0msumnum\u001b[0m \u001b[0;34m+\u001b[0m \u001b[0;34m(\u001b[0m\u001b[0mhdiff\u001b[0m \u001b[0;34m*\u001b[0m \u001b[0mtdiff\u001b[0m\u001b[0;34m)\u001b[0m\u001b[0;34m\u001b[0m\u001b[0;34m\u001b[0m\u001b[0m\n",
      "\u001b[0;31mTypeError\u001b[0m: list indices must be integers or slices, not tuple"
     ]
    }
   ],
   "source": [
    "from tqdm.notebook import trange\n",
    "numtraces = len(trace_array_y) #total number of traces\n",
    "numpoint = len(trace_array_y[0]) #samples per trace\n",
    "\n",
    "knownkey = key_array[0]\n",
    "\n",
    "key_guess = []\n",
    "full_cpa_list = []\n",
    "known_key = [0xf0, 0xde, 0xbc, 0x9a, 0x78, 0x56, 0x34, 0x12, 0xef, 0xcd, 0xab, 0x89, 0x67, 0x45, 0x23, 0x01]\n",
    "\n",
    "for bnum in trange(0, 16):\n",
    "    cpaoutput = [0] * 256\n",
    "    maxcpa = [0] * 256\n",
    "    for kguess in trange(0, 256):\n",
    "\n",
    "        # Initialize arrays &amp; variables to zero\n",
    "        sumnum = np.zeros(numpoint)\n",
    "        sumden1 = np.zeros(numpoint)\n",
    "        sumden2 = np.zeros(numpoint)\n",
    "        \n",
    "        hyp = np.zeros(numtraces)\n",
    "        for tnum in range(0, numtraces):\n",
    "            st1 = pt_array[tnum][bnum] ^ kguess\n",
    "            st2 = sbox[st1]\n",
    "            hyp[tnum] = HW[st1 ^ st2]\n",
    "\n",
    "        # Mean of hypothesis\n",
    "        meanh = np.mean(hyp, dtype=np.float64)\n",
    "\n",
    "        # Mean of all points in trace\n",
    "        meant = np.mean(trace_array_y, axis=0, dtype=np.float64)\n",
    "\n",
    "        # For each trace, do the following\n",
    "        for tnum in range(0, numtraces):\n",
    "            hdiff = (hyp[tnum] - meanh)\n",
    "            tdiff = trace_array_y[tnum, :] - meant\n",
    "\n",
    "            sumnum = sumnum + (hdiff * tdiff)\n",
    "            sumden1 = sumden1 + hdiff * hdiff\n",
    "            sumden2 = sumden2 + tdiff * tdiff\n",
    "\n",
    "        cpaoutput[kguess] = sumnum / np.sqrt(sumden1 * sumden2)\n",
    "        maxcpa[kguess] = max(abs(cpaoutput[kguess]))\n",
    "\n",
    "    full_cpa_list.append(cpaoutput)\n",
    "    #np.array(full_cpa_list[bnum]).tofile(\"new_cpa_byte%2d.bin\" %(bnum))\n",
    "    sorted_args = np.argsort(maxcpa)[::-1]\n",
    "    key_guess.append(sorted_args[0])\n",
    "    print(\"Subkey %2d - most likely %02X (actual %02X)\"%(bnum, key_guess[bnum], known_key[bnum]))\n",
    "    print(\" Top 5 guesses: \")\n",
    "    for i in range(0, 5):\n",
    "        g = sorted_args[i]\n",
    "        print(\"   %02X - Diff = %f\"%(g, maxcpa[g]))\n",
    "    print(\"\\n\")"
   ]
  },
  {
   "cell_type": "code",
   "execution_count": 162,
   "id": "b3496294",
   "metadata": {},
   "outputs": [
    {
     "data": {
      "image/png": "[encoded data removed]",
      "text/plain": [
       "<Figure size 432x288 with 1 Axes>"
      ]
     },
     "metadata": {
      "needs_background": "light"
     },
     "output_type": "display_data"
    }
   ],
   "source": [
    "correct_key = key_array[0][1] # 0x44\n",
    "bnum = 1\n",
    "plt.figure()\n",
    "for i in range(0, len(full_cpa_list[bnum])):\n",
    "    if (i == correct_key):\n",
    "        plt.plot(abs(full_cpa_list[bnum][i]),color=\"red\",linewidth=1.5, linestyle='-',zorder=255)\n",
    "    else:\n",
    "        plt.plot(abs(full_cpa_list[bnum][i]),color=\"grey\")\n",
    "plt.show()"
   ]
  },
  {
   "cell_type": "code",
   "execution_count": 177,
   "id": "1fe1fcd3",
   "metadata": {},
   "outputs": [
    {
     "data": {
      "image/png": "[encoded data removed]",
      "text/plain": [
       "<Figure size 432x288 with 1 Axes>"
      ]
     },
     "metadata": {
      "needs_background": "light"
     },
     "output_type": "display_data"
    }
   ],
   "source": [
    "plt.figure()\n",
    "for subkey in range(0, 16):\n",
    "    plt.plot(full_cpa_list[subkey][known_key[subkey]])\n",
    "plt.show()"
   ]
  },
  {
   "cell_type": "code",
   "execution_count": null,
   "id": "30a15f9c",
   "metadata": {},
   "outputs": [],
   "source": []
  },
  {
   "cell_type": "markdown",
   "id": "3784306c",
   "metadata": {},
   "source": [
    "# CPA Attack -- Method 2"
   ]
  },
  {
   "cell_type": "code",
   "execution_count": 14,
   "id": "dfa93090",
   "metadata": {},
   "outputs": [],
   "source": [
    "def intermediate(pt, keyguess):\n",
    "    return sbox[np.uint64(pt) ^ np.uint64(keyguess)]\n",
    "\n",
    "def mean(X):\n",
    "    return np.sum(X, axis=0)/len(X)\n",
    "\n",
    "def std_dev(X, X_bar):\n",
    "    return np.sqrt(np.sum((X-X_bar)**2, axis=0))\n",
    "\n",
    "def cov(X, X_bar, Y, Y_bar):\n",
    "    return np.sum((X-X_bar)*(Y-Y_bar), axis=0)\n",
    "\n",
    "HW = [bin(n).count(\"1\") for n in range(0, 256)]"
   ]
  },
  {
   "cell_type": "code",
   "execution_count": 15,
   "id": "1d848355",
   "metadata": {},
   "outputs": [
    {
     "data": {
      "application/vnd.jupyter.widget-view+json": {
       "model_id": "1f382e17ca104b58aa00ca54f7c7f78b",
       "version_major": 2,
       "version_minor": 0
      },
      "text/plain": [
       "  0%|          | 0/16 [00:00<?, ?it/s]"
      ]
     },
     "metadata": {},
     "output_type": "display_data"
    },
    {
     "data": {
      "application/vnd.jupyter.widget-view+json": {
       "model_id": "a43d7b1960534a39918c8f430470bb9e",
       "version_major": 2,
       "version_minor": 0
      },
      "text/plain": [
       "  0%|          | 0/256 [00:00<?, ?it/s]"
      ]
     },
     "metadata": {},
     "output_type": "display_data"
    },
    {
     "name": "stdout",
     "output_type": "stream",
     "text": [
      "Subkey  0 - most likely F0 (actual F0)\n",
      " Top 5 guesses: \n",
      "   F0 - Diff = 0.655750\n",
      "   AC - Diff = 0.518816\n",
      "   3D - Diff = 0.513350\n",
      "   DF - Diff = 0.497455\n",
      "   8C - Diff = 0.493010\n",
      "\n",
      "\n"
     ]
    },
    {
     "data": {
      "application/vnd.jupyter.widget-view+json": {
       "model_id": "ff9de27e7a534bf7bc7bab5e82cadc9e",
       "version_major": 2,
       "version_minor": 0
      },
      "text/plain": [
       "  0%|          | 0/256 [00:00<?, ?it/s]"
      ]
     },
     "metadata": {},
     "output_type": "display_data"
    },
    {
     "name": "stdout",
     "output_type": "stream",
     "text": [
      "Subkey  1 - most likely DE (actual DE)\n",
      " Top 5 guesses: \n",
      "   DE - Diff = 0.758598\n",
      "   57 - Diff = 0.537831\n",
      "   7C - Diff = 0.522106\n",
      "   1A - Diff = 0.519305\n",
      "   19 - Diff = 0.511837\n",
      "\n",
      "\n"
     ]
    },
    {
     "data": {
      "application/vnd.jupyter.widget-view+json": {
       "model_id": "cbc829deaf014281b336dc83626fe220",
       "version_major": 2,
       "version_minor": 0
      },
      "text/plain": [
       "  0%|          | 0/256 [00:00<?, ?it/s]"
      ]
     },
     "metadata": {},
     "output_type": "display_data"
    },
    {
     "name": "stdout",
     "output_type": "stream",
     "text": [
      "Subkey  2 - most likely BC (actual BC)\n",
      " Top 5 guesses: \n",
      "   BC - Diff = 0.968353\n",
      "   68 - Diff = 0.544562\n",
      "   97 - Diff = 0.541717\n",
      "   A2 - Diff = 0.526454\n",
      "   4D - Diff = 0.500313\n",
      "\n",
      "\n"
     ]
    },
    {
     "data": {
      "application/vnd.jupyter.widget-view+json": {
       "model_id": "f81711b3ab194afb813e5cab09499f3a",
       "version_major": 2,
       "version_minor": 0
      },
      "text/plain": [
       "  0%|          | 0/256 [00:00<?, ?it/s]"
      ]
     },
     "metadata": {},
     "output_type": "display_data"
    },
    {
     "name": "stdout",
     "output_type": "stream",
     "text": [
      "Subkey  3 - most likely 9A (actual 9A)\n",
      " Top 5 guesses: \n",
      "   9A - Diff = 0.783865\n",
      "   87 - Diff = 0.583686\n",
      "   32 - Diff = 0.529644\n",
      "   BC - Diff = 0.498168\n",
      "   7E - Diff = 0.492727\n",
      "\n",
      "\n"
     ]
    },
    {
     "data": {
      "application/vnd.jupyter.widget-view+json": {
       "model_id": "98860375fcae49fd925ddf570925a709",
       "version_major": 2,
       "version_minor": 0
      },
      "text/plain": [
       "  0%|          | 0/256 [00:00<?, ?it/s]"
      ]
     },
     "metadata": {},
     "output_type": "display_data"
    },
    {
     "name": "stdout",
     "output_type": "stream",
     "text": [
      "Subkey  4 - most likely 78 (actual 78)\n",
      " Top 5 guesses: \n",
      "   78 - Diff = 0.992042\n",
      "   1C - Diff = 0.545043\n",
      "   2C - Diff = 0.530100\n",
      "   13 - Diff = 0.528195\n",
      "   D9 - Diff = 0.521746\n",
      "\n",
      "\n"
     ]
    },
    {
     "data": {
      "application/vnd.jupyter.widget-view+json": {
       "model_id": "165e74ffc37444b0b86067311547cafd",
       "version_major": 2,
       "version_minor": 0
      },
      "text/plain": [
       "  0%|          | 0/256 [00:00<?, ?it/s]"
      ]
     },
     "metadata": {},
     "output_type": "display_data"
    },
    {
     "name": "stdout",
     "output_type": "stream",
     "text": [
      "Subkey  5 - most likely 56 (actual 56)\n",
      " Top 5 guesses: \n",
      "   56 - Diff = 0.551675\n",
      "   4E - Diff = 0.497428\n",
      "   27 - Diff = 0.493360\n",
      "   67 - Diff = 0.492695\n",
      "   C9 - Diff = 0.492025\n",
      "\n",
      "\n"
     ]
    },
    {
     "data": {
      "application/vnd.jupyter.widget-view+json": {
       "model_id": "ee2b903541194c128607f268cde0c9c0",
       "version_major": 2,
       "version_minor": 0
      },
      "text/plain": [
       "  0%|          | 0/256 [00:00<?, ?it/s]"
      ]
     },
     "metadata": {},
     "output_type": "display_data"
    },
    {
     "name": "stdout",
     "output_type": "stream",
     "text": [
      "Subkey  6 - most likely 34 (actual 34)\n",
      " Top 5 guesses: \n",
      "   34 - Diff = 0.928526\n",
      "   0A - Diff = 0.508294\n",
      "   97 - Diff = 0.505247\n",
      "   AB - Diff = 0.500331\n",
      "   ED - Diff = 0.487807\n",
      "\n",
      "\n"
     ]
    },
    {
     "data": {
      "application/vnd.jupyter.widget-view+json": {
       "model_id": "694b35ffa34a4acda498a272e5afb181",
       "version_major": 2,
       "version_minor": 0
      },
      "text/plain": [
       "  0%|          | 0/256 [00:00<?, ?it/s]"
      ]
     },
     "metadata": {},
     "output_type": "display_data"
    },
    {
     "name": "stdout",
     "output_type": "stream",
     "text": [
      "Subkey  7 - most likely 12 (actual 12)\n",
      " Top 5 guesses: \n",
      "   12 - Diff = 0.978208\n",
      "   52 - Diff = 0.523502\n",
      "   6F - Diff = 0.519486\n",
      "   15 - Diff = 0.517884\n",
      "   F8 - Diff = 0.516204\n",
      "\n",
      "\n"
     ]
    },
    {
     "data": {
      "application/vnd.jupyter.widget-view+json": {
       "model_id": "c2821746c6f84e20b2a503d705857a5c",
       "version_major": 2,
       "version_minor": 0
      },
      "text/plain": [
       "  0%|          | 0/256 [00:00<?, ?it/s]"
      ]
     },
     "metadata": {},
     "output_type": "display_data"
    },
    {
     "name": "stdout",
     "output_type": "stream",
     "text": [
      "Subkey  8 - most likely EF (actual EF)\n",
      " Top 5 guesses: \n",
      "   EF - Diff = 0.754172\n",
      "   F6 - Diff = 0.520889\n",
      "   4F - Diff = 0.517574\n",
      "   30 - Diff = 0.504598\n",
      "   19 - Diff = 0.500381\n",
      "\n",
      "\n"
     ]
    },
    {
     "data": {
      "application/vnd.jupyter.widget-view+json": {
       "model_id": "df988e42a0f74aad8c6122b32abaa6de",
       "version_major": 2,
       "version_minor": 0
      },
      "text/plain": [
       "  0%|          | 0/256 [00:00<?, ?it/s]"
      ]
     },
     "metadata": {},
     "output_type": "display_data"
    },
    {
     "name": "stdout",
     "output_type": "stream",
     "text": [
      "Subkey  9 - most likely CD (actual CD)\n",
      " Top 5 guesses: \n",
      "   CD - Diff = 0.929984\n",
      "   54 - Diff = 0.542714\n",
      "   5E - Diff = 0.539209\n",
      "   72 - Diff = 0.538916\n",
      "   EA - Diff = 0.519381\n",
      "\n",
      "\n"
     ]
    },
    {
     "data": {
      "application/vnd.jupyter.widget-view+json": {
       "model_id": "05841d46df884b17945aee1ba8ef296c",
       "version_major": 2,
       "version_minor": 0
      },
      "text/plain": [
       "  0%|          | 0/256 [00:00<?, ?it/s]"
      ]
     },
     "metadata": {},
     "output_type": "display_data"
    },
    {
     "name": "stdout",
     "output_type": "stream",
     "text": [
      "Subkey 10 - most likely AB (actual AB)\n",
      " Top 5 guesses: \n",
      "   AB - Diff = 0.961467\n",
      "   BA - Diff = 0.566697\n",
      "   3E - Diff = 0.502682\n",
      "   92 - Diff = 0.492798\n",
      "   85 - Diff = 0.491113\n",
      "\n",
      "\n"
     ]
    },
    {
     "data": {
      "application/vnd.jupyter.widget-view+json": {
       "model_id": "ada38e75bc5f4cbc9d0e1587cbbf9dae",
       "version_major": 2,
       "version_minor": 0
      },
      "text/plain": [
       "  0%|          | 0/256 [00:00<?, ?it/s]"
      ]
     },
     "metadata": {},
     "output_type": "display_data"
    },
    {
     "name": "stdout",
     "output_type": "stream",
     "text": [
      "Subkey 11 - most likely 89 (actual 89)\n",
      " Top 5 guesses: \n",
      "   89 - Diff = 0.776316\n",
      "   DC - Diff = 0.501621\n",
      "   EB - Diff = 0.500020\n",
      "   83 - Diff = 0.497146\n",
      "   35 - Diff = 0.490884\n",
      "\n",
      "\n"
     ]
    },
    {
     "data": {
      "application/vnd.jupyter.widget-view+json": {
       "model_id": "3ec11ecab78f448b95bace2a89a69820",
       "version_major": 2,
       "version_minor": 0
      },
      "text/plain": [
       "  0%|          | 0/256 [00:00<?, ?it/s]"
      ]
     },
     "metadata": {},
     "output_type": "display_data"
    },
    {
     "name": "stdout",
     "output_type": "stream",
     "text": [
      "Subkey 12 - most likely 67 (actual 67)\n",
      " Top 5 guesses: \n",
      "   67 - Diff = 0.911370\n",
      "   5B - Diff = 0.567062\n",
      "   28 - Diff = 0.515923\n",
      "   99 - Diff = 0.501133\n",
      "   D8 - Diff = 0.499282\n",
      "\n",
      "\n"
     ]
    },
    {
     "data": {
      "application/vnd.jupyter.widget-view+json": {
       "model_id": "a0717be7c2374bcbab6fcc6dc6f6038b",
       "version_major": 2,
       "version_minor": 0
      },
      "text/plain": [
       "  0%|          | 0/256 [00:00<?, ?it/s]"
      ]
     },
     "metadata": {},
     "output_type": "display_data"
    },
    {
     "name": "stdout",
     "output_type": "stream",
     "text": [
      "Subkey 13 - most likely 45 (actual 45)\n",
      " Top 5 guesses: \n",
      "   45 - Diff = 0.890550\n",
      "   F5 - Diff = 0.578955\n",
      "   94 - Diff = 0.548411\n",
      "   73 - Diff = 0.515598\n",
      "   D2 - Diff = 0.511656\n",
      "\n",
      "\n"
     ]
    },
    {
     "data": {
      "application/vnd.jupyter.widget-view+json": {
       "model_id": "6dea7c57834e4800ba047ac83d34512a",
       "version_major": 2,
       "version_minor": 0
      },
      "text/plain": [
       "  0%|          | 0/256 [00:00<?, ?it/s]"
      ]
     },
     "metadata": {},
     "output_type": "display_data"
    },
    {
     "name": "stdout",
     "output_type": "stream",
     "text": [
      "Subkey 14 - most likely 23 (actual 23)\n",
      " Top 5 guesses: \n",
      "   23 - Diff = 0.831934\n",
      "   D4 - Diff = 0.509294\n",
      "   07 - Diff = 0.506790\n",
      "   49 - Diff = 0.499458\n",
      "   F0 - Diff = 0.498868\n",
      "\n",
      "\n"
     ]
    },
    {
     "data": {
      "application/vnd.jupyter.widget-view+json": {
       "model_id": "2d17914e110a4d28b48a54335783871f",
       "version_major": 2,
       "version_minor": 0
      },
      "text/plain": [
       "  0%|          | 0/256 [00:00<?, ?it/s]"
      ]
     },
     "metadata": {},
     "output_type": "display_data"
    },
    {
     "name": "stdout",
     "output_type": "stream",
     "text": [
      "Subkey 15 - most likely 01 (actual 01)\n",
      " Top 5 guesses: \n",
      "   01 - Diff = 0.898563\n",
      "   57 - Diff = 0.543397\n",
      "   B0 - Diff = 0.508728\n",
      "   21 - Diff = 0.507074\n",
      "   06 - Diff = 0.504191\n",
      "\n",
      "\n"
     ]
    }
   ],
   "source": [
    "t_bar = mean(np.array(trace_array_y))\n",
    "o_t = std_dev(np.array(trace_array_y), t_bar)\n",
    "\n",
    "key_guess = []\n",
    "full_cpa_list = []\n",
    "known_key = [0xf0, 0xde, 0xbc, 0x9a, 0x78, 0x56, 0x34, 0x12, 0xef, 0xcd, 0xab, 0x89, 0x67, 0x45, 0x23, 0x01]\n",
    "\n",
    "for bnum in trange(0, 16):\n",
    "    max_cpa = [0] * 256\n",
    "    byte_cpa_list = [0] * 256\n",
    "    for kguess in trange(0, 256):\n",
    "        hws = np.array([[HW[intermediate(textin[bnum],kguess)] for textin in pt_array]]).transpose()\n",
    "        hws_bar = mean(hws)\n",
    "        o_hws = std_dev(hws, hws_bar)\n",
    "        correlation = cov(np.array(trace_array_y), t_bar, hws, hws_bar)\n",
    "        cpaoutput = correlation/(o_t*o_hws)\n",
    "        byte_cpa_list[kguess] = cpaoutput\n",
    "        max_cpa[kguess] = np.max(abs(cpaoutput))\n",
    "        \n",
    "    full_cpa_list.append(byte_cpa_list[:])\n",
    "    #np.array(full_cpa_list[bnum]).tofile(\"cpa_byte%2d.bin\" %(bnum))\n",
    "    sorted_args = np.argsort(max_cpa)[::-1]\n",
    "    key_guess.append(sorted_args[0])\n",
    "    print(\"Subkey %2d - most likely %02X (actual %02X)\"%(bnum, key_guess[bnum], known_key[bnum]))\n",
    "    print(\" Top 5 guesses: \")\n",
    "    for i in range(0, 5):\n",
    "        g = sorted_args[i]\n",
    "        print(\"   %02X - Diff = %f\"%(g, max_cpa[g]))\n",
    "    print(\"\\n\")"
   ]
  },
  {
   "cell_type": "markdown",
   "id": "7eddbe98",
   "metadata": {},
   "source": [
    "# How Many Traces Needed for Method 1"
   ]
  },
  {
   "cell_type": "code",
   "execution_count": null,
   "id": "ef7a6834",
   "metadata": {},
   "outputs": [],
   "source": [
    "traces_enc_full = np.array(np.array_split(np.fromfile(\"../../Downloads/traces_enc_swaes_60k.bin\", dtype=np.float64), N))"
   ]
  },
  {
   "cell_type": "code",
   "execution_count": null,
   "id": "81c71cbe",
   "metadata": {},
   "outputs": [],
   "source": [
    "def num_same(a, b):\n",
    "    \n",
    "    if len(a) != len(b):\n",
    "        raise ValueError(\"Arrays must be same length!\")\n",
    "    \n",
    "    #Count how many list items match up\n",
    "    same = 0\n",
    "    for i, _ in enumerate(a):\n",
    "        if a[i] == b[i]:\n",
    "            same += 1\n",
    "    \n",
    "    return same"
   ]
  },
  {
   "cell_type": "code",
   "execution_count": null,
   "id": "be89cb1f",
   "metadata": {},
   "outputs": [],
   "source": [
    "full_cpa_list = []\n",
    "key_full_guess = []\n",
    "how_many_correct_keybytes = []\n",
    "is_same = 0\n",
    "\n",
    "knownkey = key_arrays[0]\n",
    "traces_enc = []\n",
    "pt = []\n",
    "known_key = [0x54, 0xee, 0xff, 0x11, 0x21, 0x32, 0xeb, 0x43, 0xbb, 0xaa, 0xff, 0x23, 0x98, 0x54, 0x12, 0x12]\n",
    "\n",
    "for traces in trange(1000,25000,1000):\n",
    "    traces_enc = np.array(traces_enc_full[0:traces])\n",
    "    pt = np.array(text_arrays[0:traces])\n",
    "    numtraces = len(traces_enc) \n",
    "    numpoint = len(traces_enc[0]) \n",
    "    \n",
    "    key_guess = []\n",
    "    cpa_list = []\n",
    "    for bnum in trange(0, 16):\n",
    "        \n",
    "        cpaoutput = [0] * 256\n",
    "        maxcpa = [0] * 256\n",
    "        \n",
    "        for kguess in range(0, 256):\n",
    "\n",
    "        # Initialize arrays &amp; variables to zero\n",
    "            sumnum = np.zeros(numpoint)\n",
    "            sumden1 = np.zeros(numpoint)\n",
    "            sumden2 = np.zeros(numpoint)\n",
    "        \n",
    "            hyp = np.zeros(numtraces)\n",
    "            for tnum in range(0, numtraces):\n",
    "                hyp[tnum] = HW[intermediate(pt[tnum][bnum], kguess)]\n",
    "\n",
    "            # Mean of hypothesis\n",
    "            meanh = np.mean(hyp, dtype=np.float64)\n",
    "\n",
    "            # Mean of all points in trace\n",
    "            meant = np.mean(traces_enc, axis=0, dtype=np.float64)\n",
    "\n",
    "            # For each trace, do the following\n",
    "            for tnum in range(0, numtraces):\n",
    "                hdiff = (hyp[tnum] - meanh)\n",
    "                tdiff = traces_enc[tnum, :] - meant\n",
    "\n",
    "                sumnum = sumnum + (hdiff * tdiff)\n",
    "                sumden1 = sumden1 + hdiff * hdiff\n",
    "                sumden2 = sumden2 + tdiff * tdiff\n",
    "\n",
    "            cpaoutput[kguess] = sumnum / np.sqrt(sumden1 * sumden2)\n",
    "            maxcpa[kguess] = max(abs(cpaoutput[kguess]))\n",
    "\n",
    "        cpa_list.append(cpaoutput)\n",
    "        sorted_args = np.argsort(maxcpa)[::-1]\n",
    "        key_guess.append(sorted_args[0])\n",
    "\n",
    "    full_cpa_list.append(cpa_list)\n",
    "    key_full_guess.append(key_guess)\n",
    "    is_same = num_same(key_guess,known_key)\n",
    "    how_many_correct_keybytes.append(is_same)\n",
    "    \n",
    "    print(\"For %2d traces, correct key byte are %2d\" %(traces,is_same))\n",
    "    print(\"\\n\")"
   ]
  },
  {
   "cell_type": "markdown",
   "id": "d9b186a7",
   "metadata": {},
   "source": [
    "# How Many Traces Needed for Method 2"
   ]
  },
  {
   "cell_type": "code",
   "execution_count": null,
   "id": "eee2b3d2",
   "metadata": {},
   "outputs": [],
   "source": [
    "full_cpa_list = []\n",
    "key_full_guess = []\n",
    "how_many_correct_keybytes = []\n",
    "is_same = 0\n",
    "\n",
    "traces_enc = []\n",
    "text_arrays = []\n",
    "\n",
    "known_key = [0x54, 0xee, 0xff, 0x11, 0x21, 0x32, 0xeb, 0x43, 0xbb, 0xaa, 0xff, 0x23, 0x98, 0x54, 0x12, 0x12]\n",
    "\n",
    "for traces in trange(1000,25000,1000):\n",
    "    traces_enc = np.array(traces_enc_full[0:traces])\n",
    "    text_arrays = np.array(text_arrays_full[0:traces])\n",
    "    \n",
    "    t_bar = mean(traces_enc)\n",
    "    o_t = std_dev(traces_enc, t_bar)\n",
    "    \n",
    "    key_guess = []\n",
    "    cpa_list = []\n",
    "    for bnum in trange(0, 16):\n",
    "        \n",
    "        max_cpa = [0] * 256\n",
    "        byte_cpa_list = [0] * 256\n",
    "        \n",
    "        for kguess in range(0, 256):\n",
    "            hws = np.array([[HW[intermediate(textin[bnum],kguess)] for textin in text_arrays]]).transpose()\n",
    "            hws_bar = mean(hws)\n",
    "            o_hws = std_dev(hws, hws_bar)\n",
    "            correlation = cov(traces_enc, t_bar, hws, hws_bar)\n",
    "            cpaoutput = correlation/(o_t*o_hws)\n",
    "            byte_cpa_list[kguess] = cpaoutput\n",
    "            max_cpa[kguess] = np.max(abs(cpaoutput))\n",
    "            \n",
    "        cpa_list.append(byte_cpa_list)\n",
    "        sorted_args = np.argsort(max_cpa)[::-1]\n",
    "        key_guess.append(sorted_args[0])\n",
    "\n",
    "    full_cpa_list.append(cpa_list)\n",
    "    key_full_guess.append(key_guess)\n",
    "    is_same = num_same(key_guess,known_key)\n",
    "    how_many_correct_keybytes.append(is_same)\n",
    "    \n",
    "    print(\"For %2d traces, correct key byte are %2d\" %(traces,is_same))\n",
    "    print(\"\\n\")"
   ]
  }
 ],
 "metadata": {
  "kernelspec": {
   "display_name": "Python 3",
   "language": "python",
   "name": "python3"
  },
  "language_info": {
   "codemirror_mode": {
    "name": "ipython",
    "version": 3
   },
   "file_extension": ".py",
   "mimetype": "text/x-python",
   "name": "python",
   "nbconvert_exporter": "python",
   "pygments_lexer": "ipython3",
   "version": "3.8.8"
  }
 },
 "nbformat": 4,
 "nbformat_minor": 5
}
