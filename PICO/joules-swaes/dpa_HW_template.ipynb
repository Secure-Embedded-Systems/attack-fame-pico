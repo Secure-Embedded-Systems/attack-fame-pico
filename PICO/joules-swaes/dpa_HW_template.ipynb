{
 "cells": [
  {
   "cell_type": "markdown",
   "id": "cf20c307",
   "metadata": {},
   "source": [
    "# Import plaintext"
   ]
  },
  {
   "cell_type": "code",
   "execution_count": 1,
   "id": "612dcdb8",
   "metadata": {},
   "outputs": [],
   "source": [
    "from tqdm.notebook import trange\n",
    "NumTraces = 238"
   ]
  },
  {
   "cell_type": "code",
   "execution_count": 2,
   "id": "d0cd58ec",
   "metadata": {},
   "outputs": [],
   "source": [
    "import pathlib\n",
    "import numpy as np\n",
    "pt = []\n",
    "for path in pathlib.Path(\"../../joules-swaes-picochip\").iterdir():\n",
    "    if path.is_file():\n",
    "        current_file = open(path, \"r\")\n",
    "        for i in range (NumTraces):\n",
    "            a = current_file.readline()\n",
    "            pt.append(a)\n",
    "        current_file.close()\n",
    "#pt.sort()"
   ]
  },
  {
   "cell_type": "code",
   "execution_count": 3,
   "id": "9e978d75",
   "metadata": {},
   "outputs": [
    {
     "name": "stdout",
     "output_type": "stream",
     "text": [
      "238\n",
      "16\n"
     ]
    }
   ],
   "source": [
    "pt_array = []\n",
    "for i in range (len(pt)):\n",
    "    b = bytes.fromhex(pt[i])\n",
    "    one_array = np.frombuffer(b,dtype=np.uint8)\n",
    "    pt_array.append(one_array)\n",
    "print(len(pt_array))\n",
    "print(len(pt_array[0]))"
   ]
  },
  {
   "cell_type": "markdown",
   "id": "302d39c1",
   "metadata": {},
   "source": [
    "# Import key"
   ]
  },
  {
   "cell_type": "code",
   "execution_count": 4,
   "id": "2acabbf1",
   "metadata": {},
   "outputs": [
    {
     "name": "stdout",
     "output_type": "stream",
     "text": [
      "238\n",
      "16\n"
     ]
    }
   ],
   "source": [
    "key_array = []\n",
    "key = 'f0debc9a78563412efcdab8967452301'\n",
    "for i in range (NumTraces):\n",
    "    b = bytes.fromhex(key)\n",
    "    one_array = np.frombuffer(b,dtype=np.uint8)\n",
    "    key_array.append(one_array)\n",
    "print(len(key_array))\n",
    "print(len(key_array[0]))"
   ]
  },
  {
   "cell_type": "markdown",
   "id": "e126d236",
   "metadata": {},
   "source": [
    "# Import traces"
   ]
  },
  {
   "cell_type": "code",
   "execution_count": 5,
   "id": "c811bf9a",
   "metadata": {},
   "outputs": [
    {
     "name": "stdout",
     "output_type": "stream",
     "text": [
      "../../joules-swaes-picochip/report_1000samples/aes_gtl_0_plot.png.data\n",
      "../../joules-swaes-picochip/report_1000samples/aes_gtl_1_plot.png.data\n",
      "../../joules-swaes-picochip/report_1000samples/aes_gtl_2_plot.png.data\n",
      "../../joules-swaes-picochip/report_1000samples/aes_gtl_3_plot.png.data\n",
      "../../joules-swaes-picochip/report_1000samples/aes_gtl_4_plot.png.data\n",
      "../../joules-swaes-picochip/report_1000samples/aes_gtl_5_plot.png.data\n",
      "../../joules-swaes-picochip/report_1000samples/aes_gtl_6_plot.png.data\n",
      "../../joules-swaes-picochip/report_1000samples/aes_gtl_7_plot.png.data\n",
      "../../joules-swaes-picochip/report_1000samples/aes_gtl_8_plot.png.data\n",
      "../../joules-swaes-picochip/report_1000samples/aes_gtl_9_plot.png.data\n",
      "../../joules-swaes-picochip/report_1000samples/aes_gtl_10_plot.png.data\n",
      "../../joules-swaes-picochip/report_1000samples/aes_gtl_11_plot.png.data\n",
      "../../joules-swaes-picochip/report_1000samples/aes_gtl_12_plot.png.data\n",
      "../../joules-swaes-picochip/report_1000samples/aes_gtl_13_plot.png.data\n",
      "../../joules-swaes-picochip/report_1000samples/aes_gtl_14_plot.png.data\n",
      "../../joules-swaes-picochip/report_1000samples/aes_gtl_15_plot.png.data\n",
      "../../joules-swaes-picochip/report_1000samples/aes_gtl_16_plot.png.data\n",
      "../../joules-swaes-picochip/report_1000samples/aes_gtl_17_plot.png.data\n",
      "../../joules-swaes-picochip/report_1000samples/aes_gtl_18_plot.png.data\n",
      "../../joules-swaes-picochip/report_1000samples/aes_gtl_19_plot.png.data\n",
      "../../joules-swaes-picochip/report_1000samples/aes_gtl_20_plot.png.data\n",
      "../../joules-swaes-picochip/report_1000samples/aes_gtl_21_plot.png.data\n",
      "../../joules-swaes-picochip/report_1000samples/aes_gtl_22_plot.png.data\n",
      "../../joules-swaes-picochip/report_1000samples/aes_gtl_23_plot.png.data\n",
      "../../joules-swaes-picochip/report_1000samples/aes_gtl_24_plot.png.data\n",
      "../../joules-swaes-picochip/report_1000samples/aes_gtl_25_plot.png.data\n",
      "../../joules-swaes-picochip/report_1000samples/aes_gtl_26_plot.png.data\n",
      "../../joules-swaes-picochip/report_1000samples/aes_gtl_27_plot.png.data\n",
      "../../joules-swaes-picochip/report_1000samples/aes_gtl_28_plot.png.data\n",
      "../../joules-swaes-picochip/report_1000samples/aes_gtl_29_plot.png.data\n",
      "../../joules-swaes-picochip/report_1000samples/aes_gtl_30_plot.png.data\n",
      "../../joules-swaes-picochip/report_1000samples/aes_gtl_31_plot.png.data\n",
      "../../joules-swaes-picochip/report_1000samples/aes_gtl_32_plot.png.data\n",
      "../../joules-swaes-picochip/report_1000samples/aes_gtl_33_plot.png.data\n",
      "../../joules-swaes-picochip/report_1000samples/aes_gtl_34_plot.png.data\n",
      "../../joules-swaes-picochip/report_1000samples/aes_gtl_35_plot.png.data\n",
      "../../joules-swaes-picochip/report_1000samples/aes_gtl_36_plot.png.data\n",
      "../../joules-swaes-picochip/report_1000samples/aes_gtl_37_plot.png.data\n",
      "../../joules-swaes-picochip/report_1000samples/aes_gtl_38_plot.png.data\n",
      "../../joules-swaes-picochip/report_1000samples/aes_gtl_39_plot.png.data\n",
      "../../joules-swaes-picochip/report_1000samples/aes_gtl_40_plot.png.data\n",
      "../../joules-swaes-picochip/report_1000samples/aes_gtl_41_plot.png.data\n",
      "../../joules-swaes-picochip/report_1000samples/aes_gtl_42_plot.png.data\n",
      "../../joules-swaes-picochip/report_1000samples/aes_gtl_43_plot.png.data\n",
      "../../joules-swaes-picochip/report_1000samples/aes_gtl_44_plot.png.data\n",
      "../../joules-swaes-picochip/report_1000samples/aes_gtl_45_plot.png.data\n",
      "../../joules-swaes-picochip/report_1000samples/aes_gtl_46_plot.png.data\n",
      "../../joules-swaes-picochip/report_1000samples/aes_gtl_47_plot.png.data\n",
      "../../joules-swaes-picochip/report_1000samples/aes_gtl_48_plot.png.data\n",
      "../../joules-swaes-picochip/report_1000samples/aes_gtl_49_plot.png.data\n",
      "../../joules-swaes-picochip/report_1000samples/aes_gtl_50_plot.png.data\n",
      "../../joules-swaes-picochip/report_1000samples/aes_gtl_51_plot.png.data\n",
      "../../joules-swaes-picochip/report_1000samples/aes_gtl_52_plot.png.data\n",
      "../../joules-swaes-picochip/report_1000samples/aes_gtl_53_plot.png.data\n",
      "../../joules-swaes-picochip/report_1000samples/aes_gtl_54_plot.png.data\n",
      "../../joules-swaes-picochip/report_1000samples/aes_gtl_55_plot.png.data\n",
      "../../joules-swaes-picochip/report_1000samples/aes_gtl_56_plot.png.data\n",
      "../../joules-swaes-picochip/report_1000samples/aes_gtl_57_plot.png.data\n",
      "../../joules-swaes-picochip/report_1000samples/aes_gtl_58_plot.png.data\n",
      "../../joules-swaes-picochip/report_1000samples/aes_gtl_59_plot.png.data\n",
      "../../joules-swaes-picochip/report_1000samples/aes_gtl_60_plot.png.data\n",
      "../../joules-swaes-picochip/report_1000samples/aes_gtl_61_plot.png.data\n",
      "../../joules-swaes-picochip/report_1000samples/aes_gtl_62_plot.png.data\n",
      "../../joules-swaes-picochip/report_1000samples/aes_gtl_63_plot.png.data\n",
      "../../joules-swaes-picochip/report_1000samples/aes_gtl_64_plot.png.data\n",
      "../../joules-swaes-picochip/report_1000samples/aes_gtl_65_plot.png.data\n",
      "../../joules-swaes-picochip/report_1000samples/aes_gtl_66_plot.png.data\n",
      "../../joules-swaes-picochip/report_1000samples/aes_gtl_67_plot.png.data\n",
      "../../joules-swaes-picochip/report_1000samples/aes_gtl_68_plot.png.data\n",
      "../../joules-swaes-picochip/report_1000samples/aes_gtl_69_plot.png.data\n",
      "../../joules-swaes-picochip/report_1000samples/aes_gtl_70_plot.png.data\n",
      "../../joules-swaes-picochip/report_1000samples/aes_gtl_71_plot.png.data\n",
      "../../joules-swaes-picochip/report_1000samples/aes_gtl_72_plot.png.data\n",
      "../../joules-swaes-picochip/report_1000samples/aes_gtl_73_plot.png.data\n",
      "../../joules-swaes-picochip/report_1000samples/aes_gtl_74_plot.png.data\n",
      "../../joules-swaes-picochip/report_1000samples/aes_gtl_75_plot.png.data\n",
      "../../joules-swaes-picochip/report_1000samples/aes_gtl_76_plot.png.data\n",
      "../../joules-swaes-picochip/report_1000samples/aes_gtl_77_plot.png.data\n",
      "../../joules-swaes-picochip/report_1000samples/aes_gtl_78_plot.png.data\n",
      "../../joules-swaes-picochip/report_1000samples/aes_gtl_79_plot.png.data\n",
      "../../joules-swaes-picochip/report_1000samples/aes_gtl_80_plot.png.data\n",
      "../../joules-swaes-picochip/report_1000samples/aes_gtl_81_plot.png.data\n",
      "../../joules-swaes-picochip/report_1000samples/aes_gtl_82_plot.png.data\n",
      "../../joules-swaes-picochip/report_1000samples/aes_gtl_83_plot.png.data\n",
      "../../joules-swaes-picochip/report_1000samples/aes_gtl_84_plot.png.data\n",
      "../../joules-swaes-picochip/report_1000samples/aes_gtl_85_plot.png.data\n",
      "../../joules-swaes-picochip/report_1000samples/aes_gtl_86_plot.png.data\n",
      "../../joules-swaes-picochip/report_1000samples/aes_gtl_87_plot.png.data\n",
      "../../joules-swaes-picochip/report_1000samples/aes_gtl_88_plot.png.data\n",
      "../../joules-swaes-picochip/report_1000samples/aes_gtl_89_plot.png.data\n",
      "../../joules-swaes-picochip/report_1000samples/aes_gtl_90_plot.png.data\n",
      "../../joules-swaes-picochip/report_1000samples/aes_gtl_91_plot.png.data\n",
      "../../joules-swaes-picochip/report_1000samples/aes_gtl_92_plot.png.data\n",
      "../../joules-swaes-picochip/report_1000samples/aes_gtl_93_plot.png.data\n",
      "../../joules-swaes-picochip/report_1000samples/aes_gtl_94_plot.png.data\n",
      "../../joules-swaes-picochip/report_1000samples/aes_gtl_95_plot.png.data\n",
      "../../joules-swaes-picochip/report_1000samples/aes_gtl_96_plot.png.data\n",
      "../../joules-swaes-picochip/report_1000samples/aes_gtl_97_plot.png.data\n",
      "../../joules-swaes-picochip/report_1000samples/aes_gtl_98_plot.png.data\n",
      "../../joules-swaes-picochip/report_1000samples/aes_gtl_99_plot.png.data\n",
      "../../joules-swaes-picochip/report_1000samples/aes_gtl_100_plot.png.data\n",
      "../../joules-swaes-picochip/report_1000samples/aes_gtl_101_plot.png.data\n",
      "../../joules-swaes-picochip/report_1000samples/aes_gtl_102_plot.png.data\n",
      "../../joules-swaes-picochip/report_1000samples/aes_gtl_103_plot.png.data\n",
      "../../joules-swaes-picochip/report_1000samples/aes_gtl_104_plot.png.data\n",
      "../../joules-swaes-picochip/report_1000samples/aes_gtl_105_plot.png.data\n",
      "../../joules-swaes-picochip/report_1000samples/aes_gtl_106_plot.png.data\n",
      "../../joules-swaes-picochip/report_1000samples/aes_gtl_107_plot.png.data\n",
      "../../joules-swaes-picochip/report_1000samples/aes_gtl_108_plot.png.data\n",
      "../../joules-swaes-picochip/report_1000samples/aes_gtl_109_plot.png.data\n",
      "../../joules-swaes-picochip/report_1000samples/aes_gtl_110_plot.png.data\n",
      "../../joules-swaes-picochip/report_1000samples/aes_gtl_111_plot.png.data\n",
      "../../joules-swaes-picochip/report_1000samples/aes_gtl_112_plot.png.data\n",
      "../../joules-swaes-picochip/report_1000samples/aes_gtl_113_plot.png.data\n",
      "../../joules-swaes-picochip/report_1000samples/aes_gtl_114_plot.png.data\n",
      "../../joules-swaes-picochip/report_1000samples/aes_gtl_115_plot.png.data\n",
      "../../joules-swaes-picochip/report_1000samples/aes_gtl_116_plot.png.data\n",
      "../../joules-swaes-picochip/report_1000samples/aes_gtl_117_plot.png.data\n",
      "../../joules-swaes-picochip/report_1000samples/aes_gtl_118_plot.png.data\n",
      "../../joules-swaes-picochip/report_1000samples/aes_gtl_119_plot.png.data\n",
      "../../joules-swaes-picochip/report_1000samples/aes_gtl_120_plot.png.data\n",
      "../../joules-swaes-picochip/report_1000samples/aes_gtl_121_plot.png.data\n",
      "../../joules-swaes-picochip/report_1000samples/aes_gtl_122_plot.png.data\n",
      "../../joules-swaes-picochip/report_1000samples/aes_gtl_123_plot.png.data\n",
      "../../joules-swaes-picochip/report_1000samples/aes_gtl_124_plot.png.data\n",
      "../../joules-swaes-picochip/report_1000samples/aes_gtl_125_plot.png.data\n",
      "../../joules-swaes-picochip/report_1000samples/aes_gtl_126_plot.png.data\n",
      "../../joules-swaes-picochip/report_1000samples/aes_gtl_127_plot.png.data\n",
      "../../joules-swaes-picochip/report_1000samples/aes_gtl_128_plot.png.data\n",
      "../../joules-swaes-picochip/report_1000samples/aes_gtl_129_plot.png.data\n",
      "../../joules-swaes-picochip/report_1000samples/aes_gtl_130_plot.png.data\n",
      "../../joules-swaes-picochip/report_1000samples/aes_gtl_131_plot.png.data\n",
      "../../joules-swaes-picochip/report_1000samples/aes_gtl_132_plot.png.data\n",
      "../../joules-swaes-picochip/report_1000samples/aes_gtl_133_plot.png.data\n",
      "../../joules-swaes-picochip/report_1000samples/aes_gtl_134_plot.png.data\n",
      "../../joules-swaes-picochip/report_1000samples/aes_gtl_135_plot.png.data\n",
      "../../joules-swaes-picochip/report_1000samples/aes_gtl_136_plot.png.data\n",
      "../../joules-swaes-picochip/report_1000samples/aes_gtl_137_plot.png.data\n",
      "../../joules-swaes-picochip/report_1000samples/aes_gtl_138_plot.png.data\n",
      "../../joules-swaes-picochip/report_1000samples/aes_gtl_139_plot.png.data\n",
      "../../joules-swaes-picochip/report_1000samples/aes_gtl_140_plot.png.data\n",
      "../../joules-swaes-picochip/report_1000samples/aes_gtl_141_plot.png.data\n",
      "../../joules-swaes-picochip/report_1000samples/aes_gtl_142_plot.png.data\n",
      "../../joules-swaes-picochip/report_1000samples/aes_gtl_143_plot.png.data\n",
      "../../joules-swaes-picochip/report_1000samples/aes_gtl_144_plot.png.data\n",
      "../../joules-swaes-picochip/report_1000samples/aes_gtl_145_plot.png.data\n",
      "../../joules-swaes-picochip/report_1000samples/aes_gtl_146_plot.png.data\n",
      "../../joules-swaes-picochip/report_1000samples/aes_gtl_147_plot.png.data\n",
      "../../joules-swaes-picochip/report_1000samples/aes_gtl_148_plot.png.data\n",
      "../../joules-swaes-picochip/report_1000samples/aes_gtl_149_plot.png.data\n",
      "../../joules-swaes-picochip/report_1000samples/aes_gtl_150_plot.png.data\n",
      "../../joules-swaes-picochip/report_1000samples/aes_gtl_151_plot.png.data\n",
      "../../joules-swaes-picochip/report_1000samples/aes_gtl_152_plot.png.data\n",
      "../../joules-swaes-picochip/report_1000samples/aes_gtl_153_plot.png.data\n",
      "../../joules-swaes-picochip/report_1000samples/aes_gtl_154_plot.png.data\n",
      "../../joules-swaes-picochip/report_1000samples/aes_gtl_155_plot.png.data\n",
      "../../joules-swaes-picochip/report_1000samples/aes_gtl_156_plot.png.data\n",
      "../../joules-swaes-picochip/report_1000samples/aes_gtl_157_plot.png.data\n",
      "../../joules-swaes-picochip/report_1000samples/aes_gtl_158_plot.png.data\n",
      "../../joules-swaes-picochip/report_1000samples/aes_gtl_159_plot.png.data\n",
      "../../joules-swaes-picochip/report_1000samples/aes_gtl_160_plot.png.data\n",
      "../../joules-swaes-picochip/report_1000samples/aes_gtl_161_plot.png.data\n",
      "../../joules-swaes-picochip/report_1000samples/aes_gtl_162_plot.png.data\n",
      "../../joules-swaes-picochip/report_1000samples/aes_gtl_163_plot.png.data\n",
      "../../joules-swaes-picochip/report_1000samples/aes_gtl_164_plot.png.data\n",
      "../../joules-swaes-picochip/report_1000samples/aes_gtl_165_plot.png.data\n",
      "../../joules-swaes-picochip/report_1000samples/aes_gtl_166_plot.png.data\n",
      "../../joules-swaes-picochip/report_1000samples/aes_gtl_167_plot.png.data\n",
      "../../joules-swaes-picochip/report_1000samples/aes_gtl_168_plot.png.data\n",
      "../../joules-swaes-picochip/report_1000samples/aes_gtl_169_plot.png.data\n",
      "../../joules-swaes-picochip/report_1000samples/aes_gtl_170_plot.png.data\n",
      "../../joules-swaes-picochip/report_1000samples/aes_gtl_171_plot.png.data\n",
      "../../joules-swaes-picochip/report_1000samples/aes_gtl_172_plot.png.data\n",
      "../../joules-swaes-picochip/report_1000samples/aes_gtl_173_plot.png.data\n",
      "../../joules-swaes-picochip/report_1000samples/aes_gtl_174_plot.png.data\n",
      "../../joules-swaes-picochip/report_1000samples/aes_gtl_175_plot.png.data\n",
      "../../joules-swaes-picochip/report_1000samples/aes_gtl_176_plot.png.data\n",
      "../../joules-swaes-picochip/report_1000samples/aes_gtl_177_plot.png.data\n",
      "../../joules-swaes-picochip/report_1000samples/aes_gtl_178_plot.png.data\n",
      "../../joules-swaes-picochip/report_1000samples/aes_gtl_179_plot.png.data\n",
      "../../joules-swaes-picochip/report_1000samples/aes_gtl_180_plot.png.data\n",
      "../../joules-swaes-picochip/report_1000samples/aes_gtl_181_plot.png.data\n",
      "../../joules-swaes-picochip/report_1000samples/aes_gtl_182_plot.png.data\n",
      "../../joules-swaes-picochip/report_1000samples/aes_gtl_183_plot.png.data\n",
      "../../joules-swaes-picochip/report_1000samples/aes_gtl_184_plot.png.data\n",
      "../../joules-swaes-picochip/report_1000samples/aes_gtl_185_plot.png.data\n",
      "../../joules-swaes-picochip/report_1000samples/aes_gtl_186_plot.png.data\n",
      "../../joules-swaes-picochip/report_1000samples/aes_gtl_187_plot.png.data\n",
      "../../joules-swaes-picochip/report_1000samples/aes_gtl_188_plot.png.data\n",
      "../../joules-swaes-picochip/report_1000samples/aes_gtl_189_plot.png.data\n",
      "../../joules-swaes-picochip/report_1000samples/aes_gtl_190_plot.png.data\n",
      "../../joules-swaes-picochip/report_1000samples/aes_gtl_191_plot.png.data\n",
      "../../joules-swaes-picochip/report_1000samples/aes_gtl_192_plot.png.data\n",
      "../../joules-swaes-picochip/report_1000samples/aes_gtl_193_plot.png.data\n",
      "../../joules-swaes-picochip/report_1000samples/aes_gtl_194_plot.png.data\n",
      "../../joules-swaes-picochip/report_1000samples/aes_gtl_195_plot.png.data\n",
      "../../joules-swaes-picochip/report_1000samples/aes_gtl_196_plot.png.data\n",
      "../../joules-swaes-picochip/report_1000samples/aes_gtl_197_plot.png.data\n",
      "../../joules-swaes-picochip/report_1000samples/aes_gtl_198_plot.png.data\n",
      "../../joules-swaes-picochip/report_1000samples/aes_gtl_199_plot.png.data\n",
      "../../joules-swaes-picochip/report_1000samples/aes_gtl_200_plot.png.data\n",
      "../../joules-swaes-picochip/report_1000samples/aes_gtl_201_plot.png.data\n",
      "../../joules-swaes-picochip/report_1000samples/aes_gtl_202_plot.png.data\n",
      "../../joules-swaes-picochip/report_1000samples/aes_gtl_203_plot.png.data\n",
      "../../joules-swaes-picochip/report_1000samples/aes_gtl_204_plot.png.data\n",
      "../../joules-swaes-picochip/report_1000samples/aes_gtl_205_plot.png.data\n",
      "../../joules-swaes-picochip/report_1000samples/aes_gtl_206_plot.png.data\n",
      "../../joules-swaes-picochip/report_1000samples/aes_gtl_207_plot.png.data\n",
      "../../joules-swaes-picochip/report_1000samples/aes_gtl_208_plot.png.data\n",
      "../../joules-swaes-picochip/report_1000samples/aes_gtl_209_plot.png.data\n",
      "../../joules-swaes-picochip/report_1000samples/aes_gtl_210_plot.png.data\n",
      "../../joules-swaes-picochip/report_1000samples/aes_gtl_211_plot.png.data\n",
      "../../joules-swaes-picochip/report_1000samples/aes_gtl_212_plot.png.data\n",
      "../../joules-swaes-picochip/report_1000samples/aes_gtl_213_plot.png.data\n",
      "../../joules-swaes-picochip/report_1000samples/aes_gtl_214_plot.png.data\n",
      "../../joules-swaes-picochip/report_1000samples/aes_gtl_215_plot.png.data\n",
      "../../joules-swaes-picochip/report_1000samples/aes_gtl_216_plot.png.data\n",
      "../../joules-swaes-picochip/report_1000samples/aes_gtl_217_plot.png.data\n",
      "../../joules-swaes-picochip/report_1000samples/aes_gtl_218_plot.png.data\n",
      "../../joules-swaes-picochip/report_1000samples/aes_gtl_219_plot.png.data\n",
      "../../joules-swaes-picochip/report_1000samples/aes_gtl_220_plot.png.data\n",
      "../../joules-swaes-picochip/report_1000samples/aes_gtl_221_plot.png.data\n",
      "../../joules-swaes-picochip/report_1000samples/aes_gtl_222_plot.png.data\n",
      "../../joules-swaes-picochip/report_1000samples/aes_gtl_223_plot.png.data\n",
      "../../joules-swaes-picochip/report_1000samples/aes_gtl_224_plot.png.data\n",
      "../../joules-swaes-picochip/report_1000samples/aes_gtl_225_plot.png.data\n",
      "../../joules-swaes-picochip/report_1000samples/aes_gtl_226_plot.png.data\n",
      "../../joules-swaes-picochip/report_1000samples/aes_gtl_227_plot.png.data\n",
      "../../joules-swaes-picochip/report_1000samples/aes_gtl_228_plot.png.data\n",
      "../../joules-swaes-picochip/report_1000samples/aes_gtl_229_plot.png.data\n",
      "../../joules-swaes-picochip/report_1000samples/aes_gtl_230_plot.png.data\n",
      "../../joules-swaes-picochip/report_1000samples/aes_gtl_231_plot.png.data\n",
      "../../joules-swaes-picochip/report_1000samples/aes_gtl_232_plot.png.data\n",
      "../../joules-swaes-picochip/report_1000samples/aes_gtl_233_plot.png.data\n",
      "../../joules-swaes-picochip/report_1000samples/aes_gtl_234_plot.png.data\n",
      "../../joules-swaes-picochip/report_1000samples/aes_gtl_235_plot.png.data\n",
      "../../joules-swaes-picochip/report_1000samples/aes_gtl_236_plot.png.data\n",
      "../../joules-swaes-picochip/report_1000samples/aes_gtl_237_plot.png.data\n"
     ]
    },
    {
     "name": "stdout",
     "output_type": "stream",
     "text": [
      "238\n",
      "1000\n"
     ]
    }
   ],
   "source": [
    "import glob\n",
    "import matplotlib.pylab as plt\n",
    "NumofTraces = NumTraces\n",
    "strx = []\n",
    "stry = []\n",
    "floatx = []\n",
    "floaty = []\n",
    "path = \"../../joules-swaes-picochip/report_1000samples/*.data\"  #### edit here\n",
    "#path = \"../../Downloads/pico_coaes_512/gate/picoaes_tsmc180_200_sca_trace_0_plot.png.data\"\n",
    "for filename in sorted(glob.glob(path, recursive=True),key = lambda x: x[-20:]):\n",
    "    print(filename)\n",
    "    with open(filename, 'r') as f:\n",
    "        next(f)\n",
    "        for a,line in enumerate(f):\n",
    "            row = line.split()\n",
    "            if row:\n",
    "                strx.append(row[-2])\n",
    "                stry.append(row[-1])\n",
    "            if a == 999:  #### edit here, crop the extra points \n",
    "                break\n",
    "                \n",
    "for i in range (len(stry)):\n",
    "    floatx.append(float(strx[i]))\n",
    "    floaty.append(float(stry[i]))\n",
    "floatx = np.hstack(floatx)\n",
    "floaty = np.hstack(floaty)\n",
    "trace_array_x = np.array_split(floatx, NumofTraces)\n",
    "trace_array_y = np.array_split(floaty, NumofTraces)\n",
    "\n",
    "print(len(trace_array_y))\n",
    "print(len(trace_array_y[0]))"
   ]
  },
  {
   "cell_type": "code",
   "execution_count": 6,
   "id": "51660e92",
   "metadata": {},
   "outputs": [
    {
     "data": {
      "text/plain": [
       "[<matplotlib.lines.Line2D at 0x7effd1934a60>]"
      ]
     },
     "execution_count": 6,
     "metadata": {},
     "output_type": "execute_result"
    },
    {
     "data": {
      "image/png": "[encoded data removed]",
      "text/plain": [
       "<Figure size 432x288 with 1 Axes>"
      ]
     },
     "metadata": {
      "needs_background": "light"
     },
     "output_type": "display_data"
    }
   ],
   "source": [
    "plt.plot(trace_array_y[0])"
   ]
  },
  {
   "cell_type": "code",
   "execution_count": 7,
   "id": "7cc84187",
   "metadata": {},
   "outputs": [
    {
     "name": "stdout",
     "output_type": "stream",
     "text": [
      "238\n",
      "238\n",
      "238\n",
      "1000\n"
     ]
    }
   ],
   "source": [
    "trace_array_y = np.array(trace_array_y)\n",
    "print(len(pt_array))\n",
    "print(len(key_array))\n",
    "print(len(trace_array_y))\n",
    "print(len(trace_array_y[0]))"
   ]
  },
  {
   "cell_type": "markdown",
   "id": "0460a2f6",
   "metadata": {},
   "source": [
    "# SBox"
   ]
  },
  {
   "cell_type": "code",
   "execution_count": 8,
   "id": "2506e423",
   "metadata": {},
   "outputs": [],
   "source": [
    "sbox = (\n",
    "    0x63, 0x7c, 0x77, 0x7b, 0xf2, 0x6b, 0x6f, 0xc5, 0x30, 0x01, 0x67, 0x2b, 0xfe, 0xd7, 0xab, 0x76,\n",
    "    0xca, 0x82, 0xc9, 0x7d, 0xfa, 0x59, 0x47, 0xf0, 0xad, 0xd4, 0xa2, 0xaf, 0x9c, 0xa4, 0x72, 0xc0,\n",
    "    0xb7, 0xfd, 0x93, 0x26, 0x36, 0x3f, 0xf7, 0xcc, 0x34, 0xa5, 0xe5, 0xf1, 0x71, 0xd8, 0x31, 0x15,\n",
    "    0x04, 0xc7, 0x23, 0xc3, 0x18, 0x96, 0x05, 0x9a, 0x07, 0x12, 0x80, 0xe2, 0xeb, 0x27, 0xb2, 0x75,\n",
    "    0x09, 0x83, 0x2c, 0x1a, 0x1b, 0x6e, 0x5a, 0xa0, 0x52, 0x3b, 0xd6, 0xb3, 0x29, 0xe3, 0x2f, 0x84,\n",
    "    0x53, 0xd1, 0x00, 0xed, 0x20, 0xfc, 0xb1, 0x5b, 0x6a, 0xcb, 0xbe, 0x39, 0x4a, 0x4c, 0x58, 0xcf,\n",
    "    0xd0, 0xef, 0xaa, 0xfb, 0x43, 0x4d, 0x33, 0x85, 0x45, 0xf9, 0x02, 0x7f, 0x50, 0x3c, 0x9f, 0xa8,\n",
    "    0x51, 0xa3, 0x40, 0x8f, 0x92, 0x9d, 0x38, 0xf5, 0xbc, 0xb6, 0xda, 0x21, 0x10, 0xff, 0xf3, 0xd2,\n",
    "    0xcd, 0x0c, 0x13, 0xec, 0x5f, 0x97, 0x44, 0x17, 0xc4, 0xa7, 0x7e, 0x3d, 0x64, 0x5d, 0x19, 0x73,\n",
    "    0x60, 0x81, 0x4f, 0xdc, 0x22, 0x2a, 0x90, 0x88, 0x46, 0xee, 0xb8, 0x14, 0xde, 0x5e, 0x0b, 0xdb,\n",
    "    0xe0, 0x32, 0x3a, 0x0a, 0x49, 0x06, 0x24, 0x5c, 0xc2, 0xd3, 0xac, 0x62, 0x91, 0x95, 0xe4, 0x79,\n",
    "    0xe7, 0xc8, 0x37, 0x6d, 0x8d, 0xd5, 0x4e, 0xa9, 0x6c, 0x56, 0xf4, 0xea, 0x65, 0x7a, 0xae, 0x08,\n",
    "    0xba, 0x78, 0x25, 0x2e, 0x1c, 0xa6, 0xb4, 0xc6, 0xe8, 0xdd, 0x74, 0x1f, 0x4b, 0xbd, 0x8b, 0x8a,\n",
    "    0x70, 0x3e, 0xb5, 0x66, 0x48, 0x03, 0xf6, 0x0e, 0x61, 0x35, 0x57, 0xb9, 0x86, 0xc1, 0x1d, 0x9e,\n",
    "    0xe1, 0xf8, 0x98, 0x11, 0x69, 0xd9, 0x8e, 0x94, 0x9b, 0x1e, 0x87, 0xe9, 0xce, 0x55, 0x28, 0xdf,\n",
    "    0x8c, 0xa1, 0x89, 0x0d, 0xbf, 0xe6, 0x42, 0x68, 0x41, 0x99, 0x2d, 0x0f, 0xb0, 0x54, 0xbb, 0x16)\n",
    "\n",
    "def intermediate(pt, keyguess):\n",
    "    return sbox[pt ^ keyguess]"
   ]
  },
  {
   "cell_type": "markdown",
   "id": "9750098d",
   "metadata": {},
   "source": [
    "# Hamming Weight Leakage Model"
   ]
  },
  {
   "cell_type": "code",
   "execution_count": 9,
   "id": "c1518872",
   "metadata": {},
   "outputs": [],
   "source": [
    "HW = [bin(n).count(\"1\") for n in range(0, 256)]\n",
    "\n",
    "def calculate_diffs(guess, byteindex):\n",
    "\n",
    "    one_list_calc = []\n",
    "    zero_list_calc = []\n",
    "\n",
    "    for trace_index in range(len(trace_array_y)):\n",
    "        hypothetical_leakage = intermediate(guess, pt_array[trace_index][byteindex])\n",
    "        #st1 = pt_array[trace_index][byteindex] ^ guess\n",
    "        #st2 = sbox[st1]\n",
    "        #hypothetical_leakage = st1 ^ st2\n",
    "        \n",
    "        if (HW[hypothetical_leakage] > 4 ):\n",
    "            one_list_calc.append(trace_array_y[trace_index])\n",
    "        elif (HW[hypothetical_leakage] < 4):\n",
    "            zero_list_calc.append(trace_array_y[trace_index])\n",
    "\n",
    "    one_avg_calc = np.asarray(one_list_calc).mean(axis=0)\n",
    "    zero_avg_calc = np.asarray(zero_list_calc).mean(axis=0)\n",
    "    return abs(one_avg_calc - zero_avg_calc)"
   ]
  },
  {
   "cell_type": "markdown",
   "id": "0044cad4",
   "metadata": {},
   "source": [
    "# DPA Attack"
   ]
  },
  {
   "cell_type": "code",
   "execution_count": 20,
   "id": "64f2d2fc",
   "metadata": {},
   "outputs": [
    {
     "data": {
      "application/vnd.jupyter.widget-view+json": {
       "model_id": "1394b80069bf41c2bd20505bcf3ee8fd",
       "version_major": 2,
       "version_minor": 0
      },
      "text/plain": [
       "  0%|          | 0/16 [00:00<?, ?it/s]"
      ]
     },
     "metadata": {},
     "output_type": "display_data"
    },
    {
     "data": {
      "application/vnd.jupyter.widget-view+json": {
       "model_id": "d954d9c84c074936a9dccab913828681",
       "version_major": 2,
       "version_minor": 0
      },
      "text/plain": [
       "  0%|          | 0/256 [00:00<?, ?it/s]"
      ]
     },
     "metadata": {},
     "output_type": "display_data"
    },
    {
     "name": "stdout",
     "output_type": "stream",
     "text": [
      "Subkey  0 - most likely 66 (actual F0)\n",
      " Top 5 guesses: \n",
      "   66 - Diff = 0.000616\n",
      "   CF - Diff = 0.000566\n",
      "   F1 - Diff = 0.000557\n",
      "   D4 - Diff = 0.000513\n",
      "   D1 - Diff = 0.000512\n",
      "\n",
      "\n"
     ]
    },
    {
     "data": {
      "application/vnd.jupyter.widget-view+json": {
       "model_id": "0f4824628e6944f88736359fa0bd70ae",
       "version_major": 2,
       "version_minor": 0
      },
      "text/plain": [
       "  0%|          | 0/256 [00:00<?, ?it/s]"
      ]
     },
     "metadata": {},
     "output_type": "display_data"
    },
    {
     "name": "stdout",
     "output_type": "stream",
     "text": [
      "Subkey  1 - most likely E9 (actual DE)\n",
      " Top 5 guesses: \n",
      "   E9 - Diff = 0.000816\n",
      "   F6 - Diff = 0.000769\n",
      "   30 - Diff = 0.000698\n",
      "   5F - Diff = 0.000671\n",
      "   64 - Diff = 0.000641\n",
      "\n",
      "\n"
     ]
    },
    {
     "data": {
      "application/vnd.jupyter.widget-view+json": {
       "model_id": "59e7fd4fbc1b4452a6f6bd4b60bdee87",
       "version_major": 2,
       "version_minor": 0
      },
      "text/plain": [
       "  0%|          | 0/256 [00:00<?, ?it/s]"
      ]
     },
     "metadata": {},
     "output_type": "display_data"
    },
    {
     "name": "stdout",
     "output_type": "stream",
     "text": [
      "Subkey  2 - most likely 1E (actual BC)\n",
      " Top 5 guesses: \n",
      "   1E - Diff = 0.000665\n",
      "   9A - Diff = 0.000543\n",
      "   53 - Diff = 0.000528\n",
      "   D6 - Diff = 0.000521\n",
      "   A2 - Diff = 0.000507\n",
      "\n",
      "\n"
     ]
    },
    {
     "data": {
      "application/vnd.jupyter.widget-view+json": {
       "model_id": "ff852240efdf4beca389c487e23356eb",
       "version_major": 2,
       "version_minor": 0
      },
      "text/plain": [
       "  0%|          | 0/256 [00:00<?, ?it/s]"
      ]
     },
     "metadata": {},
     "output_type": "display_data"
    },
    {
     "name": "stdout",
     "output_type": "stream",
     "text": [
      "Subkey  3 - most likely CA (actual 9A)\n",
      " Top 5 guesses: \n",
      "   CA - Diff = 0.000620\n",
      "   56 - Diff = 0.000506\n",
      "   3A - Diff = 0.000499\n",
      "   30 - Diff = 0.000490\n",
      "   BA - Diff = 0.000446\n",
      "\n",
      "\n"
     ]
    },
    {
     "data": {
      "application/vnd.jupyter.widget-view+json": {
       "model_id": "d632197449494cd1ba5796409f5fc575",
       "version_major": 2,
       "version_minor": 0
      },
      "text/plain": [
       "  0%|          | 0/256 [00:00<?, ?it/s]"
      ]
     },
     "metadata": {},
     "output_type": "display_data"
    },
    {
     "name": "stdout",
     "output_type": "stream",
     "text": [
      "Subkey  4 - most likely 2C (actual 78)\n",
      " Top 5 guesses: \n",
      "   2C - Diff = 0.000616\n",
      "   FC - Diff = 0.000558\n",
      "   2F - Diff = 0.000541\n",
      "   28 - Diff = 0.000527\n",
      "   43 - Diff = 0.000519\n",
      "\n",
      "\n"
     ]
    },
    {
     "data": {
      "application/vnd.jupyter.widget-view+json": {
       "model_id": "60c25a357d43442cbe8d314b5b4770e7",
       "version_major": 2,
       "version_minor": 0
      },
      "text/plain": [
       "  0%|          | 0/256 [00:00<?, ?it/s]"
      ]
     },
     "metadata": {},
     "output_type": "display_data"
    },
    {
     "name": "stdout",
     "output_type": "stream",
     "text": [
      "Subkey  5 - most likely EB (actual 56)\n",
      " Top 5 guesses: \n",
      "   EB - Diff = 0.000742\n",
      "   C4 - Diff = 0.000713\n",
      "   FE - Diff = 0.000564\n",
      "   B1 - Diff = 0.000550\n",
      "   01 - Diff = 0.000523\n",
      "\n",
      "\n"
     ]
    },
    {
     "data": {
      "application/vnd.jupyter.widget-view+json": {
       "model_id": "43f0065e688a436fb428437ebde27211",
       "version_major": 2,
       "version_minor": 0
      },
      "text/plain": [
       "  0%|          | 0/256 [00:00<?, ?it/s]"
      ]
     },
     "metadata": {},
     "output_type": "display_data"
    },
    {
     "name": "stdout",
     "output_type": "stream",
     "text": [
      "Subkey  6 - most likely 20 (actual 34)\n",
      " Top 5 guesses: \n",
      "   20 - Diff = 0.000622\n",
      "   46 - Diff = 0.000610\n",
      "   A2 - Diff = 0.000538\n",
      "   7F - Diff = 0.000532\n",
      "   13 - Diff = 0.000532\n",
      "\n",
      "\n"
     ]
    },
    {
     "data": {
      "application/vnd.jupyter.widget-view+json": {
       "model_id": "185a9f2d2bf243c08a067afa138d62fb",
       "version_major": 2,
       "version_minor": 0
      },
      "text/plain": [
       "  0%|          | 0/256 [00:00<?, ?it/s]"
      ]
     },
     "metadata": {},
     "output_type": "display_data"
    },
    {
     "name": "stdout",
     "output_type": "stream",
     "text": [
      "Subkey  7 - most likely 09 (actual 12)\n",
      " Top 5 guesses: \n",
      "   09 - Diff = 0.000612\n",
      "   80 - Diff = 0.000591\n",
      "   E4 - Diff = 0.000486\n",
      "   35 - Diff = 0.000471\n",
      "   53 - Diff = 0.000443\n",
      "\n",
      "\n"
     ]
    },
    {
     "data": {
      "application/vnd.jupyter.widget-view+json": {
       "model_id": "9d38e8d8435e426eaec541e39f175c0e",
       "version_major": 2,
       "version_minor": 0
      },
      "text/plain": [
       "  0%|          | 0/256 [00:00<?, ?it/s]"
      ]
     },
     "metadata": {},
     "output_type": "display_data"
    },
    {
     "name": "stdout",
     "output_type": "stream",
     "text": [
      "Subkey  8 - most likely 8F (actual EF)\n",
      " Top 5 guesses: \n",
      "   8F - Diff = 0.000658\n",
      "   E2 - Diff = 0.000624\n",
      "   C8 - Diff = 0.000597\n",
      "   1D - Diff = 0.000594\n",
      "   C6 - Diff = 0.000573\n",
      "\n",
      "\n"
     ]
    },
    {
     "data": {
      "application/vnd.jupyter.widget-view+json": {
       "model_id": "20ce0c80c66f49f281556ec4aa2b86e1",
       "version_major": 2,
       "version_minor": 0
      },
      "text/plain": [
       "  0%|          | 0/256 [00:00<?, ?it/s]"
      ]
     },
     "metadata": {},
     "output_type": "display_data"
    },
    {
     "name": "stdout",
     "output_type": "stream",
     "text": [
      "Subkey  9 - most likely 20 (actual CD)\n",
      " Top 5 guesses: \n",
      "   20 - Diff = 0.000643\n",
      "   CE - Diff = 0.000627\n",
      "   1E - Diff = 0.000601\n",
      "   7A - Diff = 0.000596\n",
      "   EA - Diff = 0.000517\n",
      "\n",
      "\n"
     ]
    },
    {
     "data": {
      "application/vnd.jupyter.widget-view+json": {
       "model_id": "486ad8395d114bc6b8a7c737cbbf0d7f",
       "version_major": 2,
       "version_minor": 0
      },
      "text/plain": [
       "  0%|          | 0/256 [00:00<?, ?it/s]"
      ]
     },
     "metadata": {},
     "output_type": "display_data"
    },
    {
     "name": "stdout",
     "output_type": "stream",
     "text": [
      "Subkey 10 - most likely 06 (actual AB)\n",
      " Top 5 guesses: \n",
      "   06 - Diff = 0.000599\n",
      "   35 - Diff = 0.000564\n",
      "   2C - Diff = 0.000471\n",
      "   26 - Diff = 0.000468\n",
      "   DB - Diff = 0.000467\n",
      "\n",
      "\n"
     ]
    },
    {
     "data": {
      "application/vnd.jupyter.widget-view+json": {
       "model_id": "94270c4e498c48d2944299396d1b5aa9",
       "version_major": 2,
       "version_minor": 0
      },
      "text/plain": [
       "  0%|          | 0/256 [00:00<?, ?it/s]"
      ]
     },
     "metadata": {},
     "output_type": "display_data"
    },
    {
     "name": "stdout",
     "output_type": "stream",
     "text": [
      "Subkey 11 - most likely EF (actual 89)\n",
      " Top 5 guesses: \n",
      "   EF - Diff = 0.000596\n",
      "   98 - Diff = 0.000553\n",
      "   ED - Diff = 0.000533\n",
      "   6A - Diff = 0.000499\n",
      "   E6 - Diff = 0.000465\n",
      "\n",
      "\n"
     ]
    },
    {
     "data": {
      "application/vnd.jupyter.widget-view+json": {
       "model_id": "56c1f4d1dccf498392f3e4a380902a5c",
       "version_major": 2,
       "version_minor": 0
      },
      "text/plain": [
       "  0%|          | 0/256 [00:00<?, ?it/s]"
      ]
     },
     "metadata": {},
     "output_type": "display_data"
    },
    {
     "name": "stdout",
     "output_type": "stream",
     "text": [
      "Subkey 12 - most likely 39 (actual 67)\n",
      " Top 5 guesses: \n",
      "   39 - Diff = 0.000656\n",
      "   8E - Diff = 0.000645\n",
      "   06 - Diff = 0.000613\n",
      "   17 - Diff = 0.000580\n",
      "   5A - Diff = 0.000558\n",
      "\n",
      "\n"
     ]
    },
    {
     "data": {
      "application/vnd.jupyter.widget-view+json": {
       "model_id": "9d59cac9646749db9bf63e1102f65bb1",
       "version_major": 2,
       "version_minor": 0
      },
      "text/plain": [
       "  0%|          | 0/256 [00:00<?, ?it/s]"
      ]
     },
     "metadata": {},
     "output_type": "display_data"
    },
    {
     "name": "stdout",
     "output_type": "stream",
     "text": [
      "Subkey 13 - most likely BC (actual 45)\n",
      " Top 5 guesses: \n",
      "   BC - Diff = 0.000514\n",
      "   EF - Diff = 0.000477\n",
      "   6E - Diff = 0.000476\n",
      "   C1 - Diff = 0.000451\n",
      "   F4 - Diff = 0.000450\n",
      "\n",
      "\n"
     ]
    },
    {
     "data": {
      "application/vnd.jupyter.widget-view+json": {
       "model_id": "2d4b406d246e4335a06b71f502468ff9",
       "version_major": 2,
       "version_minor": 0
      },
      "text/plain": [
       "  0%|          | 0/256 [00:00<?, ?it/s]"
      ]
     },
     "metadata": {},
     "output_type": "display_data"
    },
    {
     "name": "stdout",
     "output_type": "stream",
     "text": [
      "Subkey 14 - most likely EC (actual 23)\n",
      " Top 5 guesses: \n",
      "   EC - Diff = 0.000574\n",
      "   A3 - Diff = 0.000563\n",
      "   52 - Diff = 0.000554\n",
      "   DA - Diff = 0.000531\n",
      "   1F - Diff = 0.000517\n",
      "\n",
      "\n"
     ]
    },
    {
     "data": {
      "application/vnd.jupyter.widget-view+json": {
       "model_id": "a2e9746af9774b37ab8ec986572c1b8c",
       "version_major": 2,
       "version_minor": 0
      },
      "text/plain": [
       "  0%|          | 0/256 [00:00<?, ?it/s]"
      ]
     },
     "metadata": {},
     "output_type": "display_data"
    },
    {
     "name": "stdout",
     "output_type": "stream",
     "text": [
      "Subkey 15 - most likely 5C (actual 01)\n",
      " Top 5 guesses: \n",
      "   5C - Diff = 0.000586\n",
      "   D8 - Diff = 0.000538\n",
      "   AB - Diff = 0.000533\n",
      "   AF - Diff = 0.000473\n",
      "   B5 - Diff = 0.000465\n",
      "\n",
      "\n"
     ]
    }
   ],
   "source": [
    "key_guess = []\n",
    "full_diffs_list = []\n",
    "known_key = key_array[0]\n",
    "\n",
    "for subkey in trange(0, 16):\n",
    "    max_diffs = [0]*256\n",
    "    full_diffs = [0]*256\n",
    "    for guess in trange(0, 256):\n",
    "        full_diff_trace = calculate_diffs(guess, subkey)\n",
    "        max_diffs[guess] = np.max(full_diff_trace)\n",
    "        full_diffs[guess] = full_diff_trace\n",
    "        \n",
    "    #Make copy of the list\n",
    "    full_diffs_list.append(full_diffs[:])\n",
    "\n",
    "    #Get argument sort, as each index is the actual key guess.\n",
    "    sorted_args = np.argsort(max_diffs)[::-1]\n",
    "\n",
    "    #Keep most likely\n",
    "    key_guess.append(sorted_args[0])\n",
    "\n",
    "    #Print results\n",
    "    print(\"Subkey %2d - most likely %02X (actual %02X)\"%(subkey, key_guess[subkey], known_key[subkey]))\n",
    "\n",
    "    #Print other top guesses\n",
    "    print(\" Top 5 guesses: \")\n",
    "    for i in range(0, 5):\n",
    "        g = sorted_args[i]\n",
    "        print(\"   %02X - Diff = %f\"%(g, max_diffs[g]))\n",
    "\n",
    "    print(\"\\n\")"
   ]
  },
  {
   "cell_type": "markdown",
   "id": "fd6d2fba",
   "metadata": {},
   "source": [
    "# How Many Traces Needed for HW DPA"
   ]
  },
  {
   "cell_type": "code",
   "execution_count": 10,
   "id": "2becf69e",
   "metadata": {},
   "outputs": [
    {
     "name": "stdout",
     "output_type": "stream",
     "text": [
      "238\n"
     ]
    }
   ],
   "source": [
    "traces_enc_full = trace_array_y\n",
    "print(len(traces_enc_full))"
   ]
  },
  {
   "cell_type": "code",
   "execution_count": 11,
   "id": "45789972",
   "metadata": {},
   "outputs": [
    {
     "name": "stdout",
     "output_type": "stream",
     "text": [
      "238\n"
     ]
    }
   ],
   "source": [
    "text_arrays_full = pt_array\n",
    "print(len(text_arrays_full))"
   ]
  },
  {
   "cell_type": "code",
   "execution_count": 12,
   "id": "bc99c10b",
   "metadata": {},
   "outputs": [],
   "source": [
    "def num_same(a, b):\n",
    "    \n",
    "    if len(a) != len(b):\n",
    "        raise ValueError(\"Arrays must be same length!\")\n",
    "    \n",
    "    #Count how many list items match up\n",
    "    same = 0\n",
    "    for i, _ in enumerate(a):\n",
    "        if a[i] == b[i]:\n",
    "            same += 1\n",
    "    \n",
    "    return same"
   ]
  },
  {
   "cell_type": "code",
   "execution_count": 14,
   "id": "cdb1b6db",
   "metadata": {
    "scrolled": true
   },
   "outputs": [
    {
     "data": {
      "application/vnd.jupyter.widget-view+json": {
       "model_id": "e2b2bec6eadf4fee943c05c15bef98b9",
       "version_major": 2,
       "version_minor": 0
      },
      "text/plain": [
       "  0%|          | 0/4 [00:00<?, ?it/s]"
      ]
     },
     "metadata": {},
     "output_type": "display_data"
    },
    {
     "data": {
      "application/vnd.jupyter.widget-view+json": {
       "model_id": "46aa9d8885504c75b89cb5d2817454f6",
       "version_major": 2,
       "version_minor": 0
      },
      "text/plain": [
       "  0%|          | 0/16 [00:00<?, ?it/s]"
      ]
     },
     "metadata": {},
     "output_type": "display_data"
    },
    {
     "name": "stdout",
     "output_type": "stream",
     "text": [
      "For 50 traces, correct key byte are  0\n",
      "\n",
      "\n"
     ]
    },
    {
     "data": {
      "application/vnd.jupyter.widget-view+json": {
       "model_id": "0a044631f79e48398a18539def6bd2b7",
       "version_major": 2,
       "version_minor": 0
      },
      "text/plain": [
       "  0%|          | 0/16 [00:00<?, ?it/s]"
      ]
     },
     "metadata": {},
     "output_type": "display_data"
    },
    {
     "name": "stdout",
     "output_type": "stream",
     "text": [
      "For 100 traces, correct key byte are  0\n",
      "\n",
      "\n"
     ]
    },
    {
     "data": {
      "application/vnd.jupyter.widget-view+json": {
       "model_id": "5915b03089e94aa6b4c480de955592d8",
       "version_major": 2,
       "version_minor": 0
      },
      "text/plain": [
       "  0%|          | 0/16 [00:00<?, ?it/s]"
      ]
     },
     "metadata": {},
     "output_type": "display_data"
    },
    {
     "name": "stdout",
     "output_type": "stream",
     "text": [
      "For 150 traces, correct key byte are  0\n",
      "\n",
      "\n"
     ]
    },
    {
     "data": {
      "application/vnd.jupyter.widget-view+json": {
       "model_id": "f49fbf5b01bd4a879f0a8d46b101dcae",
       "version_major": 2,
       "version_minor": 0
      },
      "text/plain": [
       "  0%|          | 0/16 [00:00<?, ?it/s]"
      ]
     },
     "metadata": {},
     "output_type": "display_data"
    },
    {
     "name": "stdout",
     "output_type": "stream",
     "text": [
      "For 200 traces, correct key byte are  0\n",
      "\n",
      "\n"
     ]
    }
   ],
   "source": [
    "full_key_guess = []\n",
    "full_diffs_list = []\n",
    "how_many_correct_keybytes = []\n",
    "is_same = 0\n",
    "known_key = key_array[0]\n",
    "traces_enc = []\n",
    "text_arrays = []\n",
    "\n",
    "for traces in trange(50,238,50):\n",
    "    x =  np.arange(50, 238, 50)\n",
    "    traces_enc = np.array(traces_enc_full[0:traces])\n",
    "    text_arrays = np.array(text_arrays_full[0:traces])\n",
    "    \n",
    "    key_guess = []\n",
    "    diffs_list = []\n",
    "    for subkey in trange(0, 16):\n",
    "        max_diffs = [0]*256\n",
    "        full_diffs = [0]*256\n",
    "        for guess in range(0, 256):\n",
    "            full_diff_trace = calculate_diffs(guess, subkey)\n",
    "            max_diffs[guess] = np.max(full_diff_trace)\n",
    "            full_diffs[guess] = full_diff_trace\n",
    "        \n",
    "        diffs_list.append(full_diffs[:])\n",
    "        sorted_args = np.argsort(max_diffs)[::-1]\n",
    "        key_guess.append(sorted_args[0])\n",
    "    \n",
    "    full_diffs_list.append(diffs_list)\n",
    "    full_key_guess.append(key_guess)\n",
    "    is_same = num_same(key_guess,known_key)\n",
    "    how_many_correct_keybytes.append(is_same)\n",
    "    \n",
    "    print(\"For %2d traces, correct key byte are %2d\" %(traces,is_same))\n",
    "    print(\"\\n\")"
   ]
  },
  {
   "cell_type": "code",
   "execution_count": 15,
   "id": "32bcd54d",
   "metadata": {},
   "outputs": [
    {
     "data": {
      "image/png": "[encoded data removed]",
      "text/plain": [
       "<Figure size 432x288 with 1 Axes>"
      ]
     },
     "metadata": {
      "needs_background": "light"
     },
     "output_type": "display_data"
    }
   ],
   "source": [
    "%matplotlib inline\n",
    "import numpy as np\n",
    "import matplotlib.pylab as plt\n",
    "\n",
    "# need to make adjustment here for further experienments\n",
    "# here x is 45 because we run 45 intervals of traces from 5 to 230 with incresing step of 5\n",
    "### edit below\n",
    "#x = np.arange(2,45,2) \n",
    "### edit above\n",
    "\n",
    "plt.plot(x, how_many_correct_keybytes)\n",
    "plt.grid()\n",
    "plt.xlabel('Number of Traces')\n",
    "plt.ylabel('Correct Key Bytes')\n",
    "############################################## edit here\n",
    "plt.title('DPA on JOULES PICO SWAES 1000samples\\nNumber of traces vs. correctly guessed key bytes')\n",
    "plt.savefig('1000s_correct_bytes_vs_traces.jpg',dpi=100) # save jpg/png"
   ]
  },
  {
   "cell_type": "code",
   "execution_count": 16,
   "id": "d9caa5e7",
   "metadata": {},
   "outputs": [
    {
     "name": "stdout",
     "output_type": "stream",
     "text": [
      "4\n",
      "16\n",
      "1\n",
      "4\n",
      "16\n",
      "255\n"
     ]
    }
   ],
   "source": [
    "### take the max correct 16 subkeys out of the 45 experienments \n",
    "### so it is a 45x16x1 matrix for the correct key guess 1/256\n",
    "### 45x16x255 matrix for the rest of the guesses keybyte\n",
    "\n",
    "correct_full_list = []  #45x16x1\n",
    "else_full_list = []  #45x16x255\n",
    "\n",
    "for i in range (len(how_many_correct_keybytes)):\n",
    "    correct_16_subbyte_list = []  #16x1\n",
    "    else_16_subbyte_list = []  #16x255\n",
    "    \n",
    "    for subkey in range (16):\n",
    "        max_correct = []  #1\n",
    "        max_else = []  #255\n",
    "        \n",
    "        for guess in range(0, 256):  #take the max correlation of the correct key guess \n",
    "            if (guess == known_key[subkey]):\n",
    "                ### edit below -- the list name need to be change for the especific name \n",
    "                corr = full_diffs_list[i][subkey][guess] \n",
    "                ### edit above -- the list name need to be change for the especific name \n",
    "                ymax = corr.max()\n",
    "                max_correct.append(ymax)\n",
    "            else:\n",
    "                corr = full_diffs_list[i][subkey][guess]\n",
    "                ymax = corr.max()\n",
    "                max_else.append(ymax)\n",
    "                \n",
    "        correct_16_subbyte_list.append(max_correct)\n",
    "        \n",
    "        else_16_subbyte_list.append(max_else)\n",
    "        \n",
    "    correct_full_list.append(correct_16_subbyte_list)\n",
    "    \n",
    "    else_full_list.append(else_16_subbyte_list)\n",
    "\n",
    "print(len(correct_full_list))\n",
    "print(len(correct_full_list[0]))\n",
    "print(len(correct_full_list[0][0]))\n",
    "print(len(else_full_list))\n",
    "print(len(else_full_list[0]))\n",
    "print(len(else_full_list[0][0]))"
   ]
  },
  {
   "cell_type": "code",
   "execution_count": 17,
   "id": "ad7cc520",
   "metadata": {},
   "outputs": [],
   "source": [
    "### make the correct key correlation to 16x45x1 matrix\n",
    "\n",
    "corr_plot_full = []\n",
    "for i in range (16):\n",
    "    corr_plot = []\n",
    "    for j in range (len(how_many_correct_keybytes)):\n",
    "        corr_plot.append(correct_full_list[j][i])  ## invert the i and j \n",
    "    corr_plot_full.append(corr_plot)"
   ]
  },
  {
   "cell_type": "code",
   "execution_count": 18,
   "id": "a8bb16c9",
   "metadata": {},
   "outputs": [],
   "source": [
    "### make the else key correlation to 16x255x45 matrix\n",
    "\n",
    "else_16 = []\n",
    "for i in range (16):\n",
    "    else_255 = []\n",
    "    for j in range (len(else_full_list[0][0])):\n",
    "        else_list = []\n",
    "        for k in range (len(how_many_correct_keybytes)):\n",
    "            else_list.append(else_full_list[k][i][j])  ## invert the i, j and k \n",
    "        else_255.append(else_list)\n",
    "    else_16.append(else_255)"
   ]
  },
  {
   "cell_type": "code",
   "execution_count": 19,
   "id": "89eab8ce",
   "metadata": {},
   "outputs": [
    {
     "data": {
      "text/plain": [
       "<Figure size 432x288 with 0 Axes>"
      ]
     },
     "metadata": {},
     "output_type": "display_data"
    },
    {
     "data": {
      "image/png": "[encoded data removed]",
      "text/plain": [
       "<Figure size 1800x1800 with 16 Axes>"
      ]
     },
     "metadata": {
      "needs_background": "light"
     },
     "output_type": "display_data"
    }
   ],
   "source": [
    "### plot a 16 subplot, 16 subkeys\n",
    "### each subkeys has 255 guesses \n",
    "### each guesses has 45 points in this experienment\n",
    "\n",
    "import pylab\n",
    "\n",
    "import warnings  #ignore the subplot warmings of pylab.subplot(4,4,subkey+1)\n",
    "warnings.filterwarnings('ignore')\n",
    "\n",
    "plt.figure()\n",
    "\n",
    "f, axs = plt.subplots(4,4,figsize=(25,25))  #making a 4x4 subplot, figsize 25x25\n",
    "\n",
    "for subkey in range (16):\n",
    "    for guess in range (len(else_16[0])):\n",
    "        pylab.subplot(4,4,subkey+1)  # marking the position of each subplot\n",
    "        ### edit below, different experienment needs different xaxis\n",
    "        #x = np.arange(5, 230, 5)  \n",
    "        ### edit above\n",
    "        y = else_16[subkey][guess]  #plotting the 255 guesses\n",
    "        plt.plot(x,y,color='grey')  #set wrong guesses as grey\n",
    "        y1 = corr_plot_full[subkey]  #plotting the correct 1 guesses\n",
    "        plt.plot(x,y1,color='red',linewidth=1.5, linestyle='-',zorder=255)  #set correct guesses as red\n",
    "        plt.title('Subkey %2d' %(subkey))\n",
    "        \n",
    "plt.tight_layout()\n",
    "plt.subplots_adjust(top=0.92)\n",
    "plt.suptitle('DPA on JOULES PICO SWAES 1000 SAMPLES \\n DPA Correltaion vs. Number of Traces', size=30)\n",
    "\n",
    "plt.savefig('1000s_corr_vs_traces.jpg',dpi=100)  \n",
    "            \n",
    "plt.show()"
   ]
  },
  {
   "cell_type": "code",
   "execution_count": null,
   "id": "a3173cfe",
   "metadata": {},
   "outputs": [],
   "source": []
  }
 ],
 "metadata": {
  "kernelspec": {
   "display_name": "Python 3",
   "language": "python",
   "name": "python3"
  },
  "language_info": {
   "codemirror_mode": {
    "name": "ipython",
    "version": 3
   },
   "file_extension": ".py",
   "mimetype": "text/x-python",
   "name": "python",
   "nbconvert_exporter": "python",
   "pygments_lexer": "ipython3",
   "version": "3.8.8"
  }
 },
 "nbformat": 4,
 "nbformat_minor": 5
}
