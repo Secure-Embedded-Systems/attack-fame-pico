{
 "cells": [
  {
   "cell_type": "code",
   "execution_count": 12,
   "id": "b999cfe6",
   "metadata": {
    "scrolled": true
   },
   "outputs": [
    {
     "name": "stdout",
     "output_type": "stream",
     "text": [
      "/home/zliu12/chipwhisperer-tvla\n"
     ]
    },
    {
     "data": {
      "application/vnd.jupyter.widget-view+json": {
       "model_id": "826703f9650e4ccda44201122d6130b9",
       "version_major": 2,
       "version_minor": 0
      },
      "text/plain": [
       "  0%|          | 0/100000 [00:00<?, ?it/s]"
      ]
     },
     "metadata": {},
     "output_type": "display_data"
    }
   ],
   "source": [
    "%cd /home/zliu12/chipwhisperer-tvla\n",
    "from chipwhisperer.common.utils import util\n",
    "from cwtvla.aes_cipher import AESCipher\n",
    "from tqdm.notebook import trange \n",
    "from cwtvla.ktp import AES\n",
    "import numpy as np\n",
    "import binascii\n",
    "import csv \n",
    "import os\n",
    "\n",
    "key = util.hexStrToByteArray('0123456789abcdef123456789abcdef0')\n",
    "\n",
    "my_file = open(\"pico_swaes_testvectors.txt\", \"w\")\n",
    "\n",
    "for lines in trange (100000):\n",
    "    \n",
    "        plaintext = bytearray(os.urandom(16))\n",
    "        pt_hex = plaintext.hex()\n",
    "\n",
    "        ciphertext = AES(plaintext, key)\n",
    "        ct_hex = ciphertext.hex()\n",
    "        \n",
    "        my_file.write(pt_hex + ',' + ct_hex + ',' + '0123456789abcdef123456789abcdef0' + '\\n')\n",
    "\n",
    "my_file.close()"
   ]
  },
  {
   "cell_type": "code",
   "execution_count": 1,
   "id": "f88c753a",
   "metadata": {},
   "outputs": [
    {
     "name": "stdout",
     "output_type": "stream",
     "text": [
      "/home/zliu12/chipwhisperer-tvla\n",
      "08661fc2846c51b16b1f053338faaf64\n",
      "0d2fc194b9cae3b9ac121d42b7774cc8\n",
      "43b7d3f15f06d80fc77b099bdd545c6d\n",
      "b70569f583a94127a2c3c1aaf1bd25ad\n",
      "a4294332a75f7688a27e4f5a768f3cb5\n"
     ]
    }
   ],
   "source": [
    "%cd /home/zliu12/chipwhisperer-tvla\n",
    "\n",
    "pt = []\n",
    "f = open('pico_swaes_testvectors.txt')\n",
    "for i in range (5):\n",
    "    line = f.readline()[0:32]\n",
    "    pt.append(line)\n",
    "    print(line)"
   ]
  },
  {
   "cell_type": "code",
   "execution_count": 2,
   "id": "d2015d34",
   "metadata": {},
   "outputs": [
    {
     "name": "stdout",
     "output_type": "stream",
     "text": [
      "5\n",
      "16\n",
      "[  8 102  31 194 132 108  81 177 107  31   5  51  56 250 175 100]\n"
     ]
    }
   ],
   "source": [
    "import numpy as np\n",
    "pt_array = []\n",
    "for i in range (len(pt)):\n",
    "    b = bytes.fromhex(pt[i])\n",
    "    one_array = np.frombuffer(b,dtype=np.uint8)\n",
    "    pt_array.append(one_array)\n",
    "print(len(pt_array))\n",
    "print(len(pt_array[0]))\n",
    "print(pt_array[0])"
   ]
  },
  {
   "cell_type": "code",
   "execution_count": null,
   "id": "5ea6fe3e",
   "metadata": {},
   "outputs": [],
   "source": []
  }
 ],
 "metadata": {
  "kernelspec": {
   "display_name": "Python 3",
   "language": "python",
   "name": "python3"
  },
  "language_info": {
   "codemirror_mode": {
    "name": "ipython",
    "version": 3
   },
   "file_extension": ".py",
   "mimetype": "text/x-python",
   "name": "python",
   "nbconvert_exporter": "python",
   "pygments_lexer": "ipython3",
   "version": "3.8.8"
  }
 },
 "nbformat": 4,
 "nbformat_minor": 5
}
