{
 "cells": [
  {
   "cell_type": "code",
   "execution_count": 63,
   "id": "4532b64d",
   "metadata": {},
   "outputs": [
    {
     "name": "stdout",
     "output_type": "stream",
     "text": [
      "/home/zliu12/chipwhisperer-tvla\n"
     ]
    }
   ],
   "source": [
    "%cd /home/zliu12/chipwhisperer-tvla\n",
    "from chipwhisperer.common.utils import util\n",
    "from cwtvla.aes_cipher import AESCipher\n",
    "from tqdm.notebook import trange \n",
    "from cwtvla.ktp import pt_to_ct\n",
    "import numpy as np\n",
    "import binascii\n",
    "import csv \n",
    "import os\n",
    "\n",
    "with open('pico_512_b0_fix_random.csv', 'w', newline='') as outcsv:\n",
    "    writer = csv.writer(outcsv)\n",
    "    writer.writerow([\"group\",\"key\",\"input\",\"output\"])    \n",
    "    \n",
    "    for j in range (16):\n",
    "        key = util.hexStrToByteArray('00112233445566778899aabbccddeeff')\n",
    "        plaintext = '0'+str(hex(j)[2:])+'000000000000000000000000000000'\n",
    "        pt_hex = util.hexStrToByteArray(plaintext)\n",
    "        ciphertext = pt_to_ct(pt_hex, key)\n",
    "        ct_hex = ciphertext.hex()\n",
    "        writer.writerow([0,'00112233445566778899aabbccddeeff',plaintext,ct_hex])\n",
    "    for j in range (16,256):\n",
    "        key = util.hexStrToByteArray('00112233445566778899aabbccddeeff')\n",
    "        plaintext = str(hex(j)[2:])+'000000000000000000000000000000'\n",
    "        pt_hex = util.hexStrToByteArray(plaintext)\n",
    "        ciphertext = pt_to_ct(pt_hex, key)\n",
    "        ct_hex = ciphertext.hex()\n",
    "        writer.writerow([0,'00112233445566778899aabbccddeeff',plaintext,ct_hex])\n",
    "            \n",
    "    for j in range (16):\n",
    "        key = bytearray(os.urandom(1))\n",
    "        key_hex = key.hex()\n",
    "        key_full = str(key_hex)+'112233445566778899aabbccddeeff'\n",
    "        key_hex = util.hexStrToByteArray(key_full)\n",
    "        plaintext = '0'+str(hex(j)[2:])+'000000000000000000000000000000'\n",
    "        pt_hex = util.hexStrToByteArray(plaintext)\n",
    "        ciphertext = pt_to_ct(pt_hex, key_hex)\n",
    "        ct_hex = ciphertext.hex()\n",
    "        writer.writerow([0,key_full,plaintext,ct_hex])\n",
    "    for j in range (16,256):\n",
    "        key = bytearray(os.urandom(1))\n",
    "        key_hex = key.hex()\n",
    "        key_full = str(key_hex)+'112233445566778899aabbccddeeff'\n",
    "        key_hex = util.hexStrToByteArray(key_full)\n",
    "        plaintext = str(hex(j)[2:])+'000000000000000000000000000000'\n",
    "        pt_hex = util.hexStrToByteArray(plaintext)\n",
    "        ciphertext = pt_to_ct(pt_hex, key_hex)\n",
    "        ct_hex = ciphertext.hex()\n",
    "        writer.writerow([0,key_full,plaintext,ct_hex])"
   ]
  },
  {
   "cell_type": "code",
   "execution_count": null,
   "id": "ef41ce97",
   "metadata": {},
   "outputs": [],
   "source": []
  }
 ],
 "metadata": {
  "kernelspec": {
   "display_name": "Python 3",
   "language": "python",
   "name": "python3"
  },
  "language_info": {
   "codemirror_mode": {
    "name": "ipython",
    "version": 3
   },
   "file_extension": ".py",
   "mimetype": "text/x-python",
   "name": "python",
   "nbconvert_exporter": "python",
   "pygments_lexer": "ipython3",
   "version": "3.8.8"
  }
 },
 "nbformat": 4,
 "nbformat_minor": 5
}
